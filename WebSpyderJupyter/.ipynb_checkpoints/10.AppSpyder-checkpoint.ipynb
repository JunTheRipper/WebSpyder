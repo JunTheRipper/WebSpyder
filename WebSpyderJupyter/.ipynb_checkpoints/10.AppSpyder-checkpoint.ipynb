{
 "cells": [
  {
   "cell_type": "markdown",
   "metadata": {
    "collapsed": true,
    "pycharm": {
     "name": "#%% md\n"
    }
   },
   "source": [
    "# 10.AppSpyder App数据爬取专题\n",
    "\n",
    "## 1. Charles\n",
    "\n",
    "安装的界面效果\n",
    "\n",
    "![](CharlesSSL.jpg)\n",
    "![](CharlesSSLset.jpg)"
   ]
  }
 ],
 "metadata": {
  "kernelspec": {
   "display_name": "Python 3",
   "language": "python",
   "name": "python3"
  },
  "language_info": {
   "codemirror_mode": {
    "name": "ipython",
    "version": 3
   },
   "file_extension": ".py",
   "mimetype": "text/x-python",
   "name": "python",
   "nbconvert_exporter": "python",
   "pygments_lexer": "ipython3",
   "version": "3.8.2"
  }
 },
 "nbformat": 4,
 "nbformat_minor": 1
}

{
 "cells": [
  {
   "cell_type": "markdown",
   "metadata": {
    "collapsed": true,
    "pycharm": {
     "name": "#%% md\n"
    }
   },
   "source": [
    "# 5.Ajax 数据爬取\n",
    "\n",
    "   有时候我们在用 requests 抓取页面的时候，\n",
    "得到的结果可能和在浏览器中看到的不一样：\n",
    "在浏览器中可以看到正常显示的页面数据，但是使用requests得到的结果并没有。\n",
    "这是因为requests获取的都是原始的HTML文档,\n",
    "而浏览器中的页面则是经过JavaScript处理数据后生成的结果，\n",
    "这些数据的来源有多种，可能是通过Ajax加载的，\n",
    "可能是包含在HTML文档中的，\n",
    "也可能是经过JavaScript和特定算法计算后生成的。"
   ]
  }
 ],
 "metadata": {
  "kernelspec": {
   "display_name": "Python 3",
   "language": "python",
   "name": "python3"
  },
  "language_info": {
   "codemirror_mode": {
    "name": "ipython",
    "version": 3
   },
   "file_extension": ".py",
   "mimetype": "text/x-python",
   "name": "python",
   "nbconvert_exporter": "python",
   "pygments_lexer": "ipython3",
   "version": "3.8.2"
  }
 },
 "nbformat": 4,
 "nbformat_minor": 1
}

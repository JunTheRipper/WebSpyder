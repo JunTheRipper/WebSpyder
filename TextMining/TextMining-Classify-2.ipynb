{
 "cells": [
  {
   "cell_type": "markdown",
   "source": [
    "### 文本分类\n",
    "\n",
    "我们将使用KNN、决策树、朴素贝叶斯、SVM算法对社交媒体文本数据集进行相应的分类。\n",
    "\n",
    "#### 实验内容\n",
    "\n",
    "本次实验使用的基于第3节预处理和中文分词后的文本数据集weibo-processed-B.csv格式文件。\n",
    "\n",
    "\n",
    "第三方库："
   ],
   "metadata": {
    "collapsed": false
   }
  },
  {
   "cell_type": "code",
   "execution_count": null,
   "outputs": [],
   "source": [
    "import pandas as pd\n",
    "import numpy as np\n",
    "import jieba"
   ],
   "metadata": {
    "collapsed": false,
    "pycharm": {
     "name": "#%%\n"
    }
   }
  },
  {
   "cell_type": "code",
   "execution_count": null,
   "outputs": [],
   "source": [
    "#数据读取\n",
    "df_post = pd.read_csv(r\"weibo-processed-B.csv\",encoding=\"utf-8\")\n",
    "df_post.head(50)\n",
    "\n",
    "# df_post.head(50)"
   ],
   "metadata": {
    "collapsed": false,
    "pycharm": {
     "name": "#%%\n"
    }
   }
  },
  {
   "cell_type": "code",
   "execution_count": null,
   "outputs": [],
   "source": [
    "# import finalseg\n",
    "df_post=df_post.dropna(axis=0, subset= [\"微博内容\"])\n",
    "df_post.reset_index(drop=True,inplace=True)#drop=True：删除原行索引；inplace=True:在数据上进行更新\n",
    "print(df_post.isnull().any())\n",
    "print(df_post)"
   ],
   "metadata": {
    "collapsed": false,
    "pycharm": {
     "name": "#%%\n"
    }
   }
  },
  {
   "cell_type": "markdown",
   "source": [
    "## 数据集划分\n",
    "\n",
    "先导入相关库"
   ],
   "metadata": {
    "collapsed": false
   }
  },
  {
   "cell_type": "code",
   "execution_count": null,
   "outputs": [],
   "source": [
    "import itertools\n",
    "import matplotlib.pyplot as plt\n",
    "from sklearn.feature_extraction.text import CountVectorizer\n",
    "from sklearn.neighbors import KNeighborsClassifier\n",
    "from sklearn.metrics import confusion_matrix\n",
    "from sklearn.decomposition import PCA\n",
    "from sklearn.model_selection import cross_val_score,train_test_split"
   ],
   "metadata": {
    "collapsed": false,
    "pycharm": {
     "name": "#%%\n"
    }
   }
  },
  {
   "cell_type": "code",
   "execution_count": null,
   "outputs": [],
   "source": [
    "#设置停用词，构建词频矩阵\n",
    "stopwords = []\n",
    "for word in open('stopwords/cn_stopwords.txt','r',encoding='utf-8'):\n",
    "    stopwords.append(word.strip())\n",
    "def tokenizer(s):\n",
    "    words=[]\n",
    "    cut = jieba.cut(s)\n",
    "    for word in cut:\n",
    "        words.append(word)\n",
    "    return words\n",
    "count = CountVectorizer(tokenizer=tokenizer, stop_words=list(stopwords))\n",
    "countvector = count.fit_transform(df_post['微博内容']).toarray()\n",
    "c = 0\n",
    "print(countvector)\n",
    "print(countvector.shape)  #打印看看生成的词频矩阵相关参数\n",
    "for i in countvector[0]:\n",
    "    if i==1:\n",
    "        c+=1\n",
    "c"
   ],
   "metadata": {
    "collapsed": false,
    "pycharm": {
     "name": "#%%\n"
    }
   }
  },
  {
   "cell_type": "markdown",
   "source": [
    "利用PCA降维查看数据集分布，代码：\n"
   ],
   "metadata": {
    "collapsed": false
   }
  },
  {
   "cell_type": "code",
   "execution_count": null,
   "outputs": [],
   "source": [],
   "metadata": {
    "collapsed": false,
    "pycharm": {
     "name": "#%%\n"
    }
   }
  },
  {
   "cell_type": "markdown",
   "source": [
    "步骤 6\t数据集划分\n",
    "数据集划分的方法有：\n",
    "1.留出法；\n",
    "2.交叉验证法；\n",
    "3.自助法。\n",
    "对于本实验的数据集和任务，应该用什么方法处理呢？请具体分析三种方法哪一种更适合本实验。\n",
    "留出法：\n",
    "打印数据集标签统计数据，代码："
   ],
   "metadata": {
    "collapsed": false
   }
  },
  {
   "cell_type": "code",
   "execution_count": null,
   "outputs": [],
   "source": [
    "#y为标签列\n",
    "y = df_post['类标签']\n",
    "print(y)\n",
    "#X为去掉标签列的数据\n",
    "X = countvector\n",
    "print(X)\n",
    "print(\"X.shape\", X.shape)\n",
    "print(\"y.shape\", y.shape)"
   ],
   "metadata": {
    "collapsed": false,
    "pycharm": {
     "name": "#%%\n"
    }
   }
  },
  {
   "cell_type": "markdown",
   "source": [
    "利用train_test_split方法，将X,y随机划分为训练集（train_data），训练集标签（train_labels），测试集（test_data），试集标签（test_labels），\n",
    "\n",
    "按训练集：测试集=8:2的概率划分。"
   ],
   "metadata": {
    "collapsed": false
   }
  },
  {
   "cell_type": "code",
   "execution_count": null,
   "outputs": [],
   "source": [
    "train_data, test_data, train_labels, test_labels = train_test_split(X, y, test_size=0.2)\n",
    "print(\"train_data.shape\", train_data.shape)\n",
    "print(\"test_data.shape\", test_data.shape)\n",
    "print(\"train_labels.shape\", train_labels.shape)\n",
    "print(\"test_labels.shape\", test_labels.shape)"
   ],
   "metadata": {
    "collapsed": false,
    "pycharm": {
     "name": "#%%\n"
    }
   }
  },
  {
   "cell_type": "markdown",
   "source": [
    "### knn 分类"
   ],
   "metadata": {
    "collapsed": false
   }
  },
  {
   "cell_type": "code",
   "execution_count": null,
   "outputs": [],
   "source": [
    "kNN_classifier = KNeighborsClassifier(n_neighbors=5)#初始化k近邻算法对象\n",
    "kNN_classifier.fit(train_data,train_labels)#对训练集进行训练\n",
    "label_predict = kNN_classifier.predict(test_data)#对测试集进行预测\n",
    "\"\"\"预测结果\"\"\"\n",
    "print(\"Predict_rlt:\",label_predict)\n",
    "\"\"\"预测准确个数\"\"\"\n",
    "print(\"Correct_no:\",sum(label_predict==test_labels))\n",
    "\"\"\"预测准确率\"\"\"\n",
    "print(\"Accuracy:\",sum(label_predict==test_labels)/len(test_labels))\n",
    "\n",
    "from sklearn.metrics import classification_report # 结果预测评估模块\n",
    "print(classification_report(test_labels, label_predict))"
   ],
   "metadata": {
    "collapsed": false,
    "pycharm": {
     "name": "#%%\n"
    }
   }
  },
  {
   "cell_type": "markdown",
   "source": [
    "根据上面的代码我们看到，准确率有\n",
    "\n",
    "召回率有\n",
    "\n",
    "### 模型评估"
   ],
   "metadata": {
    "collapsed": false
   }
  },
  {
   "cell_type": "code",
   "execution_count": null,
   "outputs": [],
   "source": [
    "from sklearn.model_selection import cross_val_score\n",
    "knn = KNeighborsClassifier(n_neighbors=5)\n",
    "score_knn_accuracy = np.mean(cross_val_score(estimator=knn, X=X, y=y, cv=5, scoring='accuracy'))\n",
    "print(\"Score_accuracy:\",score_knn_accuracy)\n"
   ],
   "metadata": {
    "collapsed": false,
    "pycharm": {
     "name": "#%%\n"
    }
   }
  },
  {
   "cell_type": "markdown",
   "source": [
    "除了KNN分类算法，还有其他的分类算法，对比分析不同算法的结果。\n",
    "\n",
    "相关内容的原理和使用方法，请参考个人gitHub链接[https://github.com/JunTheRipper/Data-Mining-Access/blob/main/Summary-Of-Machine-Learning/B.sipervised-learning/B1.classification.ipynb](https://github.com/JunTheRipper/Data-Mining-Access/blob/main/Summary-Of-Machine-Learning/B.sipervised-learning/B1.classification.ipynb)\n",
    "\n",
    "#### 测试1： 决策树"
   ],
   "metadata": {
    "collapsed": false
   }
  },
  {
   "cell_type": "code",
   "execution_count": null,
   "outputs": [],
   "source": [
    "from sklearn.tree import DecisionTreeClassifier # 决策树分类器\n",
    "dtree = DecisionTreeClassifier()\n",
    "dtree.fit(train_data,train_labels)#对训练集进行训练\n",
    "label_predict = dtree.predict(test_data)#对测试集进行预测\n",
    "\"\"\"预测结果\"\"\"\n",
    "print(\"Predict_rlt:\",label_predict)\n",
    "\"\"\"预测准确个数\"\"\"\n",
    "print(\"Correct_no:\",sum(label_predict==test_labels))\n",
    "\"\"\"预测准确率\"\"\"\n",
    "print(\"Accuracy:\",sum(label_predict==test_labels)/len(test_labels))\n",
    "\n",
    "# from sklearn.metrics import classification_report # 结果预测评估模块\n",
    "print(classification_report(test_labels, label_predict))"
   ],
   "metadata": {
    "collapsed": false,
    "pycharm": {
     "name": "#%%\n"
    }
   }
  },
  {
   "cell_type": "code",
   "execution_count": null,
   "outputs": [],
   "source": [
    "# 对决策树模型交叉验证\n",
    "from sklearn.tree import DecisionTreeClassifier # 决策树分类器\n",
    "dtree = DecisionTreeClassifier()\n",
    "dtree.fit(train_data,train_labels)#对训练集进行训练\n",
    "label_predict = dtree.predict(test_data)#对测试集进行预测\n",
    "\"\"\"预测结果\"\"\"\n",
    "print(\"Predict_rlt:\",label_predict)\n",
    "\"\"\"预测准确个数\"\"\"\n",
    "print(\"Correct_no:\",sum(label_predict==test_labels))\n",
    "\"\"\"预测准确率\"\"\"\n",
    "print(\"Accuracy:\",sum(label_predict==test_labels)/len(test_labels))\n",
    "\n",
    "# from sklearn.metrics import classification_report # 结果预测评估模块\n",
    "print(classification_report(test_labels, label_predict))"
   ],
   "metadata": {
    "collapsed": false,
    "pycharm": {
     "name": "#%%\n"
    }
   }
  },
  {
   "cell_type": "markdown",
   "source": [
    "测试中我们可以看到：\n",
    "\n",
    "\n",
    "#### 测试2： 朴素贝叶斯模型 —— 高斯模型"
   ],
   "metadata": {
    "collapsed": false
   }
  },
  {
   "cell_type": "code",
   "execution_count": null,
   "outputs": [],
   "source": [
    "from sklearn.naive_bayes import GaussianNB\n",
    "# 对高斯模型交叉验证\n",
    "gNB = GaussianNB()\n",
    "gNB.fit(train_data,train_labels)#对训练集进行训练\n",
    "label_predict = gNB.predict(test_data)#对测试集进行预测\n",
    "\"\"\"预测结果\"\"\"\n",
    "print(\"Predict_rlt:\",label_predict)\n",
    "\"\"\"预测准确个数\"\"\"\n",
    "print(\"Correct_no:\",sum(label_predict==test_labels))\n",
    "\"\"\"预测准确率\"\"\"\n",
    "print(\"Accuracy:\",sum(label_predict==test_labels)/len(test_labels))\n",
    "\n",
    "# from sklearn.metrics import classification_report # 结果预测评估模块\n",
    "print(classification_report(test_labels, label_predict))"
   ],
   "metadata": {
    "collapsed": false,
    "pycharm": {
     "name": "#%%\n"
    }
   }
  },
  {
   "cell_type": "markdown",
   "source": [
    "测试中我们可以看到：\n",
    "\n",
    "\n",
    "#### 测试3： 朴素贝叶斯模型 —— 多元伯努利模型"
   ],
   "metadata": {
    "collapsed": false
   }
  },
  {
   "cell_type": "code",
   "execution_count": null,
   "outputs": [],
   "source": [
    "from sklearn.naive_bayes import BernoulliNB\n",
    "gNB = BernoulliNB()\n",
    "gNB.fit(train_data,train_labels)#对训练集进行训练\n",
    "label_predict = gNB.predict(test_data)#对测试集进行预测\n",
    "\"\"\"预测结果\"\"\"\n",
    "print(\"Predict_rlt:\",label_predict)\n",
    "\"\"\"预测准确个数\"\"\"\n",
    "print(\"Correct_no:\",sum(label_predict==test_labels))\n",
    "\"\"\"预测准确率\"\"\"\n",
    "print(\"Accuracy:\",sum(label_predict==test_labels)/len(test_labels))\n",
    "\n",
    "# from sklearn.metrics import classification_report # 结果预测评估模块\n",
    "print(classification_report(test_labels, label_predict))"
   ],
   "metadata": {
    "collapsed": false,
    "pycharm": {
     "name": "#%%\n"
    }
   }
  },
  {
   "cell_type": "markdown",
   "source": [
    "测试中我们可以看到：\n",
    "\n",
    "\n",
    "#### 测试4： 支持向量机"
   ],
   "metadata": {
    "collapsed": false
   }
  },
  {
   "cell_type": "code",
   "execution_count": null,
   "outputs": [],
   "source": [
    "from sklearn import svm\n",
    "clf = svm.SVC(C=0.8, kernel='rbf', gamma=20, decision_function_shape='ovr')\n",
    "## 测试的同学自己改一下数据看看效果\n",
    "print('Start training SVM')\n",
    "clf = clf.fit(train_data,train_labels)#对训练集进行训练\n",
    "label_predict = clf.predict(test_data)#对测试集进行预测\n",
    "\"\"\"预测结果\"\"\"\n",
    "print(\"Predict_rlt:\",label_predict)\n",
    "\"\"\"预测准确个数\"\"\"\n",
    "print(\"Correct_no:\",sum(label_predict==test_labels))\n",
    "\"\"\"预测准确率\"\"\"\n",
    "print(\"Accuracy:\",sum(label_predict==test_labels)/len(test_labels))\n",
    "\n",
    "# from sklearn.metrics import classification_report # 结果预测评估模块\n",
    "print(classification_report(test_labels, label_predict))"
   ],
   "metadata": {
    "collapsed": false,
    "pycharm": {
     "name": "#%%\n"
    }
   }
  },
  {
   "cell_type": "markdown",
   "source": [
    "关于这几个模型，做个比较和总结：\n",
    "\n",
    "\n",
    "\n",
    "\n"
   ],
   "metadata": {
    "collapsed": false
   }
  }
 ],
 "metadata": {
  "kernelspec": {
   "display_name": "Python 3",
   "language": "python",
   "name": "python3"
  },
  "language_info": {
   "codemirror_mode": {
    "name": "ipython",
    "version": 2
   },
   "file_extension": ".py",
   "mimetype": "text/x-python",
   "name": "python",
   "nbconvert_exporter": "python",
   "pygments_lexer": "ipython2",
   "version": "2.7.6"
  }
 },
 "nbformat": 4,
 "nbformat_minor": 0
}
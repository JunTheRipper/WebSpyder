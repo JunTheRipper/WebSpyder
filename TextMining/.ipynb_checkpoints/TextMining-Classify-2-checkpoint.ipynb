{
 "cells": [
  {
   "cell_type": "markdown",
   "metadata": {},
   "source": [
    "### 文本分类\n",
    "\n",
    "我们将使用KNN、决策树、朴素贝叶斯、SVM算法对社交媒体文本数据集进行相应的分类。\n",
    "\n",
    "#### 实验内容\n",
    "\n",
    "本次实验使用的基于第3节预处理和中文分词后的文本数据集weibo-processed-B.csv格式文件。\n",
    "\n",
    "对文件去重和去缺失分割后的4w+条数据，产生了相关的子csv格式文件，请查看SplitData文件夹。\n",
    "\n",
    "在本 jupyter 中尝试选择一个作为样本\n",
    "\n",
    "第三方库："
   ]
  },
  {
   "cell_type": "code",
   "execution_count": 1,
   "metadata": {
    "pycharm": {
     "name": "#%%\n"
    }
   },
   "outputs": [],
   "source": [
    "import pandas as pd\n",
    "import numpy as np\n",
    "import jieba"
   ]
  },
  {
   "cell_type": "code",
   "execution_count": 2,
   "metadata": {
    "pycharm": {
     "name": "#%%\n"
    }
   },
   "outputs": [
    {
     "data": {
      "text/html": [
       "<div>\n",
       "<style scoped>\n",
       "    .dataframe tbody tr th:only-of-type {\n",
       "        vertical-align: middle;\n",
       "    }\n",
       "\n",
       "    .dataframe tbody tr th {\n",
       "        vertical-align: top;\n",
       "    }\n",
       "\n",
       "    .dataframe thead th {\n",
       "        text-align: right;\n",
       "    }\n",
       "</style>\n",
       "<table border=\"1\" class=\"dataframe\">\n",
       "  <thead>\n",
       "    <tr style=\"text-align: right;\">\n",
       "      <th></th>\n",
       "      <th>微博内容</th>\n",
       "      <th>类标签</th>\n",
       "    </tr>\n",
       "  </thead>\n",
       "  <tbody>\n",
       "    <tr>\n",
       "      <th>0</th>\n",
       "      <td>王一博497今天也在努力生活了当然对比一下王一博我觉得我的人生过得大概可以算是特别轻松了就保...</td>\n",
       "      <td>1</td>\n",
       "    </tr>\n",
       "    <tr>\n",
       "      <th>1</th>\n",
       "      <td>北京新增10例麻酱饼说好的雪呢新冠北京身边事北京爆料钟南山称cdc的地位太低了2北京</td>\n",
       "      <td>3</td>\n",
       "    </tr>\n",
       "    <tr>\n",
       "      <th>2</th>\n",
       "      <td>原神三个广告真的好评</td>\n",
       "      <td>2</td>\n",
       "    </tr>\n",
       "    <tr>\n",
       "      <th>3</th>\n",
       "      <td>名品痣今天小葵翻煎饼了吗中国少年如水沉谧从这里走出去一身锐利音乐为弓街头人潮市井马龙间是文化...</td>\n",
       "      <td>0</td>\n",
       "    </tr>\n",
       "    <tr>\n",
       "      <th>4</th>\n",
       "      <td>魈wehaveajobtodo原神</td>\n",
       "      <td>2</td>\n",
       "    </tr>\n",
       "    <tr>\n",
       "      <th>5</th>\n",
       "      <td>原神原神尘世的光影</td>\n",
       "      <td>2</td>\n",
       "    </tr>\n",
       "    <tr>\n",
       "      <th>6</th>\n",
       "      <td>原神11剧情即视感图片来源推特原神原神</td>\n",
       "      <td>2</td>\n",
       "    </tr>\n",
       "    <tr>\n",
       "      <th>7</th>\n",
       "      <td>王一博wyb王一博王一博天天向上你喜欢玩滑板我尝试过虽不精但甚喜欢你喜欢尺螺蛳粉好巧我喜欢上...</td>\n",
       "      <td>1</td>\n",
       "    </tr>\n",
       "    <tr>\n",
       "      <th>8</th>\n",
       "      <td>这次的情敌可不是开玩笑哦王一博</td>\n",
       "      <td>1</td>\n",
       "    </tr>\n",
       "    <tr>\n",
       "      <th>9</th>\n",
       "      <td>原神我操</td>\n",
       "      <td>2</td>\n",
       "    </tr>\n",
       "    <tr>\n",
       "      <th>10</th>\n",
       "      <td>啊啊啊啊啊啊啊啊</td>\n",
       "      <td>0</td>\n",
       "    </tr>\n",
       "    <tr>\n",
       "      <th>11</th>\n",
       "      <td>新冠抗疫行动北京疫情经过一个多小时的疏导好像看开了好多东西回家以后也想了好多不管怎么样你们都...</td>\n",
       "      <td>3</td>\n",
       "    </tr>\n",
       "    <tr>\n",
       "      <th>12</th>\n",
       "      <td>来啦12月守护爱豆王一博wyb王一博摩托姐姐守护王一博冲UNIQ王一博</td>\n",
       "      <td>1</td>\n",
       "    </tr>\n",
       "    <tr>\n",
       "      <th>13</th>\n",
       "      <td>国庆假期第四天已收纳的小电风扇又返竹岗工作做做家务锻炼身体也是度假的好方式全国乒乓球锦标赛今...</td>\n",
       "      <td>0</td>\n",
       "    </tr>\n",
       "    <tr>\n",
       "      <th>14</th>\n",
       "      <td>愿疫情早点结束武汉加油重庆加油NASA立扫把挑战武汉新冠2重庆茶园新区L扶不起的那笨瓜的微博视频</td>\n",
       "      <td>3</td>\n",
       "    </tr>\n",
       "    <tr>\n",
       "      <th>15</th>\n",
       "      <td>新浪乒乓球马龙现在新生代的冲击都是正常的也希望自己能从他们学到一些东西全国乒乓球锦标赛202...</td>\n",
       "      <td>0</td>\n",
       "    </tr>\n",
       "    <tr>\n",
       "      <th>16</th>\n",
       "      <td>两只喵想躲在自己的世界恭喜你吃了吗171名用户获得马龙签名狂飙龙5球拍微博官方唯一抽奖工具微...</td>\n",
       "      <td>0</td>\n",
       "    </tr>\n",
       "    <tr>\n",
       "      <th>17</th>\n",
       "      <td>罗三炮猪马龙首席合作伙伴</td>\n",
       "      <td>0</td>\n",
       "    </tr>\n",
       "    <tr>\n",
       "      <th>18</th>\n",
       "      <td>原神终于出刻晴啦开心</td>\n",
       "      <td>2</td>\n",
       "    </tr>\n",
       "    <tr>\n",
       "      <th>19</th>\n",
       "      <td>新冠关于新冠肺炎意大利南部奶奶的建议真的是贴心又有趣建议都看下哦疫情一定会过去让我们互相帮助...</td>\n",
       "      <td>3</td>\n",
       "    </tr>\n",
       "    <tr>\n",
       "      <th>20</th>\n",
       "      <td>原神摩拉克斯魈图片来自推特已授权链接O网页链接原神原神</td>\n",
       "      <td>2</td>\n",
       "    </tr>\n",
       "    <tr>\n",
       "      <th>21</th>\n",
       "      <td>全民免费接种新冠病毒疫苗4个最新消息北京同心抗疫为爱而行健康科普汇北京疾控提醒您健康北京战疫...</td>\n",
       "      <td>3</td>\n",
       "    </tr>\n",
       "    <tr>\n",
       "      <th>22</th>\n",
       "      <td>是丽莎她总叫我小可爱此时大家一定在想这是哪个菜狗画画指绘原神丽莎同人</td>\n",
       "      <td>2</td>\n",
       "    </tr>\n",
       "    <tr>\n",
       "      <th>23</th>\n",
       "      <td>我正在游戏新春市集抢原神的礼包晒游戏最牛道具赢原神游戏福利11O游戏新春市集原神</td>\n",
       "      <td>2</td>\n",
       "    </tr>\n",
       "    <tr>\n",
       "      <th>24</th>\n",
       "      <td>原神bgm太好听了</td>\n",
       "      <td>2</td>\n",
       "    </tr>\n",
       "    <tr>\n",
       "      <th>25</th>\n",
       "      <td>新生儿疫苗萌娃养成记关于新生儿疫苗接种你是否有以下疑问接种疫苗后是不是就一定不得传染病了孩子...</td>\n",
       "      <td>3</td>\n",
       "    </tr>\n",
       "    <tr>\n",
       "      <th>26</th>\n",
       "      <td>原神为啥上热搜</td>\n",
       "      <td>2</td>\n",
       "    </tr>\n",
       "    <tr>\n",
       "      <th>27</th>\n",
       "      <td>王一博麻烦你用笑容治愈我吧O绿洲</td>\n",
       "      <td>1</td>\n",
       "    </tr>\n",
       "    <tr>\n",
       "      <th>28</th>\n",
       "      <td>陈情令肖战王一博晚上享受电影般的视觉效果是给自己的小小私人空间大屏电脑和好的音箱是必须的天呀...</td>\n",
       "      <td>1</td>\n",
       "    </tr>\n",
       "    <tr>\n",
       "      <th>29</th>\n",
       "      <td>肖战王一博因为陈情令爱上你们的颜和演技但是更爱看你们越来越好往后会更好所以不管是怎样的你们我...</td>\n",
       "      <td>1</td>\n",
       "    </tr>\n",
       "    <tr>\n",
       "      <th>30</th>\n",
       "      <td>王一博wyb王一博平安喜乐好心疼啊看一博捂着胃要哭了一博一定要照顾好自己好好吃饭胃不好一定要...</td>\n",
       "      <td>1</td>\n",
       "    </tr>\n",
       "    <tr>\n",
       "      <th>31</th>\n",
       "      <td>晶视频戴眼镜不容易得新冠最新研究称戴眼镜者感染几率较低中国研究人员在美国医学会杂志眼科学卷上...</td>\n",
       "      <td>3</td>\n",
       "    </tr>\n",
       "    <tr>\n",
       "      <th>32</th>\n",
       "      <td>2018中国乒乓球队瑞典团体世乒赛热身赛赛程男队4月15日1430男一队vs男四队男一队马龙...</td>\n",
       "      <td>0</td>\n",
       "    </tr>\n",
       "    <tr>\n",
       "      <th>33</th>\n",
       "      <td>重复笑肖战王一博</td>\n",
       "      <td>1</td>\n",
       "    </tr>\n",
       "    <tr>\n",
       "      <th>34</th>\n",
       "      <td>原神目前来说大家认为真正意义上的专武有哪些</td>\n",
       "      <td>2</td>\n",
       "    </tr>\n",
       "    <tr>\n",
       "      <th>35</th>\n",
       "      <td>新冠深圳防疫急寻同车密接者经过深圳惠州潮汕等地3月14日福建省厦门市通报新型冠状病毒肺炎疫情...</td>\n",
       "      <td>3</td>\n",
       "    </tr>\n",
       "    <tr>\n",
       "      <th>36</th>\n",
       "      <td>借火柴的小纸团儿我死亡西瓜冰茶来一杯亲亲阿盐啊真可爱了果窖_1988马龙这一眼看过来基本无人...</td>\n",
       "      <td>0</td>\n",
       "    </tr>\n",
       "    <tr>\n",
       "      <th>37</th>\n",
       "      <td>安柏twinaha07455336原神二次元推</td>\n",
       "      <td>2</td>\n",
       "    </tr>\n",
       "    <tr>\n",
       "      <th>38</th>\n",
       "      <td>注意啦多家保险公司延长拓展新冠保障时间疫情再度严峻内蒙古赤峰市进入战时状态河北疫情梧桐君提醒...</td>\n",
       "      <td>3</td>\n",
       "    </tr>\n",
       "    <tr>\n",
       "      <th>39</th>\n",
       "      <td>原神圣遗物笑话系列呦呦呦这不是双暴攻圣遗物嘛鬼原神原神</td>\n",
       "      <td>2</td>\n",
       "    </tr>\n",
       "    <tr>\n",
       "      <th>40</th>\n",
       "      <td>原神大家比较绝缘的四星角色是谁</td>\n",
       "      <td>2</td>\n",
       "    </tr>\n",
       "    <tr>\n",
       "      <th>41</th>\n",
       "      <td>JK罗琳出现新冠症状后康复著名哈利波特系列小说作者JK罗琳发推表示她在过去的两个星期经历了所...</td>\n",
       "      <td>3</td>\n",
       "    </tr>\n",
       "    <tr>\n",
       "      <th>42</th>\n",
       "      <td>永远的Vicky回复感情在左那不是奥运临近没有时间给他慢慢康复了吗人家做个微创手术都要恢复个...</td>\n",
       "      <td>0</td>\n",
       "    </tr>\n",
       "    <tr>\n",
       "      <th>43</th>\n",
       "      <td>近日芬兰因出现变异新冠病毒导致该国疫情持续恶化鉴于此当局决定宣布进入紧急状态芬兰政府将有权关...</td>\n",
       "      <td>3</td>\n",
       "    </tr>\n",
       "    <tr>\n",
       "      <th>44</th>\n",
       "      <td>原神有没有大佬告诉我咋整</td>\n",
       "      <td>2</td>\n",
       "    </tr>\n",
       "    <tr>\n",
       "      <th>45</th>\n",
       "      <td>马龙也开始好好拍mv了新专质量爆炸</td>\n",
       "      <td>0</td>\n",
       "    </tr>\n",
       "    <tr>\n",
       "      <th>46</th>\n",
       "      <td>悬空术嘛原神原神</td>\n",
       "      <td>2</td>\n",
       "    </tr>\n",
       "    <tr>\n",
       "      <th>47</th>\n",
       "      <td>原神150点血的我在神像面前变成了穿山甲L叫我孔方大人的微博视频</td>\n",
       "      <td>2</td>\n",
       "    </tr>\n",
       "    <tr>\n",
       "      <th>48</th>\n",
       "      <td>原神原神魈今日份高兴</td>\n",
       "      <td>2</td>\n",
       "    </tr>\n",
       "    <tr>\n",
       "      <th>49</th>\n",
       "      <td>王一博哇先马着</td>\n",
       "      <td>1</td>\n",
       "    </tr>\n",
       "  </tbody>\n",
       "</table>\n",
       "</div>"
      ],
      "text/plain": [
       "                                                 微博内容  类标签\n",
       "0   王一博497今天也在努力生活了当然对比一下王一博我觉得我的人生过得大概可以算是特别轻松了就保...    1\n",
       "1          北京新增10例麻酱饼说好的雪呢新冠北京身边事北京爆料钟南山称cdc的地位太低了2北京    3\n",
       "2                                          原神三个广告真的好评    2\n",
       "3   名品痣今天小葵翻煎饼了吗中国少年如水沉谧从这里走出去一身锐利音乐为弓街头人潮市井马龙间是文化...    0\n",
       "4                                   魈wehaveajobtodo原神    2\n",
       "5                                           原神原神尘世的光影    2\n",
       "6                                 原神11剧情即视感图片来源推特原神原神    2\n",
       "7   王一博wyb王一博王一博天天向上你喜欢玩滑板我尝试过虽不精但甚喜欢你喜欢尺螺蛳粉好巧我喜欢上...    1\n",
       "8                                     这次的情敌可不是开玩笑哦王一博    1\n",
       "9                                                原神我操    2\n",
       "10                                           啊啊啊啊啊啊啊啊    0\n",
       "11  新冠抗疫行动北京疫情经过一个多小时的疏导好像看开了好多东西回家以后也想了好多不管怎么样你们都...    3\n",
       "12                来啦12月守护爱豆王一博wyb王一博摩托姐姐守护王一博冲UNIQ王一博    1\n",
       "13  国庆假期第四天已收纳的小电风扇又返竹岗工作做做家务锻炼身体也是度假的好方式全国乒乓球锦标赛今...    0\n",
       "14   愿疫情早点结束武汉加油重庆加油NASA立扫把挑战武汉新冠2重庆茶园新区L扶不起的那笨瓜的微博视频    3\n",
       "15  新浪乒乓球马龙现在新生代的冲击都是正常的也希望自己能从他们学到一些东西全国乒乓球锦标赛202...    0\n",
       "16  两只喵想躲在自己的世界恭喜你吃了吗171名用户获得马龙签名狂飙龙5球拍微博官方唯一抽奖工具微...    0\n",
       "17                                       罗三炮猪马龙首席合作伙伴    0\n",
       "18                                         原神终于出刻晴啦开心    2\n",
       "19  新冠关于新冠肺炎意大利南部奶奶的建议真的是贴心又有趣建议都看下哦疫情一定会过去让我们互相帮助...    3\n",
       "20                        原神摩拉克斯魈图片来自推特已授权链接O网页链接原神原神    2\n",
       "21  全民免费接种新冠病毒疫苗4个最新消息北京同心抗疫为爱而行健康科普汇北京疾控提醒您健康北京战疫...    3\n",
       "22                 是丽莎她总叫我小可爱此时大家一定在想这是哪个菜狗画画指绘原神丽莎同人    2\n",
       "23           我正在游戏新春市集抢原神的礼包晒游戏最牛道具赢原神游戏福利11O游戏新春市集原神    2\n",
       "24                                          原神bgm太好听了    2\n",
       "25  新生儿疫苗萌娃养成记关于新生儿疫苗接种你是否有以下疑问接种疫苗后是不是就一定不得传染病了孩子...    3\n",
       "26                                            原神为啥上热搜    2\n",
       "27                                   王一博麻烦你用笑容治愈我吧O绿洲    1\n",
       "28  陈情令肖战王一博晚上享受电影般的视觉效果是给自己的小小私人空间大屏电脑和好的音箱是必须的天呀...    1\n",
       "29  肖战王一博因为陈情令爱上你们的颜和演技但是更爱看你们越来越好往后会更好所以不管是怎样的你们我...    1\n",
       "30  王一博wyb王一博平安喜乐好心疼啊看一博捂着胃要哭了一博一定要照顾好自己好好吃饭胃不好一定要...    1\n",
       "31  晶视频戴眼镜不容易得新冠最新研究称戴眼镜者感染几率较低中国研究人员在美国医学会杂志眼科学卷上...    3\n",
       "32  2018中国乒乓球队瑞典团体世乒赛热身赛赛程男队4月15日1430男一队vs男四队男一队马龙...    0\n",
       "33                                           重复笑肖战王一博    1\n",
       "34                              原神目前来说大家认为真正意义上的专武有哪些    2\n",
       "35  新冠深圳防疫急寻同车密接者经过深圳惠州潮汕等地3月14日福建省厦门市通报新型冠状病毒肺炎疫情...    3\n",
       "36  借火柴的小纸团儿我死亡西瓜冰茶来一杯亲亲阿盐啊真可爱了果窖_1988马龙这一眼看过来基本无人...    0\n",
       "37                            安柏twinaha07455336原神二次元推    2\n",
       "38  注意啦多家保险公司延长拓展新冠保障时间疫情再度严峻内蒙古赤峰市进入战时状态河北疫情梧桐君提醒...    3\n",
       "39                        原神圣遗物笑话系列呦呦呦这不是双暴攻圣遗物嘛鬼原神原神    2\n",
       "40                                    原神大家比较绝缘的四星角色是谁    2\n",
       "41  JK罗琳出现新冠症状后康复著名哈利波特系列小说作者JK罗琳发推表示她在过去的两个星期经历了所...    3\n",
       "42  永远的Vicky回复感情在左那不是奥运临近没有时间给他慢慢康复了吗人家做个微创手术都要恢复个...    0\n",
       "43  近日芬兰因出现变异新冠病毒导致该国疫情持续恶化鉴于此当局决定宣布进入紧急状态芬兰政府将有权关...    3\n",
       "44                                       原神有没有大佬告诉我咋整    2\n",
       "45                                  马龙也开始好好拍mv了新专质量爆炸    0\n",
       "46                                           悬空术嘛原神原神    2\n",
       "47                   原神150点血的我在神像面前变成了穿山甲L叫我孔方大人的微博视频    2\n",
       "48                                         原神原神魈今日份高兴    2\n",
       "49                                            王一博哇先马着    1"
      ]
     },
     "execution_count": 2,
     "metadata": {},
     "output_type": "execute_result"
    }
   ],
   "source": [
    "#数据读取\n",
    "df_post = pd.read_csv(r\"SpiltData/allDataRandom_1.csv\",encoding=\"utf-8\")\n",
    "df_post.head(50)\n",
    "\n",
    "# df_post.head(50)"
   ]
  },
  {
   "cell_type": "code",
   "execution_count": 3,
   "metadata": {
    "pycharm": {
     "name": "#%%\n"
    }
   },
   "outputs": [
    {
     "name": "stdout",
     "output_type": "stream",
     "text": [
      "微博内容    False\n",
      "类标签     False\n",
      "dtype: bool\n",
      "                                                   微博内容  类标签\n",
      "0     王一博497今天也在努力生活了当然对比一下王一博我觉得我的人生过得大概可以算是特别轻松了就保...    1\n",
      "1            北京新增10例麻酱饼说好的雪呢新冠北京身边事北京爆料钟南山称cdc的地位太低了2北京    3\n",
      "2                                            原神三个广告真的好评    2\n",
      "3     名品痣今天小葵翻煎饼了吗中国少年如水沉谧从这里走出去一身锐利音乐为弓街头人潮市井马龙间是文化...    0\n",
      "4                                     魈wehaveajobtodo原神    2\n",
      "...                                                 ...  ...\n",
      "4995  央视记者探访新冠疫苗生产车间1分钟下线300支这就是中国速度吧新冠疫苗新冠L带你走近白衣天使...    3\n",
      "4996                            Withoutfeelings王一博恭喜王一博    1\n",
      "4997  守护健康为彼此负责北京同心抗疫为爱而行健康科普汇北京疾控提醒您健康北京战疫有我北京战疫新冠肺...    3\n",
      "4998     论欧美哪些的男星颜值最高我心中是小李子皮特马龙白兰度年轻时候的德普还有年轻时候的精灵王子开花    0\n",
      "4999  码一个砂糖爱吃芋泥下一期PO合唱合唱合唱丽质因没有心下一期坂本龙一大写E帝下一期post马龙...    0\n",
      "\n",
      "[5000 rows x 2 columns]\n"
     ]
    }
   ],
   "source": [
    "# import finalseg\n",
    "df_post=df_post.dropna(axis=0, subset= [\"微博内容\"])\n",
    "df_post.reset_index(drop=True,inplace=True)#drop=True：删除原行索引；inplace=True:在数据上进行更新\n",
    "print(df_post.isnull().any())\n",
    "print(df_post)"
   ]
  },
  {
   "cell_type": "markdown",
   "metadata": {},
   "source": [
    "## 数据集划分\n",
    "\n",
    "先导入相关库"
   ]
  },
  {
   "cell_type": "code",
   "execution_count": 4,
   "metadata": {
    "pycharm": {
     "name": "#%%\n"
    }
   },
   "outputs": [],
   "source": [
    "import itertools\n",
    "import matplotlib.pyplot as plt\n",
    "from sklearn.feature_extraction.text import CountVectorizer\n",
    "from sklearn.neighbors import KNeighborsClassifier\n",
    "from sklearn.metrics import confusion_matrix\n",
    "from sklearn.decomposition import PCA\n",
    "from sklearn.model_selection import cross_val_score,train_test_split"
   ]
  },
  {
   "cell_type": "code",
   "execution_count": 5,
   "metadata": {
    "pycharm": {
     "name": "#%%\n"
    }
   },
   "outputs": [
    {
     "name": "stderr",
     "output_type": "stream",
     "text": [
      "Building prefix dict from the default dictionary ...\n",
      "Loading model from cache C:\\Users\\admin\\AppData\\Local\\Temp\\jieba.cache\n",
      "Loading model cost 1.055 seconds.\n",
      "Prefix dict has been built successfully.\n",
      "F:\\Anaconda3\\lib\\site-packages\\sklearn\\feature_extraction\\text.py:388: UserWarning: Your stop_words may be inconsistent with your preprocessing. Tokenizing the stop words generated tokens ['傥', '兼', '前', '唷', '啪', '啷', '喔', '天', '始', '漫', '然', '特', '竟', '莫', '见', '设', '说', '达', '非'] not in stop_words.\n",
      "  warnings.warn('Your stop_words may be inconsistent with '\n"
     ]
    },
    {
     "name": "stdout",
     "output_type": "stream",
     "text": [
      "[[0 0 0 ... 0 0 0]\n",
      " [0 0 0 ... 0 0 0]\n",
      " [0 0 0 ... 0 0 0]\n",
      " ...\n",
      " [0 0 0 ... 0 0 0]\n",
      " [0 0 0 ... 0 0 0]\n",
      " [0 0 0 ... 0 0 0]]\n",
      "(5000, 30152)\n"
     ]
    },
    {
     "data": {
      "text/plain": [
       "21"
      ]
     },
     "execution_count": 5,
     "metadata": {},
     "output_type": "execute_result"
    }
   ],
   "source": [
    "#设置停用词，构建词频矩阵\n",
    "stopwords = []\n",
    "for word in open('stopwords/cn_stopwords.txt','r',encoding='utf-8'):\n",
    "    stopwords.append(word.strip())\n",
    "def tokenizer(s):\n",
    "    words=[]\n",
    "    cut = jieba.cut(s)\n",
    "    for word in cut:\n",
    "        words.append(word)\n",
    "    return words\n",
    "count = CountVectorizer(tokenizer=tokenizer, stop_words=list(stopwords))\n",
    "countvector = count.fit_transform(df_post['微博内容']).toarray()\n",
    "c = 0\n",
    "print(countvector)\n",
    "print(countvector.shape)  #打印看看生成的词频矩阵相关参数\n",
    "for i in countvector[0]:\n",
    "    if i==1:\n",
    "        c+=1\n",
    "c"
   ]
  },
  {
   "cell_type": "markdown",
   "metadata": {},
   "source": [
    "利用PCA降维查看数据集分布，代码：\n"
   ]
  },
  {
   "cell_type": "code",
   "execution_count": null,
   "metadata": {
    "pycharm": {
     "name": "#%%\n"
    }
   },
   "outputs": [],
   "source": []
  },
  {
   "cell_type": "markdown",
   "metadata": {},
   "source": [
    "步骤 6\t数据集划分\n",
    "数据集划分的方法有：\n",
    "1.留出法；\n",
    "2.交叉验证法；\n",
    "3.自助法。\n",
    "对于本实验的数据集和任务，应该用什么方法处理呢？请具体分析三种方法哪一种更适合本实验。\n",
    "留出法：\n",
    "打印数据集标签统计数据，代码："
   ]
  },
  {
   "cell_type": "code",
   "execution_count": 6,
   "metadata": {
    "pycharm": {
     "name": "#%%\n"
    }
   },
   "outputs": [
    {
     "name": "stdout",
     "output_type": "stream",
     "text": [
      "0       1\n",
      "1       3\n",
      "2       2\n",
      "3       0\n",
      "4       2\n",
      "       ..\n",
      "4995    3\n",
      "4996    1\n",
      "4997    3\n",
      "4998    0\n",
      "4999    0\n",
      "Name: 类标签, Length: 5000, dtype: int64\n",
      "[[0 0 0 ... 0 0 0]\n",
      " [0 0 0 ... 0 0 0]\n",
      " [0 0 0 ... 0 0 0]\n",
      " ...\n",
      " [0 0 0 ... 0 0 0]\n",
      " [0 0 0 ... 0 0 0]\n",
      " [0 0 0 ... 0 0 0]]\n",
      "X.shape (5000, 30152)\n",
      "y.shape (5000,)\n"
     ]
    }
   ],
   "source": [
    "#y为标签列\n",
    "y = df_post['类标签']\n",
    "print(y)\n",
    "#X为去掉标签列的数据\n",
    "X = countvector\n",
    "print(X)\n",
    "print(\"X.shape\", X.shape)\n",
    "print(\"y.shape\", y.shape)"
   ]
  },
  {
   "cell_type": "markdown",
   "metadata": {},
   "source": [
    "利用train_test_split方法，将X,y随机划分为训练集（train_data），训练集标签（train_labels），测试集（test_data），试集标签（test_labels），\n",
    "\n",
    "按训练集：测试集=8:2的概率划分。"
   ]
  },
  {
   "cell_type": "code",
   "execution_count": 7,
   "metadata": {
    "pycharm": {
     "name": "#%%\n"
    }
   },
   "outputs": [
    {
     "name": "stdout",
     "output_type": "stream",
     "text": [
      "train_data.shape (4000, 30152)\n",
      "test_data.shape (1000, 30152)\n",
      "train_labels.shape (4000,)\n",
      "test_labels.shape (1000,)\n"
     ]
    }
   ],
   "source": [
    "train_data, test_data, train_labels, test_labels = train_test_split(X, y, test_size=0.2)\n",
    "print(\"train_data.shape\", train_data.shape)\n",
    "print(\"test_data.shape\", test_data.shape)\n",
    "print(\"train_labels.shape\", train_labels.shape)\n",
    "print(\"test_labels.shape\", test_labels.shape)"
   ]
  },
  {
   "cell_type": "markdown",
   "metadata": {},
   "source": [
    "### knn 分类"
   ]
  },
  {
   "cell_type": "code",
   "execution_count": 8,
   "metadata": {
    "pycharm": {
     "name": "#%%\n"
    }
   },
   "outputs": [
    {
     "name": "stdout",
     "output_type": "stream",
     "text": [
      "Predict_rlt: [0 1 0 0 0 1 0 0 2 3 1 0 1 3 2 1 0 0 3 0 1 0 0 0 1 2 0 1 1 2 3 0 0 0 0 0 0\n",
      " 3 0 0 1 3 2 2 0 2 0 1 3 2 0 2 2 1 1 3 0 2 2 0 0 0 0 0 0 1 3 1 0 2 2 3 0 3\n",
      " 2 3 3 1 2 2 2 0 2 0 3 2 2 0 0 2 0 2 0 0 3 0 2 2 0 0 0 0 2 0 3 2 1 1 2 2 0\n",
      " 0 3 0 2 3 3 1 0 2 2 2 1 1 0 3 0 2 3 0 0 1 0 0 1 3 2 3 0 0 3 0 2 3 3 0 3 0\n",
      " 3 0 0 3 0 2 0 2 0 2 3 1 1 1 0 1 1 3 2 2 0 1 0 3 3 1 1 2 0 3 3 2 2 2 2 0 0\n",
      " 3 1 0 3 3 3 2 2 1 2 3 0 0 0 3 1 1 0 0 0 0 0 1 2 0 2 3 2 0 2 1 2 1 1 2 0 2\n",
      " 3 1 2 1 2 1 1 3 0 1 3 1 3 1 0 3 0 0 3 1 0 3 1 2 0 0 2 0 1 1 2 0 0 2 0 1 1\n",
      " 0 2 0 3 0 2 2 0 2 0 0 0 1 0 3 2 3 0 2 3 0 3 0 1 0 0 2 0 2 1 3 3 3 2 3 3 2\n",
      " 1 0 3 0 2 3 1 0 0 3 1 1 1 0 1 1 0 3 3 2 3 0 2 1 3 3 2 0 3 1 0 0 3 3 1 2 1\n",
      " 1 1 2 0 2 0 3 0 3 1 0 0 1 0 0 0 0 1 2 1 3 2 3 3 1 2 3 0 0 0 0 0 1 1 0 2 2\n",
      " 1 1 0 3 0 0 3 3 0 0 3 3 1 3 0 1 2 0 2 2 1 2 0 0 2 0 3 1 1 2 1 2 1 0 1 0 2\n",
      " 2 3 3 0 2 3 0 3 1 0 1 0 0 2 2 1 1 2 0 0 3 3 3 3 2 3 1 2 0 0 0 3 1 1 0 3 0\n",
      " 0 3 3 0 2 3 3 2 1 2 0 2 3 1 2 3 3 3 2 3 2 2 0 1 2 1 3 0 0 2 3 3 0 0 0 0 0\n",
      " 0 0 0 2 3 1 2 0 2 3 0 3 2 1 2 3 0 0 0 2 0 0 0 0 3 3 2 2 3 3 2 0 2 3 1 1 1\n",
      " 0 3 2 3 3 0 3 2 2 0 3 2 3 1 3 2 2 3 3 3 2 1 0 2 3 1 0 1 3 2 3 3 3 1 3 1 1\n",
      " 2 2 3 3 3 2 0 3 3 0 0 0 0 2 1 2 2 2 2 2 3 0 3 2 0 1 3 0 0 0 1 2 1 0 3 3 2\n",
      " 0 3 0 0 3 1 0 0 3 2 1 0 0 3 3 1 2 0 3 0 0 2 2 3 0 3 3 3 1 1 0 3 1 0 3 0 0\n",
      " 1 1 0 3 3 2 3 0 2 3 0 0 2 1 3 0 3 0 0 0 1 2 2 3 2 0 0 2 3 3 1 2 1 3 0 0 0\n",
      " 0 3 0 2 0 0 0 0 3 0 3 2 0 0 1 2 1 0 3 1 2 3 1 0 2 0 3 2 2 0 0 3 0 0 3 2 1\n",
      " 0 3 0 1 2 3 0 3 2 0 2 2 2 0 0 0 0 3 2 0 0 0 1 0 1 2 2 0 1 1 2 2 1 0 3 0 3\n",
      " 2 2 3 0 2 0 0 3 3 3 3 2 3 2 0 3 1 3 2 1 2 2 2 2 2 0 0 3 2 0 3 0 2 0 3 0 2\n",
      " 0 3 1 0 2 0 0 0 2 3 3 0 2 3 2 2 2 0 0 0 2 0 1 1 0 2 3 3 2 1 0 3 1 0 3 0 0\n",
      " 0 1 2 1 0 2 0 0 1 2 1 0 1 0 0 0 2 0 0 2 1 0 2 2 2 2 2 0 2 1 1 2 3 2 2 2 0\n",
      " 2 2 0 2 0 0 1 3 0 1 0 0 2 0 3 2 0 3 1 2 1 0 0 2 3 3 2 3 3 0 1 0 2 0 0 0 0\n",
      " 2 1 0 3 2 1 2 1 3 2 2 0 3 0 0 3 0 1 2 3 1 1 2 0 0 0 0 0 2 3 2 2 2 0 0 2 3\n",
      " 2 1 0 1 1 3 2 2 2 2 2 2 3 3 0 0 3 0 0 2 2 0 2 3 0 2 2 3 3 0 3 2 3 1 2 1 0\n",
      " 2 3 2 2 2 1 2 2 2 1 3 1 2 2 2 0 0 1 0 1 2 0 1 3 1 0 2 3 1 0 1 2 2 3 2 0 0\n",
      " 2]\n",
      "Correct_no: 928\n",
      "Accuracy: 0.928\n",
      "              precision    recall  f1-score   support\n",
      "\n",
      "           0       0.80      0.98      0.88       279\n",
      "           1       0.99      0.87      0.93       201\n",
      "           2       0.99      0.92      0.95       280\n",
      "           3       0.99      0.93      0.96       240\n",
      "\n",
      "    accuracy                           0.93      1000\n",
      "   macro avg       0.95      0.92      0.93      1000\n",
      "weighted avg       0.94      0.93      0.93      1000\n",
      "\n"
     ]
    }
   ],
   "source": [
    "kNN_classifier = KNeighborsClassifier(n_neighbors=5)#初始化k近邻算法对象\n",
    "kNN_classifier.fit(train_data,train_labels)#对训练集进行训练\n",
    "label_predict = kNN_classifier.predict(test_data)#对测试集进行预测\n",
    "\"\"\"预测结果\"\"\"\n",
    "print(\"Predict_rlt:\",label_predict)\n",
    "\"\"\"预测准确个数\"\"\"\n",
    "print(\"Correct_no:\",sum(label_predict==test_labels))\n",
    "\"\"\"预测准确率\"\"\"\n",
    "print(\"Accuracy:\",sum(label_predict==test_labels)/len(test_labels))\n",
    "\n",
    "from sklearn.metrics import classification_report # 结果预测评估模块\n",
    "print(classification_report(test_labels, label_predict))"
   ]
  },
  {
   "cell_type": "markdown",
   "metadata": {},
   "source": [
    "根据上面的代码我们看到，准确率有\n",
    "\n",
    "召回率有\n",
    "\n",
    "### 模型评估"
   ]
  },
  {
   "cell_type": "code",
   "execution_count": null,
   "metadata": {
    "pycharm": {
     "name": "#%%\n"
    }
   },
   "outputs": [],
   "source": [
    "from sklearn.model_selection import cross_val_score\n",
    "knn = KNeighborsClassifier(n_neighbors=5)\n",
    "score_knn_accuracy = np.mean(cross_val_score(estimator=knn, X=X, y=y, cv=5, scoring='accuracy'))\n",
    "print(\"Score_accuracy:\",score_knn_accuracy)\n"
   ]
  },
  {
   "cell_type": "markdown",
   "metadata": {},
   "source": [
    "除了KNN分类算法，还有其他的分类算法，对比分析不同算法的结果。\n",
    "\n",
    "相关内容的原理和使用方法，请参考个人gitHub链接[https://github.com/JunTheRipper/Data-Mining-Access/blob/main/Summary-Of-Machine-Learning/B.sipervised-learning/B1.classification.ipynb](https://github.com/JunTheRipper/Data-Mining-Access/blob/main/Summary-Of-Machine-Learning/B.sipervised-learning/B1.classification.ipynb)\n",
    "\n",
    "#### 测试1： 决策树"
   ]
  },
  {
   "cell_type": "code",
   "execution_count": null,
   "metadata": {
    "pycharm": {
     "name": "#%%\n"
    }
   },
   "outputs": [],
   "source": [
    "from sklearn.tree import DecisionTreeClassifier # 决策树分类器\n",
    "dtree = DecisionTreeClassifier()\n",
    "dtree.fit(train_data,train_labels)#对训练集进行训练\n",
    "label_predict = dtree.predict(test_data)#对测试集进行预测\n",
    "\"\"\"预测结果\"\"\"\n",
    "print(\"Predict_rlt:\",label_predict)\n",
    "\"\"\"预测准确个数\"\"\"\n",
    "print(\"Correct_no:\",sum(label_predict==test_labels))\n",
    "\"\"\"预测准确率\"\"\"\n",
    "print(\"Accuracy:\",sum(label_predict==test_labels)/len(test_labels))\n",
    "\n",
    "# from sklearn.metrics import classification_report # 结果预测评估模块\n",
    "print(classification_report(test_labels, label_predict))"
   ]
  },
  {
   "cell_type": "code",
   "execution_count": null,
   "metadata": {
    "pycharm": {
     "name": "#%%\n"
    }
   },
   "outputs": [],
   "source": [
    "# 对决策树模型交叉验证\n",
    "from sklearn.tree import DecisionTreeClassifier # 决策树分类器\n",
    "dtree = DecisionTreeClassifier()\n",
    "dtree.fit(train_data,train_labels)#对训练集进行训练\n",
    "label_predict = dtree.predict(test_data)#对测试集进行预测\n",
    "\"\"\"预测结果\"\"\"\n",
    "print(\"Predict_rlt:\",label_predict)\n",
    "\"\"\"预测准确个数\"\"\"\n",
    "print(\"Correct_no:\",sum(label_predict==test_labels))\n",
    "\"\"\"预测准确率\"\"\"\n",
    "print(\"Accuracy:\",sum(label_predict==test_labels)/len(test_labels))\n",
    "\n",
    "# from sklearn.metrics import classification_report # 结果预测评估模块\n",
    "print(classification_report(test_labels, label_predict))"
   ]
  },
  {
   "cell_type": "markdown",
   "metadata": {},
   "source": [
    "测试中我们可以看到：\n",
    "\n",
    "\n",
    "#### 测试2： 朴素贝叶斯模型 —— 高斯模型"
   ]
  },
  {
   "cell_type": "code",
   "execution_count": null,
   "metadata": {
    "pycharm": {
     "name": "#%%\n"
    }
   },
   "outputs": [],
   "source": [
    "from sklearn.naive_bayes import GaussianNB\n",
    "# 对高斯模型交叉验证\n",
    "gNB = GaussianNB()\n",
    "gNB.fit(train_data,train_labels)#对训练集进行训练\n",
    "label_predict = gNB.predict(test_data)#对测试集进行预测\n",
    "\"\"\"预测结果\"\"\"\n",
    "print(\"Predict_rlt:\",label_predict)\n",
    "\"\"\"预测准确个数\"\"\"\n",
    "print(\"Correct_no:\",sum(label_predict==test_labels))\n",
    "\"\"\"预测准确率\"\"\"\n",
    "print(\"Accuracy:\",sum(label_predict==test_labels)/len(test_labels))\n",
    "\n",
    "# from sklearn.metrics import classification_report # 结果预测评估模块\n",
    "print(classification_report(test_labels, label_predict))"
   ]
  },
  {
   "cell_type": "markdown",
   "metadata": {},
   "source": [
    "测试中我们可以看到：\n",
    "\n",
    "\n",
    "#### 测试3： 朴素贝叶斯模型 —— 多元伯努利模型"
   ]
  },
  {
   "cell_type": "code",
   "execution_count": null,
   "metadata": {
    "pycharm": {
     "name": "#%%\n"
    }
   },
   "outputs": [],
   "source": [
    "from sklearn.naive_bayes import BernoulliNB\n",
    "gNB = BernoulliNB()\n",
    "gNB.fit(train_data,train_labels)#对训练集进行训练\n",
    "label_predict = gNB.predict(test_data)#对测试集进行预测\n",
    "\"\"\"预测结果\"\"\"\n",
    "print(\"Predict_rlt:\",label_predict)\n",
    "\"\"\"预测准确个数\"\"\"\n",
    "print(\"Correct_no:\",sum(label_predict==test_labels))\n",
    "\"\"\"预测准确率\"\"\"\n",
    "print(\"Accuracy:\",sum(label_predict==test_labels)/len(test_labels))\n",
    "\n",
    "# from sklearn.metrics import classification_report # 结果预测评估模块\n",
    "print(classification_report(test_labels, label_predict))"
   ]
  },
  {
   "cell_type": "markdown",
   "metadata": {},
   "source": [
    "测试中我们可以看到：\n",
    "\n",
    "\n",
    "#### 测试4： 支持向量机"
   ]
  },
  {
   "cell_type": "code",
   "execution_count": null,
   "metadata": {
    "pycharm": {
     "name": "#%%\n"
    }
   },
   "outputs": [],
   "source": [
    "from sklearn import svm\n",
    "clf = svm.SVC(C=0.8, kernel='rbf', gamma=20, decision_function_shape='ovr')\n",
    "## 测试的同学自己改一下数据看看效果\n",
    "print('Start training SVM')\n",
    "clf = clf.fit(train_data,train_labels)#对训练集进行训练\n",
    "label_predict = clf.predict(test_data)#对测试集进行预测\n",
    "\"\"\"预测结果\"\"\"\n",
    "print(\"Predict_rlt:\",label_predict)\n",
    "\"\"\"预测准确个数\"\"\"\n",
    "print(\"Correct_no:\",sum(label_predict==test_labels))\n",
    "\"\"\"预测准确率\"\"\"\n",
    "print(\"Accuracy:\",sum(label_predict==test_labels)/len(test_labels))\n",
    "\n",
    "# from sklearn.metrics import classification_report # 结果预测评估模块\n",
    "print(classification_report(test_labels, label_predict))"
   ]
  },
  {
   "cell_type": "markdown",
   "metadata": {},
   "source": [
    "关于这几个模型，做个比较和总结：\n",
    "\n",
    "\n",
    "\n",
    "\n"
   ]
  }
 ],
 "metadata": {
  "kernelspec": {
   "display_name": "Python 3",
   "language": "python",
   "name": "python3"
  },
  "language_info": {
   "codemirror_mode": {
    "name": "ipython",
    "version": 3
   },
   "file_extension": ".py",
   "mimetype": "text/x-python",
   "name": "python",
   "nbconvert_exporter": "python",
   "pygments_lexer": "ipython3",
   "version": "3.8.5"
  }
 },
 "nbformat": 4,
 "nbformat_minor": 1
}

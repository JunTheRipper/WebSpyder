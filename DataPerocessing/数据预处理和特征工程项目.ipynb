{
 "cells": [
  {
   "cell_type": "markdown",
   "metadata": {},
   "source": [
    "# 数据预处理和特征工程"
   ]
  },
  {
   "cell_type": "markdown",
   "metadata": {},
   "source": [
    "数据的质量涉及多个方面，包括准确性、完整性、一致性、时效性等。在真实数据中，往往包含了大量缺失值，噪声，以及人为因素导致的误差或异常点；数据的质量，决定了模型预测和泛化能力的上限。而针对中文文本数据，往往需要进行中文分词，中文分词不准确，将造成偏差过高。因此在对社交媒体文本数据训练模型之前需要数据预处理与中文分词。\n",
    "\n",
    "本章项目尝试分别使用不同的方法进行数据预处理以及中文分词和特征分析。\n",
    "\n",
    "相关的第三方库：pandas matplotlib seaborn sklearn .etc\n",
    "\n",
    "使用数据：\n",
    "\n",
    "案例数据：data-test.csv\n",
    "\n",
    "丁香园疫情数据： DXYOverall.csv\n",
    "\n",
    "使用Filter、Wrapper和Embedded进行特征选择；然后使用PCA方法进行降维\n",
    "\n",
    "## 数据简介\n",
    "\n",
    "本次实验使用的测试数据集来源于丁香园2019新型冠状病毒疫情全体数据的局部样本。丁香园全体数据共9770个样本，每个样本41个特征。本实验只抽取了28个样本数据，每个样本6个特征。\n",
    "\n",
    "实验任务介绍：\n",
    "\n",
    "本次实验我们将对数据集进行缺失值处理，我们将以confirmedCount、curedCount和deadCount这三个特征为例，进行数据预处理的教学。\n",
    "\n",
    "## 第三方库\n",
    "\n",
    "本实验使用到的框架主要包括numpy，pandas，matplotlib，seaborn库。\n",
    "\n",
    "numpy ，pandas库是Python中结构化数据处理的库，主要用于结构化数据的统计分析及操作；\n",
    "\n",
    "matplotlib，seaborn主要用于数据分析过程的可视化展示。"
   ]
  },
  {
   "cell_type": "code",
   "execution_count": 71,
   "metadata": {
    "pycharm": {
     "name": "#%%\n"
    }
   },
   "outputs": [],
   "source": [
    "import numpy as np\n",
    "import pandas as pd\n",
    "import seaborn as sns\n",
    "import matplotlib.pyplot as plt\n",
    "sns.set_style(style=\"darkgrid\")"
   ]
  },
  {
   "cell_type": "markdown",
   "metadata": {},
   "source": [
    "sns.set_style(style=\"darkgrid\")\n",
    "\n",
    "实现控制matplotlib图表的外观，Seaborn模块自带许多定制的主题和高级的接口\n",
    "\n",
    "    1.darkgrid（灰色网格）\n",
    "    2.whitegrid（白色网格）\n",
    "    3.dark（黑色）\n",
    "    4.white（白色）\n",
    "    5.ticks（十字叉）\n",
    "\n",
    "## 数据读取"
   ]
  },
  {
   "cell_type": "code",
   "execution_count": 72,
   "metadata": {
    "pycharm": {
     "name": "#%%\n"
    }
   },
   "outputs": [
    {
     "data": {
      "text/plain": "   ID  confirmedCount  curedCount  deadCount    updateTime  rating\n0   1         81054.0       67024     3204.0  1.580000e+12       3\n1   2         81054.0          -1     3204.0  1.580000e+12       3\n2   3         81054.0       67024     3204.0  1.580000e+12       3\n3   4         81054.0       67024     3204.0  1.580000e+12       3\n4   5         81054.0       67024        NaN  1.580000e+12       3",
      "text/html": "<div>\n<style scoped>\n    .dataframe tbody tr th:only-of-type {\n        vertical-align: middle;\n    }\n\n    .dataframe tbody tr th {\n        vertical-align: top;\n    }\n\n    .dataframe thead th {\n        text-align: right;\n    }\n</style>\n<table border=\"1\" class=\"dataframe\">\n  <thead>\n    <tr style=\"text-align: right;\">\n      <th></th>\n      <th>ID</th>\n      <th>confirmedCount</th>\n      <th>curedCount</th>\n      <th>deadCount</th>\n      <th>updateTime</th>\n      <th>rating</th>\n    </tr>\n  </thead>\n  <tbody>\n    <tr>\n      <th>0</th>\n      <td>1</td>\n      <td>81054.0</td>\n      <td>67024</td>\n      <td>3204.0</td>\n      <td>1.580000e+12</td>\n      <td>3</td>\n    </tr>\n    <tr>\n      <th>1</th>\n      <td>2</td>\n      <td>81054.0</td>\n      <td>-1</td>\n      <td>3204.0</td>\n      <td>1.580000e+12</td>\n      <td>3</td>\n    </tr>\n    <tr>\n      <th>2</th>\n      <td>3</td>\n      <td>81054.0</td>\n      <td>67024</td>\n      <td>3204.0</td>\n      <td>1.580000e+12</td>\n      <td>3</td>\n    </tr>\n    <tr>\n      <th>3</th>\n      <td>4</td>\n      <td>81054.0</td>\n      <td>67024</td>\n      <td>3204.0</td>\n      <td>1.580000e+12</td>\n      <td>3</td>\n    </tr>\n    <tr>\n      <th>4</th>\n      <td>5</td>\n      <td>81054.0</td>\n      <td>67024</td>\n      <td>NaN</td>\n      <td>1.580000e+12</td>\n      <td>3</td>\n    </tr>\n  </tbody>\n</table>\n</div>"
     },
     "execution_count": 72,
     "metadata": {},
     "output_type": "execute_result"
    }
   ],
   "source": [
    "#测试数据读取\n",
    "raw_df = pd.read_csv(r\"data-test.csv\",encoding=\"utf8\")\n",
    "#输出前两行数据，不加参数默认输出前5行\n",
    "raw_df.head(5)"
   ]
  },
  {
   "cell_type": "code",
   "execution_count": 73,
   "metadata": {
    "pycharm": {
     "name": "#%%\n"
    }
   },
   "outputs": [
    {
     "data": {
      "text/plain": "                                            dailyPic  \\\n0  https://img1.dxycdn.com/2020/0211/763/33959988...   \n1  https://img1.dxycdn.com/2020/0211/763/33959988...   \n2  https://img1.dxycdn.com/2020/0211/763/33959988...   \n3  https://img1.dxycdn.com/2020/0211/763/33959988...   \n\n                                           dailyPics summary countRemark  \\\n0  ['https://img1.dxycdn.com/2020/0211/763/339599...     NaN         NaN   \n1  ['https://img1.dxycdn.com/2020/0211/763/339599...     NaN         NaN   \n2  ['https://img1.dxycdn.com/2020/0211/763/339599...     NaN         NaN   \n3  ['https://img1.dxycdn.com/2020/0211/763/339599...     NaN         NaN   \n\n   currentConfirmedCount  confirmedCount  suspectedCount  curedCount  \\\n0                 2582.0           99667            4572       92275   \n1                 2582.0           99667            4572       92275   \n2                 2582.0           99667            4572       92275   \n3                 2581.0           99666            4572       92275   \n\n   deadCount  seriousCount  ...  \\\n0       4810         929.0  ...   \n1       4810         929.0  ...   \n2       4810         929.0  ...   \n3       4810         929.0  ...   \n\n                           globalOtherTrendChartData           updateTime  \\\n0  https://file1.dxycdn.com/2021/0122/747/7131623...  2021-01-23 02:03:00   \n1  https://file1.dxycdn.com/2021/0122/747/7131623...  2021-01-23 00:02:56   \n2  https://file1.dxycdn.com/2021/0122/747/7131623...  2021-01-22 23:40:08   \n3  https://file1.dxycdn.com/2021/0122/747/7131623...  2021-01-22 19:27:02   \n\n  suspectedIncr currentConfirmedIncr  confirmedIncr curedIncr deadIncr  \\\n0           NaN                  NaN            NaN       NaN      NaN   \n1           9.0                124.0          253.0     127.0      2.0   \n2           9.0                124.0          253.0     127.0      2.0   \n3           9.0                123.0          252.0     127.0      2.0   \n\n  seriousIncr yesterdayConfirmedCountIncr yesterdaySuspectedCountIncr  \n0         NaN                         NaN                         NaN  \n1        84.0                         NaN                         NaN  \n2        84.0                       175.0                         9.0  \n3        84.0                       175.0                         9.0  \n\n[4 rows x 39 columns]",
      "text/html": "<div>\n<style scoped>\n    .dataframe tbody tr th:only-of-type {\n        vertical-align: middle;\n    }\n\n    .dataframe tbody tr th {\n        vertical-align: top;\n    }\n\n    .dataframe thead th {\n        text-align: right;\n    }\n</style>\n<table border=\"1\" class=\"dataframe\">\n  <thead>\n    <tr style=\"text-align: right;\">\n      <th></th>\n      <th>dailyPic</th>\n      <th>dailyPics</th>\n      <th>summary</th>\n      <th>countRemark</th>\n      <th>currentConfirmedCount</th>\n      <th>confirmedCount</th>\n      <th>suspectedCount</th>\n      <th>curedCount</th>\n      <th>deadCount</th>\n      <th>seriousCount</th>\n      <th>...</th>\n      <th>globalOtherTrendChartData</th>\n      <th>updateTime</th>\n      <th>suspectedIncr</th>\n      <th>currentConfirmedIncr</th>\n      <th>confirmedIncr</th>\n      <th>curedIncr</th>\n      <th>deadIncr</th>\n      <th>seriousIncr</th>\n      <th>yesterdayConfirmedCountIncr</th>\n      <th>yesterdaySuspectedCountIncr</th>\n    </tr>\n  </thead>\n  <tbody>\n    <tr>\n      <th>0</th>\n      <td>https://img1.dxycdn.com/2020/0211/763/33959988...</td>\n      <td>['https://img1.dxycdn.com/2020/0211/763/339599...</td>\n      <td>NaN</td>\n      <td>NaN</td>\n      <td>2582.0</td>\n      <td>99667</td>\n      <td>4572</td>\n      <td>92275</td>\n      <td>4810</td>\n      <td>929.0</td>\n      <td>...</td>\n      <td>https://file1.dxycdn.com/2021/0122/747/7131623...</td>\n      <td>2021-01-23 02:03:00</td>\n      <td>NaN</td>\n      <td>NaN</td>\n      <td>NaN</td>\n      <td>NaN</td>\n      <td>NaN</td>\n      <td>NaN</td>\n      <td>NaN</td>\n      <td>NaN</td>\n    </tr>\n    <tr>\n      <th>1</th>\n      <td>https://img1.dxycdn.com/2020/0211/763/33959988...</td>\n      <td>['https://img1.dxycdn.com/2020/0211/763/339599...</td>\n      <td>NaN</td>\n      <td>NaN</td>\n      <td>2582.0</td>\n      <td>99667</td>\n      <td>4572</td>\n      <td>92275</td>\n      <td>4810</td>\n      <td>929.0</td>\n      <td>...</td>\n      <td>https://file1.dxycdn.com/2021/0122/747/7131623...</td>\n      <td>2021-01-23 00:02:56</td>\n      <td>9.0</td>\n      <td>124.0</td>\n      <td>253.0</td>\n      <td>127.0</td>\n      <td>2.0</td>\n      <td>84.0</td>\n      <td>NaN</td>\n      <td>NaN</td>\n    </tr>\n    <tr>\n      <th>2</th>\n      <td>https://img1.dxycdn.com/2020/0211/763/33959988...</td>\n      <td>['https://img1.dxycdn.com/2020/0211/763/339599...</td>\n      <td>NaN</td>\n      <td>NaN</td>\n      <td>2582.0</td>\n      <td>99667</td>\n      <td>4572</td>\n      <td>92275</td>\n      <td>4810</td>\n      <td>929.0</td>\n      <td>...</td>\n      <td>https://file1.dxycdn.com/2021/0122/747/7131623...</td>\n      <td>2021-01-22 23:40:08</td>\n      <td>9.0</td>\n      <td>124.0</td>\n      <td>253.0</td>\n      <td>127.0</td>\n      <td>2.0</td>\n      <td>84.0</td>\n      <td>175.0</td>\n      <td>9.0</td>\n    </tr>\n    <tr>\n      <th>3</th>\n      <td>https://img1.dxycdn.com/2020/0211/763/33959988...</td>\n      <td>['https://img1.dxycdn.com/2020/0211/763/339599...</td>\n      <td>NaN</td>\n      <td>NaN</td>\n      <td>2581.0</td>\n      <td>99666</td>\n      <td>4572</td>\n      <td>92275</td>\n      <td>4810</td>\n      <td>929.0</td>\n      <td>...</td>\n      <td>https://file1.dxycdn.com/2021/0122/747/7131623...</td>\n      <td>2021-01-22 19:27:02</td>\n      <td>9.0</td>\n      <td>123.0</td>\n      <td>252.0</td>\n      <td>127.0</td>\n      <td>2.0</td>\n      <td>84.0</td>\n      <td>175.0</td>\n      <td>9.0</td>\n    </tr>\n  </tbody>\n</table>\n<p>4 rows × 39 columns</p>\n</div>"
     },
     "execution_count": 73,
     "metadata": {},
     "output_type": "execute_result"
    }
   ],
   "source": [
    "# 丁香园的疫情数据\n",
    "DXY_raw_df =pd.read_csv(r\"DXYOverall.csv\",encoding=\"utf8\")\n",
    "#输出前两行数据，不加参数默认输出前5行\n",
    "DXY_raw_df.head(4)"
   ]
  },
  {
   "cell_type": "markdown",
   "metadata": {},
   "source": [
    "# 数据预处理\n",
    "\n",
    "缺失值处理的常见方法有：\n",
    "\n",
    "    1删除：dropna();\n",
    "    2.填充：填充包括统计量填充（众数、均值、中位数）、KNN填充等。常用方法包括：fillna()与Python的sklearn.preprocessing库中的Imputer类可对缺失值进行众数、均值、中位数填充。\n",
    "    3.不处理\n",
    "\n",
    "对于本次实验的丁香园全体数据集和任务，应该对于缺失值进行删除还是填充操作呢？\n",
    "\n",
    "## 步骤 1\t  查看缺失值\n",
    "\n",
    "pandas中，isnull()是常用的缺失值查看方法：\n",
    "\n",
    "    df.isnull():查看所有数据是否为缺失值，返回bool值。True：缺失值；False：不是缺失值。\n",
    "    df.isnull().any():查看每个特征是否存在缺失值，返回bool值。\n",
    "    df.isnll().sum():返回每个特征中缺失值的具体数量。"
   ]
  },
  {
   "cell_type": "code",
   "execution_count": 74,
   "metadata": {
    "pycharm": {
     "name": "#%%\n"
    }
   },
   "outputs": [
    {
     "data": {
      "text/plain": "      ID  confirmedCount  curedCount  deadCount  updateTime  rating\n0  False           False       False      False       False   False\n1  False           False       False      False       False   False\n2  False           False       False      False       False   False\n3  False           False       False      False       False   False\n4  False           False       False       True       False   False",
      "text/html": "<div>\n<style scoped>\n    .dataframe tbody tr th:only-of-type {\n        vertical-align: middle;\n    }\n\n    .dataframe tbody tr th {\n        vertical-align: top;\n    }\n\n    .dataframe thead th {\n        text-align: right;\n    }\n</style>\n<table border=\"1\" class=\"dataframe\">\n  <thead>\n    <tr style=\"text-align: right;\">\n      <th></th>\n      <th>ID</th>\n      <th>confirmedCount</th>\n      <th>curedCount</th>\n      <th>deadCount</th>\n      <th>updateTime</th>\n      <th>rating</th>\n    </tr>\n  </thead>\n  <tbody>\n    <tr>\n      <th>0</th>\n      <td>False</td>\n      <td>False</td>\n      <td>False</td>\n      <td>False</td>\n      <td>False</td>\n      <td>False</td>\n    </tr>\n    <tr>\n      <th>1</th>\n      <td>False</td>\n      <td>False</td>\n      <td>False</td>\n      <td>False</td>\n      <td>False</td>\n      <td>False</td>\n    </tr>\n    <tr>\n      <th>2</th>\n      <td>False</td>\n      <td>False</td>\n      <td>False</td>\n      <td>False</td>\n      <td>False</td>\n      <td>False</td>\n    </tr>\n    <tr>\n      <th>3</th>\n      <td>False</td>\n      <td>False</td>\n      <td>False</td>\n      <td>False</td>\n      <td>False</td>\n      <td>False</td>\n    </tr>\n    <tr>\n      <th>4</th>\n      <td>False</td>\n      <td>False</td>\n      <td>False</td>\n      <td>True</td>\n      <td>False</td>\n      <td>False</td>\n    </tr>\n  </tbody>\n</table>\n</div>"
     },
     "execution_count": 74,
     "metadata": {},
     "output_type": "execute_result"
    }
   ],
   "source": [
    "# 测试数据中，查看前5个样本中，数据是否为缺失值。\n",
    "raw_df.head().isnull()"
   ]
  },
  {
   "cell_type": "code",
   "execution_count": 75,
   "metadata": {
    "pycharm": {
     "name": "#%%\n"
    }
   },
   "outputs": [
    {
     "data": {
      "text/plain": "                                             dailyPic  \\\n0   https://img1.dxycdn.com/2020/0211/763/33959988...   \n1   https://img1.dxycdn.com/2020/0211/763/33959988...   \n2   https://img1.dxycdn.com/2020/0211/763/33959988...   \n3   https://img1.dxycdn.com/2020/0211/763/33959988...   \n4   https://img1.dxycdn.com/2020/0211/763/33959988...   \n5   https://img1.dxycdn.com/2020/0211/763/33959988...   \n6   https://img1.dxycdn.com/2020/0211/763/33959988...   \n7   https://img1.dxycdn.com/2020/0211/763/33959988...   \n8   https://img1.dxycdn.com/2020/0211/763/33959988...   \n9   https://img1.dxycdn.com/2020/0211/763/33959988...   \n10  https://img1.dxycdn.com/2020/0211/763/33959988...   \n11  https://img1.dxycdn.com/2020/0211/763/33959988...   \n12  https://img1.dxycdn.com/2020/0211/763/33959988...   \n13  https://img1.dxycdn.com/2020/0211/763/33959988...   \n14  https://img1.dxycdn.com/2020/0211/763/33959988...   \n\n                                            dailyPics summary countRemark  \\\n0   ['https://img1.dxycdn.com/2020/0211/763/339599...     NaN         NaN   \n1   ['https://img1.dxycdn.com/2020/0211/763/339599...     NaN         NaN   \n2   ['https://img1.dxycdn.com/2020/0211/763/339599...     NaN         NaN   \n3   ['https://img1.dxycdn.com/2020/0211/763/339599...     NaN         NaN   \n4   ['https://img1.dxycdn.com/2020/0211/763/339599...     NaN         NaN   \n5   ['https://img1.dxycdn.com/2020/0211/763/339599...     NaN         NaN   \n6   ['https://img1.dxycdn.com/2020/0211/763/339599...     NaN         NaN   \n7   ['https://img1.dxycdn.com/2020/0211/763/339599...     NaN         NaN   \n8   ['https://img1.dxycdn.com/2020/0211/763/339599...     NaN         NaN   \n9   ['https://img1.dxycdn.com/2020/0211/763/339599...     NaN         NaN   \n10  ['https://img1.dxycdn.com/2020/0211/763/339599...     NaN         NaN   \n11  ['https://img1.dxycdn.com/2020/0211/763/339599...     NaN         NaN   \n12  ['https://img1.dxycdn.com/2020/0211/763/339599...     NaN         NaN   \n13  ['https://img1.dxycdn.com/2020/0211/763/339599...     NaN         NaN   \n14  ['https://img1.dxycdn.com/2020/0211/763/339599...     NaN         NaN   \n\n    currentConfirmedCount  confirmedCount  suspectedCount  curedCount  \\\n0                  2582.0           99667            4572       92275   \n1                  2582.0           99667            4572       92275   \n2                  2582.0           99667            4572       92275   \n3                  2581.0           99666            4572       92275   \n4                  2577.0           99662            4572       92275   \n5                  2577.0           99662            4572       92275   \n6                  2575.0           99654            4572       92269   \n7                  2559.0           99593            4572       92225   \n8                  2561.0           99593            4572       92223   \n9                  2558.0           99590            4572       92223   \n10                 2564.0           99589            4572       92216   \n11                 2565.0           99590            4572       92216   \n12                 2565.0           99590            4572       92216   \n13                 2565.0           99590            4572       92216   \n14                 2564.0           99589            4572       92216   \n\n    deadCount  seriousCount  ...  \\\n0        4810         929.0  ...   \n1        4810         929.0  ...   \n2        4810         929.0  ...   \n3        4810         929.0  ...   \n4        4810         929.0  ...   \n5        4810         929.0  ...   \n6        4810         929.0  ...   \n7        4809         929.0  ...   \n8        4809         929.0  ...   \n9        4809         929.0  ...   \n10       4809         929.0  ...   \n11       4809         929.0  ...   \n12       4809         929.0  ...   \n13       4809         929.0  ...   \n14       4809         929.0  ...   \n\n                            globalOtherTrendChartData           updateTime  \\\n0   https://file1.dxycdn.com/2021/0122/747/7131623...  2021-01-23 02:03:00   \n1   https://file1.dxycdn.com/2021/0122/747/7131623...  2021-01-23 00:02:56   \n2   https://file1.dxycdn.com/2021/0122/747/7131623...  2021-01-22 23:40:08   \n3   https://file1.dxycdn.com/2021/0122/747/7131623...  2021-01-22 19:27:02   \n4   https://file1.dxycdn.com/2021/0122/747/7131623...  2021-01-22 19:19:03   \n5   https://file1.dxycdn.com/2021/0122/747/7131623...  2021-01-22 19:16:40   \n6   https://file1.dxycdn.com/2021/0122/747/7131623...  2021-01-22 19:14:19   \n7   https://file1.dxycdn.com/2021/0122/747/7131623...  2021-01-22 19:07:22   \n8   https://file1.dxycdn.com/2021/0122/747/7131623...  2021-01-22 19:02:49   \n9   https://file1.dxycdn.com/2021/0122/747/7131623...  2021-01-22 18:50:41   \n10  https://file1.dxycdn.com/2021/0122/747/7131623...  2021-01-22 11:23:12   \n11  https://file1.dxycdn.com/2021/0122/747/7131623...  2021-01-22 11:21:07   \n12  https://file1.dxycdn.com/2021/0122/747/7131623...  2021-01-22 11:13:41   \n13  https://file1.dxycdn.com/2021/0122/747/7131623...  2021-01-22 10:53:26   \n14  https://file1.dxycdn.com/2021/0122/747/7131623...  2021-01-22 09:57:15   \n\n   suspectedIncr currentConfirmedIncr  confirmedIncr curedIncr deadIncr  \\\n0            NaN                  NaN            NaN       NaN      NaN   \n1            9.0                124.0          253.0     127.0      2.0   \n2            9.0                124.0          253.0     127.0      2.0   \n3            9.0                123.0          252.0     127.0      2.0   \n4            9.0                119.0          248.0     127.0      2.0   \n5            9.0                119.0          248.0     127.0      2.0   \n6            9.0                117.0          240.0     121.0      2.0   \n7            9.0                101.0          179.0      77.0      1.0   \n8            9.0                103.0          179.0      75.0      1.0   \n9            9.0                100.0          176.0      75.0      1.0   \n10           9.0                106.0          175.0      68.0      1.0   \n11           9.0                107.0          176.0      68.0      1.0   \n12           9.0                107.0          176.0      68.0      1.0   \n13           9.0                107.0          176.0      68.0      1.0   \n14           9.0                106.0          175.0      68.0      1.0   \n\n   seriousIncr yesterdayConfirmedCountIncr yesterdaySuspectedCountIncr  \n0          NaN                         NaN                         NaN  \n1         84.0                         NaN                         NaN  \n2         84.0                       175.0                         9.0  \n3         84.0                       175.0                         9.0  \n4         84.0                       175.0                         9.0  \n5         84.0                       175.0                         9.0  \n6         84.0                       175.0                         9.0  \n7         84.0                       175.0                         9.0  \n8         84.0                       175.0                         9.0  \n9         84.0                       175.0                         9.0  \n10        84.0                       175.0                         9.0  \n11        84.0                       175.0                         9.0  \n12        84.0                       175.0                         9.0  \n13        84.0                       175.0                         9.0  \n14        84.0                       175.0                         9.0  \n\n[15 rows x 39 columns]",
      "text/html": "<div>\n<style scoped>\n    .dataframe tbody tr th:only-of-type {\n        vertical-align: middle;\n    }\n\n    .dataframe tbody tr th {\n        vertical-align: top;\n    }\n\n    .dataframe thead th {\n        text-align: right;\n    }\n</style>\n<table border=\"1\" class=\"dataframe\">\n  <thead>\n    <tr style=\"text-align: right;\">\n      <th></th>\n      <th>dailyPic</th>\n      <th>dailyPics</th>\n      <th>summary</th>\n      <th>countRemark</th>\n      <th>currentConfirmedCount</th>\n      <th>confirmedCount</th>\n      <th>suspectedCount</th>\n      <th>curedCount</th>\n      <th>deadCount</th>\n      <th>seriousCount</th>\n      <th>...</th>\n      <th>globalOtherTrendChartData</th>\n      <th>updateTime</th>\n      <th>suspectedIncr</th>\n      <th>currentConfirmedIncr</th>\n      <th>confirmedIncr</th>\n      <th>curedIncr</th>\n      <th>deadIncr</th>\n      <th>seriousIncr</th>\n      <th>yesterdayConfirmedCountIncr</th>\n      <th>yesterdaySuspectedCountIncr</th>\n    </tr>\n  </thead>\n  <tbody>\n    <tr>\n      <th>0</th>\n      <td>https://img1.dxycdn.com/2020/0211/763/33959988...</td>\n      <td>['https://img1.dxycdn.com/2020/0211/763/339599...</td>\n      <td>NaN</td>\n      <td>NaN</td>\n      <td>2582.0</td>\n      <td>99667</td>\n      <td>4572</td>\n      <td>92275</td>\n      <td>4810</td>\n      <td>929.0</td>\n      <td>...</td>\n      <td>https://file1.dxycdn.com/2021/0122/747/7131623...</td>\n      <td>2021-01-23 02:03:00</td>\n      <td>NaN</td>\n      <td>NaN</td>\n      <td>NaN</td>\n      <td>NaN</td>\n      <td>NaN</td>\n      <td>NaN</td>\n      <td>NaN</td>\n      <td>NaN</td>\n    </tr>\n    <tr>\n      <th>1</th>\n      <td>https://img1.dxycdn.com/2020/0211/763/33959988...</td>\n      <td>['https://img1.dxycdn.com/2020/0211/763/339599...</td>\n      <td>NaN</td>\n      <td>NaN</td>\n      <td>2582.0</td>\n      <td>99667</td>\n      <td>4572</td>\n      <td>92275</td>\n      <td>4810</td>\n      <td>929.0</td>\n      <td>...</td>\n      <td>https://file1.dxycdn.com/2021/0122/747/7131623...</td>\n      <td>2021-01-23 00:02:56</td>\n      <td>9.0</td>\n      <td>124.0</td>\n      <td>253.0</td>\n      <td>127.0</td>\n      <td>2.0</td>\n      <td>84.0</td>\n      <td>NaN</td>\n      <td>NaN</td>\n    </tr>\n    <tr>\n      <th>2</th>\n      <td>https://img1.dxycdn.com/2020/0211/763/33959988...</td>\n      <td>['https://img1.dxycdn.com/2020/0211/763/339599...</td>\n      <td>NaN</td>\n      <td>NaN</td>\n      <td>2582.0</td>\n      <td>99667</td>\n      <td>4572</td>\n      <td>92275</td>\n      <td>4810</td>\n      <td>929.0</td>\n      <td>...</td>\n      <td>https://file1.dxycdn.com/2021/0122/747/7131623...</td>\n      <td>2021-01-22 23:40:08</td>\n      <td>9.0</td>\n      <td>124.0</td>\n      <td>253.0</td>\n      <td>127.0</td>\n      <td>2.0</td>\n      <td>84.0</td>\n      <td>175.0</td>\n      <td>9.0</td>\n    </tr>\n    <tr>\n      <th>3</th>\n      <td>https://img1.dxycdn.com/2020/0211/763/33959988...</td>\n      <td>['https://img1.dxycdn.com/2020/0211/763/339599...</td>\n      <td>NaN</td>\n      <td>NaN</td>\n      <td>2581.0</td>\n      <td>99666</td>\n      <td>4572</td>\n      <td>92275</td>\n      <td>4810</td>\n      <td>929.0</td>\n      <td>...</td>\n      <td>https://file1.dxycdn.com/2021/0122/747/7131623...</td>\n      <td>2021-01-22 19:27:02</td>\n      <td>9.0</td>\n      <td>123.0</td>\n      <td>252.0</td>\n      <td>127.0</td>\n      <td>2.0</td>\n      <td>84.0</td>\n      <td>175.0</td>\n      <td>9.0</td>\n    </tr>\n    <tr>\n      <th>4</th>\n      <td>https://img1.dxycdn.com/2020/0211/763/33959988...</td>\n      <td>['https://img1.dxycdn.com/2020/0211/763/339599...</td>\n      <td>NaN</td>\n      <td>NaN</td>\n      <td>2577.0</td>\n      <td>99662</td>\n      <td>4572</td>\n      <td>92275</td>\n      <td>4810</td>\n      <td>929.0</td>\n      <td>...</td>\n      <td>https://file1.dxycdn.com/2021/0122/747/7131623...</td>\n      <td>2021-01-22 19:19:03</td>\n      <td>9.0</td>\n      <td>119.0</td>\n      <td>248.0</td>\n      <td>127.0</td>\n      <td>2.0</td>\n      <td>84.0</td>\n      <td>175.0</td>\n      <td>9.0</td>\n    </tr>\n    <tr>\n      <th>5</th>\n      <td>https://img1.dxycdn.com/2020/0211/763/33959988...</td>\n      <td>['https://img1.dxycdn.com/2020/0211/763/339599...</td>\n      <td>NaN</td>\n      <td>NaN</td>\n      <td>2577.0</td>\n      <td>99662</td>\n      <td>4572</td>\n      <td>92275</td>\n      <td>4810</td>\n      <td>929.0</td>\n      <td>...</td>\n      <td>https://file1.dxycdn.com/2021/0122/747/7131623...</td>\n      <td>2021-01-22 19:16:40</td>\n      <td>9.0</td>\n      <td>119.0</td>\n      <td>248.0</td>\n      <td>127.0</td>\n      <td>2.0</td>\n      <td>84.0</td>\n      <td>175.0</td>\n      <td>9.0</td>\n    </tr>\n    <tr>\n      <th>6</th>\n      <td>https://img1.dxycdn.com/2020/0211/763/33959988...</td>\n      <td>['https://img1.dxycdn.com/2020/0211/763/339599...</td>\n      <td>NaN</td>\n      <td>NaN</td>\n      <td>2575.0</td>\n      <td>99654</td>\n      <td>4572</td>\n      <td>92269</td>\n      <td>4810</td>\n      <td>929.0</td>\n      <td>...</td>\n      <td>https://file1.dxycdn.com/2021/0122/747/7131623...</td>\n      <td>2021-01-22 19:14:19</td>\n      <td>9.0</td>\n      <td>117.0</td>\n      <td>240.0</td>\n      <td>121.0</td>\n      <td>2.0</td>\n      <td>84.0</td>\n      <td>175.0</td>\n      <td>9.0</td>\n    </tr>\n    <tr>\n      <th>7</th>\n      <td>https://img1.dxycdn.com/2020/0211/763/33959988...</td>\n      <td>['https://img1.dxycdn.com/2020/0211/763/339599...</td>\n      <td>NaN</td>\n      <td>NaN</td>\n      <td>2559.0</td>\n      <td>99593</td>\n      <td>4572</td>\n      <td>92225</td>\n      <td>4809</td>\n      <td>929.0</td>\n      <td>...</td>\n      <td>https://file1.dxycdn.com/2021/0122/747/7131623...</td>\n      <td>2021-01-22 19:07:22</td>\n      <td>9.0</td>\n      <td>101.0</td>\n      <td>179.0</td>\n      <td>77.0</td>\n      <td>1.0</td>\n      <td>84.0</td>\n      <td>175.0</td>\n      <td>9.0</td>\n    </tr>\n    <tr>\n      <th>8</th>\n      <td>https://img1.dxycdn.com/2020/0211/763/33959988...</td>\n      <td>['https://img1.dxycdn.com/2020/0211/763/339599...</td>\n      <td>NaN</td>\n      <td>NaN</td>\n      <td>2561.0</td>\n      <td>99593</td>\n      <td>4572</td>\n      <td>92223</td>\n      <td>4809</td>\n      <td>929.0</td>\n      <td>...</td>\n      <td>https://file1.dxycdn.com/2021/0122/747/7131623...</td>\n      <td>2021-01-22 19:02:49</td>\n      <td>9.0</td>\n      <td>103.0</td>\n      <td>179.0</td>\n      <td>75.0</td>\n      <td>1.0</td>\n      <td>84.0</td>\n      <td>175.0</td>\n      <td>9.0</td>\n    </tr>\n    <tr>\n      <th>9</th>\n      <td>https://img1.dxycdn.com/2020/0211/763/33959988...</td>\n      <td>['https://img1.dxycdn.com/2020/0211/763/339599...</td>\n      <td>NaN</td>\n      <td>NaN</td>\n      <td>2558.0</td>\n      <td>99590</td>\n      <td>4572</td>\n      <td>92223</td>\n      <td>4809</td>\n      <td>929.0</td>\n      <td>...</td>\n      <td>https://file1.dxycdn.com/2021/0122/747/7131623...</td>\n      <td>2021-01-22 18:50:41</td>\n      <td>9.0</td>\n      <td>100.0</td>\n      <td>176.0</td>\n      <td>75.0</td>\n      <td>1.0</td>\n      <td>84.0</td>\n      <td>175.0</td>\n      <td>9.0</td>\n    </tr>\n    <tr>\n      <th>10</th>\n      <td>https://img1.dxycdn.com/2020/0211/763/33959988...</td>\n      <td>['https://img1.dxycdn.com/2020/0211/763/339599...</td>\n      <td>NaN</td>\n      <td>NaN</td>\n      <td>2564.0</td>\n      <td>99589</td>\n      <td>4572</td>\n      <td>92216</td>\n      <td>4809</td>\n      <td>929.0</td>\n      <td>...</td>\n      <td>https://file1.dxycdn.com/2021/0122/747/7131623...</td>\n      <td>2021-01-22 11:23:12</td>\n      <td>9.0</td>\n      <td>106.0</td>\n      <td>175.0</td>\n      <td>68.0</td>\n      <td>1.0</td>\n      <td>84.0</td>\n      <td>175.0</td>\n      <td>9.0</td>\n    </tr>\n    <tr>\n      <th>11</th>\n      <td>https://img1.dxycdn.com/2020/0211/763/33959988...</td>\n      <td>['https://img1.dxycdn.com/2020/0211/763/339599...</td>\n      <td>NaN</td>\n      <td>NaN</td>\n      <td>2565.0</td>\n      <td>99590</td>\n      <td>4572</td>\n      <td>92216</td>\n      <td>4809</td>\n      <td>929.0</td>\n      <td>...</td>\n      <td>https://file1.dxycdn.com/2021/0122/747/7131623...</td>\n      <td>2021-01-22 11:21:07</td>\n      <td>9.0</td>\n      <td>107.0</td>\n      <td>176.0</td>\n      <td>68.0</td>\n      <td>1.0</td>\n      <td>84.0</td>\n      <td>175.0</td>\n      <td>9.0</td>\n    </tr>\n    <tr>\n      <th>12</th>\n      <td>https://img1.dxycdn.com/2020/0211/763/33959988...</td>\n      <td>['https://img1.dxycdn.com/2020/0211/763/339599...</td>\n      <td>NaN</td>\n      <td>NaN</td>\n      <td>2565.0</td>\n      <td>99590</td>\n      <td>4572</td>\n      <td>92216</td>\n      <td>4809</td>\n      <td>929.0</td>\n      <td>...</td>\n      <td>https://file1.dxycdn.com/2021/0122/747/7131623...</td>\n      <td>2021-01-22 11:13:41</td>\n      <td>9.0</td>\n      <td>107.0</td>\n      <td>176.0</td>\n      <td>68.0</td>\n      <td>1.0</td>\n      <td>84.0</td>\n      <td>175.0</td>\n      <td>9.0</td>\n    </tr>\n    <tr>\n      <th>13</th>\n      <td>https://img1.dxycdn.com/2020/0211/763/33959988...</td>\n      <td>['https://img1.dxycdn.com/2020/0211/763/339599...</td>\n      <td>NaN</td>\n      <td>NaN</td>\n      <td>2565.0</td>\n      <td>99590</td>\n      <td>4572</td>\n      <td>92216</td>\n      <td>4809</td>\n      <td>929.0</td>\n      <td>...</td>\n      <td>https://file1.dxycdn.com/2021/0122/747/7131623...</td>\n      <td>2021-01-22 10:53:26</td>\n      <td>9.0</td>\n      <td>107.0</td>\n      <td>176.0</td>\n      <td>68.0</td>\n      <td>1.0</td>\n      <td>84.0</td>\n      <td>175.0</td>\n      <td>9.0</td>\n    </tr>\n    <tr>\n      <th>14</th>\n      <td>https://img1.dxycdn.com/2020/0211/763/33959988...</td>\n      <td>['https://img1.dxycdn.com/2020/0211/763/339599...</td>\n      <td>NaN</td>\n      <td>NaN</td>\n      <td>2564.0</td>\n      <td>99589</td>\n      <td>4572</td>\n      <td>92216</td>\n      <td>4809</td>\n      <td>929.0</td>\n      <td>...</td>\n      <td>https://file1.dxycdn.com/2021/0122/747/7131623...</td>\n      <td>2021-01-22 09:57:15</td>\n      <td>9.0</td>\n      <td>106.0</td>\n      <td>175.0</td>\n      <td>68.0</td>\n      <td>1.0</td>\n      <td>84.0</td>\n      <td>175.0</td>\n      <td>9.0</td>\n    </tr>\n  </tbody>\n</table>\n<p>15 rows × 39 columns</p>\n</div>"
     },
     "execution_count": 75,
     "metadata": {},
     "output_type": "execute_result"
    }
   ],
   "source": [
    "# 丁香园数据中检查前15条样本中是否有缺失值\n",
    "DXY_raw_df.head().isnull()\n",
    "DXY_raw_df.head(15)"
   ]
  },
  {
   "cell_type": "markdown",
   "metadata": {},
   "source": [
    "查看每个特征是否存在缺失值"
   ]
  },
  {
   "cell_type": "code",
   "execution_count": 76,
   "metadata": {
    "pycharm": {
     "name": "#%%\n"
    }
   },
   "outputs": [
    {
     "name": "stdout",
     "output_type": "stream",
     "text": [
      "测试数据判断每个特征是否存在缺失值\n",
      "ID                False\n",
      "confirmedCount     True\n",
      "curedCount        False\n",
      "deadCount          True\n",
      "updateTime        False\n",
      "rating            False\n",
      "dtype: bool\n",
      "丁香园数据判断每个特征是否存在缺失值\n"
     ]
    },
    {
     "data": {
      "text/plain": "dailyPic                             True\ndailyPics                            True\nsummary                              True\ncountRemark                          True\ncurrentConfirmedCount                True\nconfirmedCount                      False\nsuspectedCount                      False\ncuredCount                          False\ndeadCount                           False\nseriousCount                         True\nremark1                             False\nremark2                             False\nremark3                              True\nremark4                              True\nremark5                              True\nnote1                                True\nnote2                                True\nnote3                                True\ngeneralRemark                        True\nabroadRemark                         True\nmarquee                              True\nquanguoTrendChart                    True\nhbFeiHbTrendChart                    True\nforeignTrendChart                    True\nimportantForeignTrendChart           True\nforeignTrendChartGlobal              True\nimportantForeignTrendChartGlobal     True\nforeignStatistics                    True\nglobalStatistics                     True\nglobalOtherTrendChartData            True\nupdateTime                          False\nsuspectedIncr                        True\ncurrentConfirmedIncr                 True\nconfirmedIncr                        True\ncuredIncr                            True\ndeadIncr                             True\nseriousIncr                          True\nyesterdayConfirmedCountIncr          True\nyesterdaySuspectedCountIncr          True\ndtype: bool"
     },
     "execution_count": 76,
     "metadata": {},
     "output_type": "execute_result"
    }
   ],
   "source": [
    "print(\"测试数据判断每个特征是否存在缺失值\")\n",
    "print(raw_df.isnull().any())\n",
    "\n",
    "print(\"丁香园数据判断每个特征是否存在缺失值\")\n",
    "DXY_raw_df.isnull().any()"
   ]
  },
  {
   "cell_type": "markdown",
   "metadata": {},
   "source": [
    "查看每个特征缺失值的总数"
   ]
  },
  {
   "cell_type": "code",
   "execution_count": 77,
   "metadata": {
    "pycharm": {
     "name": "#%%\n"
    }
   },
   "outputs": [
    {
     "name": "stdout",
     "output_type": "stream",
     "text": [
      "测试数据缺失总数\n",
      "ID                0\n",
      "confirmedCount    1\n",
      "curedCount        0\n",
      "deadCount         3\n",
      "updateTime        0\n",
      "rating            0\n",
      "dtype: int64\n",
      "\n",
      "丁香园\n"
     ]
    },
    {
     "data": {
      "text/plain": "dailyPic                               2\ndailyPics                            333\nsummary                             9765\ncountRemark                         9672\ncurrentConfirmedCount                875\nconfirmedCount                         0\nsuspectedCount                         0\ncuredCount                             0\ndeadCount                              0\nseriousCount                         280\nremark1                                0\nremark2                                0\nremark3                              314\nremark4                             9767\nremark5                             9769\nnote1                                350\nnote2                                350\nnote3                                350\ngeneralRemark                        504\nabroadRemark                        9767\nmarquee                              279\nquanguoTrendChart                    709\nhbFeiHbTrendChart                    709\nforeignTrendChart                   1810\nimportantForeignTrendChart          1810\nforeignTrendChartGlobal             2426\nimportantForeignTrendChartGlobal    2426\nforeignStatistics                   1811\nglobalStatistics                    2427\nglobalOtherTrendChartData           2755\nupdateTime                             0\nsuspectedIncr                       3012\ncurrentConfirmedIncr                3542\nconfirmedIncr                       3012\ncuredIncr                           3018\ndeadIncr                            3012\nseriousIncr                         3012\nyesterdayConfirmedCountIncr         9673\nyesterdaySuspectedCountIncr         9673\ndtype: int64"
     },
     "execution_count": 77,
     "metadata": {},
     "output_type": "execute_result"
    }
   ],
   "source": [
    "print(\"测试数据缺失总数\")\n",
    "print(raw_df.isnull().sum())\n",
    "\n",
    "print(\"\\n丁香园\")\n",
    "DXY_raw_df.isnull().sum()"
   ]
  },
  {
   "cell_type": "markdown",
   "metadata": {
    "pycharm": {
     "name": "#%% md\n"
    }
   },
   "source": [
    "在介绍完三种查看缺失值的方法后，对于本次任务来说，哪种方法更加合适呢？"
   ]
  },
  {
   "cell_type": "raw",
   "metadata": {
    "pycharm": {
     "name": "#%% raw\n"
    }
   },
   "source": [
    "上述三种中，最合适的是最后一种，结合总共数据的行数进行比对，查看数据缺失的数量，如果接近达到全部确实的情况。\n",
    "可以考虑把该维度去掉，如果只是个别缺失，考虑使用均值、众数、中位数等进行分析处理，避免丢失太多必要的数据情况。\n",
    "    此外第一种也应该是必要的，因为有时候我们需要观察相关的维度的情况或者关系，观察有哪些数据的维度，以及为什么会数据丢失等情况会出现."
   ]
  },
  {
   "cell_type": "markdown",
   "metadata": {
    "pycharm": {
     "name": "#%% md\n"
    }
   },
   "source": [
    "## 步骤 2 \t缺失值填充\n",
    "本次实验我们选择统计量填充方法。统计量填充的选择标准：\n",
    "\n",
    "    对于连续值，推荐使用中位数，可以排除一些特别大或者特别小的异常值造成的影响；\n",
    "    对于离散值，推荐使用众数。\n",
    "    对于confirmedCount，我们应该哪种统计量填充方法呢？¶\n",
    "\n",
    "使用Python中pandas库的dropna()函数，其基本格式如下：\n",
    "\n",
    "**naDataFrame.fill(value=None, method=None, axis=None, inplace=False, limit=None)**\n",
    "\n",
    "关键参数详解：\n",
    "\n",
    "    value: 特定填充值\n",
    "    method: 差值方式：\n",
    "    pad/ffill：用前一个非缺失值去填充该缺失值\n",
    "    backfill/bfill：用下一个非缺失值填充该缺失值\n",
    "    None：指定一个值去替换缺失值（缺省默认这种方式）\n",
    "    axis: 默认为0。axis=0代表d对行数据进行操作，axis=1代表列数据\n",
    "    inplace=True/False：Boolean数据, 默认为False。inplace=True代表直接对原数据集N做出修改。\n",
    "    limit : 阈值。超过阈值才填充该行或该列。"
   ]
  },
  {
   "cell_type": "markdown",
   "metadata": {
    "pycharm": {
     "name": "#%% md\n"
    }
   },
   "source": [
    "观察疫情数据样本的deadCount，发现经常出现连续多天数值不变，因此用前一个非缺失值去填充该缺失值。"
   ]
  },
  {
   "cell_type": "code",
   "execution_count": 78,
   "metadata": {
    "pycharm": {
     "name": "#%%\n"
    }
   },
   "outputs": [
    {
     "data": {
      "text/plain": "0     3204.0\n1     3204.0\n2     3204.0\n3     3204.0\n4     3204.0\n5     3204.0\n6     3204.0\n7     3204.0\n8     3204.0\n9     3204.0\n10    3204.0\n11    3204.0\n12    3204.0\n13    3204.0\n14    3204.0\n15    3204.0\n16    3204.0\n17    3204.0\n18    3204.0\n19    3194.0\n20    3194.0\n21      26.0\n22      26.0\n23      26.0\n24      26.0\n25      26.0\n26      26.0\n27      26.0\nName: deadCount, dtype: float64"
     },
     "execution_count": 78,
     "metadata": {},
     "output_type": "execute_result"
    }
   ],
   "source": [
    "raw_df[\"deadCount\"] = raw_df[\"deadCount\"].ffill()\n",
    "raw_df[\"deadCount\"]"
   ]
  },
  {
   "cell_type": "markdown",
   "metadata": {},
   "source": [
    "丁香园的数据缺失情况：![](Pic/res.JPG)\n",
    "\n",
    "![](Pic/res2.JPG)\n",
    "对于丁香园的数据，同理的有\n",
    "\n",
    "    currentConfirmedCount\n",
    "    seriouscount\n"
   ]
  },
  {
   "cell_type": "code",
   "execution_count": 79,
   "metadata": {
    "pycharm": {
     "name": "#%%\n"
    }
   },
   "outputs": [
    {
     "name": "stdout",
     "output_type": "stream",
     "text": [
      "0       929.0\n",
      "1       929.0\n",
      "2       929.0\n",
      "3       929.0\n",
      "4       929.0\n",
      "        ...  \n",
      "9764      0.0\n",
      "9765      0.0\n",
      "9766      0.0\n",
      "9767      0.0\n",
      "9768      0.0\n",
      "Name: seriousCount, Length: 9769, dtype: float64\n",
      "0        2582.0\n",
      "1        2582.0\n",
      "2        2582.0\n",
      "3        2581.0\n",
      "4        2577.0\n",
      "         ...   \n",
      "9764    38583.0\n",
      "9765    38583.0\n",
      "9766    38583.0\n",
      "9767    38583.0\n",
      "9768    38583.0\n",
      "Name: currentConfirmedCount, Length: 9769, dtype: float64\n",
      "0       宿主：野生动物，可能为中华菊头蝠\n",
      "1       宿主：野生动物，可能为中华菊头蝠\n",
      "2       宿主：野生动物，可能为中华菊头蝠\n",
      "3       宿主：野生动物，可能为中华菊头蝠\n",
      "4       宿主：野生动物，可能为中华菊头蝠\n",
      "              ...       \n",
      "9764           是否有治愈人数：否\n",
      "9765           是否有治愈人数：否\n",
      "9766           是否有治愈人数：否\n",
      "9767           是否有治愈人数：否\n",
      "9768           是否有治愈人数：否\n",
      "Name: remark3, Length: 9769, dtype: object\n",
      "0       9.0\n",
      "1       9.0\n",
      "2       9.0\n",
      "3       9.0\n",
      "4       9.0\n",
      "       ... \n",
      "9764    NaN\n",
      "9765    NaN\n",
      "9766    NaN\n",
      "9767    NaN\n",
      "9768    NaN\n",
      "Name: suspectedIncr, Length: 9769, dtype: float64\n"
     ]
    }
   ],
   "source": [
    "DXY_raw_df['seriousCount'] = DXY_raw_df['seriousCount'].ffill()\n",
    "print(DXY_raw_df['seriousCount'])\n",
    "\n",
    "DXY_raw_df['currentConfirmedCount'] = DXY_raw_df['currentConfirmedCount'].ffill()\n",
    "print(DXY_raw_df['currentConfirmedCount'])\n",
    "\n",
    "DXY_raw_df['remark3'] = DXY_raw_df['remark3'].ffill()\n",
    "print(DXY_raw_df['remark3'])\n",
    "\n",
    "# 对于suspectedIncr维度，尝试backfill模式，下面补充上面\n",
    "DXY_raw_df['suspectedIncr'] = DXY_raw_df['suspectedIncr'].backfill()\n",
    "print(DXY_raw_df['suspectedIncr'])"
   ]
  },
  {
   "cell_type": "markdown",
   "metadata": {},
   "source": [
    "可以看到，数据得到了相关的处理，相关维度的部分空缺值得到了相应的填充\n",
    "\n",
    "# 步骤 3\t  缺失值删除\n",
    "\n",
    "使用Python中pandas库的dropna()函数，其基本格式如下：\n",
    "\n",
    "**DataFrame.dropna(axis=0, how='any', thresh=None, subset=None, inplace=False)**\n",
    "\n",
    "关键参数详解：\n",
    "\n",
    "    axis=0/1，默认为0。axis=0代表d对行数据进行操作，axis=1代表列数据。\n",
    "    how=any/all，默认为any。how=any代表若某行或某列中存在缺失值，则删除该行或该列。\n",
    "    how=all:若某行或某列中数值全部为空，则删除该行或该列。\n",
    "    thresh=N，可选参数，代表若某行或某列中至少含有N个缺失值，则删除该行或该列。\n",
    "    subset=列名，可选参数，代表若指定列中有缺失值，则删除该行。\n",
    "    inplace=True/False，Boolean数据, 默认为False。inplace=True代表直接对原数据集N做出修改。\n",
    "    inplace=False代表修改后生成新数据集M，原数据集N保持不变。"
   ]
  },
  {
   "cell_type": "code",
   "execution_count": 80,
   "metadata": {
    "pycharm": {
     "name": "#%%\n"
    }
   },
   "outputs": [
    {
     "data": {
      "text/plain": "    ID  confirmedCount  curedCount  deadCount    updateTime  rating\n0    1         81054.0       67024     3204.0  1.580000e+12       3\n1    2         81054.0          -1     3204.0  1.580000e+12       3\n2    3         81054.0       67024     3204.0  1.580000e+12       3\n3    4         81054.0       67024     3204.0  1.580000e+12       3\n4    5         81054.0       67024     3204.0  1.580000e+12       3\n5    6         81048.0       67024     3204.0  1.580000e+12       3\n6    7         81048.0       67024     3204.0  1.580000e+12       3\n7    8         81048.0       67023     3204.0  1.580000e+12       3\n8    9         81048.0     6702200     3204.0  1.580000e+12       3\n9   10         81048.0       67022     3204.0  1.580000e+12       3\n10  11         81048.0       67022     3204.0  1.580000e+12       3\n12  13         81048.0       67022     3204.0  1.580000e+12       3\n13  14         81047.0       67011     3204.0  1.580000e+12       3\n14  15         81047.0       67011     3204.0  1.580000e+12       3\n15  16         81043.0       67011     3204.0  1.580000e+12       3\n16  17         81038.0       67007     3204.0  1.580000e+12       3\n17  18         81037.0       67004     3204.0  1.580000e+12       3\n18  19         81033.0       65686     3204.0  1.580000e+12       3\n19  20         81033.0       65680     3194.0  1.580000e+12       3\n20  21         81030.0       65680     3194.0  1.580000e+12       3\n21  22          1076.0          36       26.0  1.580000e+12       1\n22  23          1076.0          36       26.0  1.580000e+12       1\n23  24          1076.0          35       26.0  1.580000e+12       1\n24  25          1076.0          35       26.0  1.580000e+12       1\n25  26          1076.0          35       26.0  1.580000e+12       1\n26  27          1075.0          35       26.0  1.580000e+12       1\n27  28          1075.0          35       26.0  1.580000e+12       1",
      "text/html": "<div>\n<style scoped>\n    .dataframe tbody tr th:only-of-type {\n        vertical-align: middle;\n    }\n\n    .dataframe tbody tr th {\n        vertical-align: top;\n    }\n\n    .dataframe thead th {\n        text-align: right;\n    }\n</style>\n<table border=\"1\" class=\"dataframe\">\n  <thead>\n    <tr style=\"text-align: right;\">\n      <th></th>\n      <th>ID</th>\n      <th>confirmedCount</th>\n      <th>curedCount</th>\n      <th>deadCount</th>\n      <th>updateTime</th>\n      <th>rating</th>\n    </tr>\n  </thead>\n  <tbody>\n    <tr>\n      <th>0</th>\n      <td>1</td>\n      <td>81054.0</td>\n      <td>67024</td>\n      <td>3204.0</td>\n      <td>1.580000e+12</td>\n      <td>3</td>\n    </tr>\n    <tr>\n      <th>1</th>\n      <td>2</td>\n      <td>81054.0</td>\n      <td>-1</td>\n      <td>3204.0</td>\n      <td>1.580000e+12</td>\n      <td>3</td>\n    </tr>\n    <tr>\n      <th>2</th>\n      <td>3</td>\n      <td>81054.0</td>\n      <td>67024</td>\n      <td>3204.0</td>\n      <td>1.580000e+12</td>\n      <td>3</td>\n    </tr>\n    <tr>\n      <th>3</th>\n      <td>4</td>\n      <td>81054.0</td>\n      <td>67024</td>\n      <td>3204.0</td>\n      <td>1.580000e+12</td>\n      <td>3</td>\n    </tr>\n    <tr>\n      <th>4</th>\n      <td>5</td>\n      <td>81054.0</td>\n      <td>67024</td>\n      <td>3204.0</td>\n      <td>1.580000e+12</td>\n      <td>3</td>\n    </tr>\n    <tr>\n      <th>5</th>\n      <td>6</td>\n      <td>81048.0</td>\n      <td>67024</td>\n      <td>3204.0</td>\n      <td>1.580000e+12</td>\n      <td>3</td>\n    </tr>\n    <tr>\n      <th>6</th>\n      <td>7</td>\n      <td>81048.0</td>\n      <td>67024</td>\n      <td>3204.0</td>\n      <td>1.580000e+12</td>\n      <td>3</td>\n    </tr>\n    <tr>\n      <th>7</th>\n      <td>8</td>\n      <td>81048.0</td>\n      <td>67023</td>\n      <td>3204.0</td>\n      <td>1.580000e+12</td>\n      <td>3</td>\n    </tr>\n    <tr>\n      <th>8</th>\n      <td>9</td>\n      <td>81048.0</td>\n      <td>6702200</td>\n      <td>3204.0</td>\n      <td>1.580000e+12</td>\n      <td>3</td>\n    </tr>\n    <tr>\n      <th>9</th>\n      <td>10</td>\n      <td>81048.0</td>\n      <td>67022</td>\n      <td>3204.0</td>\n      <td>1.580000e+12</td>\n      <td>3</td>\n    </tr>\n    <tr>\n      <th>10</th>\n      <td>11</td>\n      <td>81048.0</td>\n      <td>67022</td>\n      <td>3204.0</td>\n      <td>1.580000e+12</td>\n      <td>3</td>\n    </tr>\n    <tr>\n      <th>12</th>\n      <td>13</td>\n      <td>81048.0</td>\n      <td>67022</td>\n      <td>3204.0</td>\n      <td>1.580000e+12</td>\n      <td>3</td>\n    </tr>\n    <tr>\n      <th>13</th>\n      <td>14</td>\n      <td>81047.0</td>\n      <td>67011</td>\n      <td>3204.0</td>\n      <td>1.580000e+12</td>\n      <td>3</td>\n    </tr>\n    <tr>\n      <th>14</th>\n      <td>15</td>\n      <td>81047.0</td>\n      <td>67011</td>\n      <td>3204.0</td>\n      <td>1.580000e+12</td>\n      <td>3</td>\n    </tr>\n    <tr>\n      <th>15</th>\n      <td>16</td>\n      <td>81043.0</td>\n      <td>67011</td>\n      <td>3204.0</td>\n      <td>1.580000e+12</td>\n      <td>3</td>\n    </tr>\n    <tr>\n      <th>16</th>\n      <td>17</td>\n      <td>81038.0</td>\n      <td>67007</td>\n      <td>3204.0</td>\n      <td>1.580000e+12</td>\n      <td>3</td>\n    </tr>\n    <tr>\n      <th>17</th>\n      <td>18</td>\n      <td>81037.0</td>\n      <td>67004</td>\n      <td>3204.0</td>\n      <td>1.580000e+12</td>\n      <td>3</td>\n    </tr>\n    <tr>\n      <th>18</th>\n      <td>19</td>\n      <td>81033.0</td>\n      <td>65686</td>\n      <td>3204.0</td>\n      <td>1.580000e+12</td>\n      <td>3</td>\n    </tr>\n    <tr>\n      <th>19</th>\n      <td>20</td>\n      <td>81033.0</td>\n      <td>65680</td>\n      <td>3194.0</td>\n      <td>1.580000e+12</td>\n      <td>3</td>\n    </tr>\n    <tr>\n      <th>20</th>\n      <td>21</td>\n      <td>81030.0</td>\n      <td>65680</td>\n      <td>3194.0</td>\n      <td>1.580000e+12</td>\n      <td>3</td>\n    </tr>\n    <tr>\n      <th>21</th>\n      <td>22</td>\n      <td>1076.0</td>\n      <td>36</td>\n      <td>26.0</td>\n      <td>1.580000e+12</td>\n      <td>1</td>\n    </tr>\n    <tr>\n      <th>22</th>\n      <td>23</td>\n      <td>1076.0</td>\n      <td>36</td>\n      <td>26.0</td>\n      <td>1.580000e+12</td>\n      <td>1</td>\n    </tr>\n    <tr>\n      <th>23</th>\n      <td>24</td>\n      <td>1076.0</td>\n      <td>35</td>\n      <td>26.0</td>\n      <td>1.580000e+12</td>\n      <td>1</td>\n    </tr>\n    <tr>\n      <th>24</th>\n      <td>25</td>\n      <td>1076.0</td>\n      <td>35</td>\n      <td>26.0</td>\n      <td>1.580000e+12</td>\n      <td>1</td>\n    </tr>\n    <tr>\n      <th>25</th>\n      <td>26</td>\n      <td>1076.0</td>\n      <td>35</td>\n      <td>26.0</td>\n      <td>1.580000e+12</td>\n      <td>1</td>\n    </tr>\n    <tr>\n      <th>26</th>\n      <td>27</td>\n      <td>1075.0</td>\n      <td>35</td>\n      <td>26.0</td>\n      <td>1.580000e+12</td>\n      <td>1</td>\n    </tr>\n    <tr>\n      <th>27</th>\n      <td>28</td>\n      <td>1075.0</td>\n      <td>35</td>\n      <td>26.0</td>\n      <td>1.580000e+12</td>\n      <td>1</td>\n    </tr>\n  </tbody>\n</table>\n</div>"
     },
     "execution_count": 80,
     "metadata": {},
     "output_type": "execute_result"
    }
   ],
   "source": [
    "#样例测试\n",
    "non_na_df = raw_df.dropna()\n",
    "non_na_df"
   ]
  },
  {
   "cell_type": "code",
   "execution_count": 81,
   "metadata": {
    "pycharm": {
     "name": "#%%\n"
    }
   },
   "outputs": [
    {
     "data": {
      "text/plain": "      currentConfirmedCount  confirmedCount  suspectedCount  curedCount  \\\n0                    2582.0           99667            4572       92275   \n1                    2582.0           99667            4572       92275   \n2                    2582.0           99667            4572       92275   \n3                    2581.0           99666            4572       92275   \n4                    2577.0           99662            4572       92275   \n...                     ...             ...             ...         ...   \n9764                38583.0             894            1076          35   \n9765                38583.0             887            1076          35   \n9766                38583.0             887            1076          35   \n9767                38583.0             887            1075          35   \n9768                38583.0             887            1075          35   \n\n      deadCount  seriousCount                                   remark1  \\\n0          4810         929.0  易感人群：人群普遍易感。老年人及有基础疾病者感染后病情较重，儿童及婴幼儿也有发病   \n1          4810         929.0  易感人群：人群普遍易感。老年人及有基础疾病者感染后病情较重，儿童及婴幼儿也有发病   \n2          4810         929.0  易感人群：人群普遍易感。老年人及有基础疾病者感染后病情较重，儿童及婴幼儿也有发病   \n3          4810         929.0  易感人群：人群普遍易感。老年人及有基础疾病者感染后病情较重，儿童及婴幼儿也有发病   \n4          4810         929.0  易感人群：人群普遍易感。老年人及有基础疾病者感染后病情较重，儿童及婴幼儿也有发病   \n...         ...           ...                                       ...   \n9764         26           0.0                               病毒是否变异：存在可能   \n9765         26           0.0                               病毒是否变异：存在可能   \n9766         26           0.0                               病毒是否变异：存在可能   \n9767         26           0.0                               病毒是否变异：存在可能   \n9768         26           0.0                               病毒是否变异：存在可能   \n\n                                                remark2           remark3  \\\n0     潜伏期：一般为 3～7 天，最长不超过 14 天，潜伏期内可能存在传染性，其中无症状病例传染...  宿主：野生动物，可能为中华菊头蝠   \n1     潜伏期：一般为 3～7 天，最长不超过 14 天，潜伏期内可能存在传染性，其中无症状病例传染...  宿主：野生动物，可能为中华菊头蝠   \n2     潜伏期：一般为 3～7 天，最长不超过 14 天，潜伏期内可能存在传染性，其中无症状病例传染...  宿主：野生动物，可能为中华菊头蝠   \n3     潜伏期：一般为 3～7 天，最长不超过 14 天，潜伏期内可能存在传染性，其中无症状病例传染...  宿主：野生动物，可能为中华菊头蝠   \n4     潜伏期：一般为 3～7 天，最长不超过 14 天，潜伏期内可能存在传染性，其中无症状病例传染...  宿主：野生动物，可能为中华菊头蝠   \n...                                                 ...               ...   \n9764                                           疫情是否扩散：是         是否有治愈人数：否   \n9765                                           疫情是否扩散：是         是否有治愈人数：否   \n9766                                           疫情是否扩散：是         是否有治愈人数：否   \n9767                                           疫情是否扩散：是         是否有治愈人数：否   \n9768                                           疫情是否扩散：是         是否有治愈人数：否   \n\n               updateTime  \n0     2021-01-23 02:03:00  \n1     2021-01-23 00:02:56  \n2     2021-01-22 23:40:08  \n3     2021-01-22 19:27:02  \n4     2021-01-22 19:19:03  \n...                   ...  \n9764  2020-01-24 19:50:40  \n9765  2020-01-24 19:13:14  \n9766  2020-01-24 18:09:33  \n9767  2020-01-24 17:26:07  \n9768  2020-01-24 16:29:41  \n\n[9769 rows x 10 columns]",
      "text/html": "<div>\n<style scoped>\n    .dataframe tbody tr th:only-of-type {\n        vertical-align: middle;\n    }\n\n    .dataframe tbody tr th {\n        vertical-align: top;\n    }\n\n    .dataframe thead th {\n        text-align: right;\n    }\n</style>\n<table border=\"1\" class=\"dataframe\">\n  <thead>\n    <tr style=\"text-align: right;\">\n      <th></th>\n      <th>currentConfirmedCount</th>\n      <th>confirmedCount</th>\n      <th>suspectedCount</th>\n      <th>curedCount</th>\n      <th>deadCount</th>\n      <th>seriousCount</th>\n      <th>remark1</th>\n      <th>remark2</th>\n      <th>remark3</th>\n      <th>updateTime</th>\n    </tr>\n  </thead>\n  <tbody>\n    <tr>\n      <th>0</th>\n      <td>2582.0</td>\n      <td>99667</td>\n      <td>4572</td>\n      <td>92275</td>\n      <td>4810</td>\n      <td>929.0</td>\n      <td>易感人群：人群普遍易感。老年人及有基础疾病者感染后病情较重，儿童及婴幼儿也有发病</td>\n      <td>潜伏期：一般为 3～7 天，最长不超过 14 天，潜伏期内可能存在传染性，其中无症状病例传染...</td>\n      <td>宿主：野生动物，可能为中华菊头蝠</td>\n      <td>2021-01-23 02:03:00</td>\n    </tr>\n    <tr>\n      <th>1</th>\n      <td>2582.0</td>\n      <td>99667</td>\n      <td>4572</td>\n      <td>92275</td>\n      <td>4810</td>\n      <td>929.0</td>\n      <td>易感人群：人群普遍易感。老年人及有基础疾病者感染后病情较重，儿童及婴幼儿也有发病</td>\n      <td>潜伏期：一般为 3～7 天，最长不超过 14 天，潜伏期内可能存在传染性，其中无症状病例传染...</td>\n      <td>宿主：野生动物，可能为中华菊头蝠</td>\n      <td>2021-01-23 00:02:56</td>\n    </tr>\n    <tr>\n      <th>2</th>\n      <td>2582.0</td>\n      <td>99667</td>\n      <td>4572</td>\n      <td>92275</td>\n      <td>4810</td>\n      <td>929.0</td>\n      <td>易感人群：人群普遍易感。老年人及有基础疾病者感染后病情较重，儿童及婴幼儿也有发病</td>\n      <td>潜伏期：一般为 3～7 天，最长不超过 14 天，潜伏期内可能存在传染性，其中无症状病例传染...</td>\n      <td>宿主：野生动物，可能为中华菊头蝠</td>\n      <td>2021-01-22 23:40:08</td>\n    </tr>\n    <tr>\n      <th>3</th>\n      <td>2581.0</td>\n      <td>99666</td>\n      <td>4572</td>\n      <td>92275</td>\n      <td>4810</td>\n      <td>929.0</td>\n      <td>易感人群：人群普遍易感。老年人及有基础疾病者感染后病情较重，儿童及婴幼儿也有发病</td>\n      <td>潜伏期：一般为 3～7 天，最长不超过 14 天，潜伏期内可能存在传染性，其中无症状病例传染...</td>\n      <td>宿主：野生动物，可能为中华菊头蝠</td>\n      <td>2021-01-22 19:27:02</td>\n    </tr>\n    <tr>\n      <th>4</th>\n      <td>2577.0</td>\n      <td>99662</td>\n      <td>4572</td>\n      <td>92275</td>\n      <td>4810</td>\n      <td>929.0</td>\n      <td>易感人群：人群普遍易感。老年人及有基础疾病者感染后病情较重，儿童及婴幼儿也有发病</td>\n      <td>潜伏期：一般为 3～7 天，最长不超过 14 天，潜伏期内可能存在传染性，其中无症状病例传染...</td>\n      <td>宿主：野生动物，可能为中华菊头蝠</td>\n      <td>2021-01-22 19:19:03</td>\n    </tr>\n    <tr>\n      <th>...</th>\n      <td>...</td>\n      <td>...</td>\n      <td>...</td>\n      <td>...</td>\n      <td>...</td>\n      <td>...</td>\n      <td>...</td>\n      <td>...</td>\n      <td>...</td>\n      <td>...</td>\n    </tr>\n    <tr>\n      <th>9764</th>\n      <td>38583.0</td>\n      <td>894</td>\n      <td>1076</td>\n      <td>35</td>\n      <td>26</td>\n      <td>0.0</td>\n      <td>病毒是否变异：存在可能</td>\n      <td>疫情是否扩散：是</td>\n      <td>是否有治愈人数：否</td>\n      <td>2020-01-24 19:50:40</td>\n    </tr>\n    <tr>\n      <th>9765</th>\n      <td>38583.0</td>\n      <td>887</td>\n      <td>1076</td>\n      <td>35</td>\n      <td>26</td>\n      <td>0.0</td>\n      <td>病毒是否变异：存在可能</td>\n      <td>疫情是否扩散：是</td>\n      <td>是否有治愈人数：否</td>\n      <td>2020-01-24 19:13:14</td>\n    </tr>\n    <tr>\n      <th>9766</th>\n      <td>38583.0</td>\n      <td>887</td>\n      <td>1076</td>\n      <td>35</td>\n      <td>26</td>\n      <td>0.0</td>\n      <td>病毒是否变异：存在可能</td>\n      <td>疫情是否扩散：是</td>\n      <td>是否有治愈人数：否</td>\n      <td>2020-01-24 18:09:33</td>\n    </tr>\n    <tr>\n      <th>9767</th>\n      <td>38583.0</td>\n      <td>887</td>\n      <td>1075</td>\n      <td>35</td>\n      <td>26</td>\n      <td>0.0</td>\n      <td>病毒是否变异：存在可能</td>\n      <td>疫情是否扩散：是</td>\n      <td>是否有治愈人数：否</td>\n      <td>2020-01-24 17:26:07</td>\n    </tr>\n    <tr>\n      <th>9768</th>\n      <td>38583.0</td>\n      <td>887</td>\n      <td>1075</td>\n      <td>35</td>\n      <td>26</td>\n      <td>0.0</td>\n      <td>病毒是否变异：存在可能</td>\n      <td>疫情是否扩散：是</td>\n      <td>是否有治愈人数：否</td>\n      <td>2020-01-24 16:29:41</td>\n    </tr>\n  </tbody>\n</table>\n<p>9769 rows × 10 columns</p>\n</div>"
     },
     "execution_count": 81,
     "metadata": {},
     "output_type": "execute_result"
    }
   ],
   "source": [
    "#丁香园\n",
    "# 观察数据，发现\n",
    "DXY_non_raw_df = DXY_raw_df.dropna(axis=1)\n",
    "DXY_non_raw_df"
   ]
  },
  {
   "cell_type": "markdown",
   "metadata": {},
   "source": [
    "注意：上面的实际数据，预处理需要对列处理而不是对行处理，否则可能出现表格为空的结果！因为给出的有一些列的数据是空的，我们需要对空的列进行处理。\n",
    "\n",
    "**当删除掉不需要的行时，行索引会变的不连续，这时候可以重新设计新的索引**"
   ]
  },
  {
   "cell_type": "code",
   "execution_count": 82,
   "metadata": {
    "pycharm": {
     "name": "#%%\n"
    }
   },
   "outputs": [
    {
     "data": {
      "text/plain": "ID                False\nconfirmedCount    False\ncuredCount        False\ndeadCount         False\nupdateTime        False\nrating            False\ndtype: bool"
     },
     "execution_count": 82,
     "metadata": {},
     "output_type": "execute_result"
    }
   ],
   "source": [
    "# 测试数据\n",
    "#当删除掉不需要的行时，行索引会变的不连续，这时候可以重新设计新的索引\n",
    "non_na_df.reset_index(drop=True,inplace=True)#drop=True：删除原行索引；inplace=True:在数据上进行更新\n",
    "#检查数据集中是否含有缺失值\n",
    "non_na_df.isnull().any()"
   ]
  },
  {
   "cell_type": "code",
   "execution_count": 83,
   "metadata": {
    "pycharm": {
     "name": "#%%\n"
    }
   },
   "outputs": [
    {
     "data": {
      "text/plain": "currentConfirmedCount    False\nconfirmedCount           False\nsuspectedCount           False\ncuredCount               False\ndeadCount                False\nseriousCount             False\nremark1                  False\nremark2                  False\nremark3                  False\nupdateTime               False\ndtype: bool"
     },
     "execution_count": 83,
     "metadata": {},
     "output_type": "execute_result"
    }
   ],
   "source": [
    "# 丁香园数据\n",
    "DXY_non_raw_df.reset_index(drop=True,inplace=True)#drop=True：删除原行索引；inplace=True:在数据上进行更新\n",
    "#检查数据集中是否含有缺失值\n",
    "DXY_non_raw_df.isnull().any()"
   ]
  },
  {
   "cell_type": "code",
   "execution_count": 84,
   "metadata": {
    "pycharm": {
     "name": "#%%\n"
    }
   },
   "outputs": [
    {
     "data": {
      "text/plain": "      currentConfirmedCount  confirmedCount  suspectedCount  curedCount  \\\n0                    2582.0           99667            4572       92275   \n1                    2582.0           99667            4572       92275   \n2                    2582.0           99667            4572       92275   \n3                    2581.0           99666            4572       92275   \n4                    2577.0           99662            4572       92275   \n...                     ...             ...             ...         ...   \n9764                38583.0             894            1076          35   \n9765                38583.0             887            1076          35   \n9766                38583.0             887            1076          35   \n9767                38583.0             887            1075          35   \n9768                38583.0             887            1075          35   \n\n      deadCount  seriousCount                                   remark1  \\\n0          4810         929.0  易感人群：人群普遍易感。老年人及有基础疾病者感染后病情较重，儿童及婴幼儿也有发病   \n1          4810         929.0  易感人群：人群普遍易感。老年人及有基础疾病者感染后病情较重，儿童及婴幼儿也有发病   \n2          4810         929.0  易感人群：人群普遍易感。老年人及有基础疾病者感染后病情较重，儿童及婴幼儿也有发病   \n3          4810         929.0  易感人群：人群普遍易感。老年人及有基础疾病者感染后病情较重，儿童及婴幼儿也有发病   \n4          4810         929.0  易感人群：人群普遍易感。老年人及有基础疾病者感染后病情较重，儿童及婴幼儿也有发病   \n...         ...           ...                                       ...   \n9764         26           0.0                               病毒是否变异：存在可能   \n9765         26           0.0                               病毒是否变异：存在可能   \n9766         26           0.0                               病毒是否变异：存在可能   \n9767         26           0.0                               病毒是否变异：存在可能   \n9768         26           0.0                               病毒是否变异：存在可能   \n\n                                                remark2           remark3  \\\n0     潜伏期：一般为 3～7 天，最长不超过 14 天，潜伏期内可能存在传染性，其中无症状病例传染...  宿主：野生动物，可能为中华菊头蝠   \n1     潜伏期：一般为 3～7 天，最长不超过 14 天，潜伏期内可能存在传染性，其中无症状病例传染...  宿主：野生动物，可能为中华菊头蝠   \n2     潜伏期：一般为 3～7 天，最长不超过 14 天，潜伏期内可能存在传染性，其中无症状病例传染...  宿主：野生动物，可能为中华菊头蝠   \n3     潜伏期：一般为 3～7 天，最长不超过 14 天，潜伏期内可能存在传染性，其中无症状病例传染...  宿主：野生动物，可能为中华菊头蝠   \n4     潜伏期：一般为 3～7 天，最长不超过 14 天，潜伏期内可能存在传染性，其中无症状病例传染...  宿主：野生动物，可能为中华菊头蝠   \n...                                                 ...               ...   \n9764                                           疫情是否扩散：是         是否有治愈人数：否   \n9765                                           疫情是否扩散：是         是否有治愈人数：否   \n9766                                           疫情是否扩散：是         是否有治愈人数：否   \n9767                                           疫情是否扩散：是         是否有治愈人数：否   \n9768                                           疫情是否扩散：是         是否有治愈人数：否   \n\n               updateTime  \n0     2021-01-23 02:03:00  \n1     2021-01-23 00:02:56  \n2     2021-01-22 23:40:08  \n3     2021-01-22 19:27:02  \n4     2021-01-22 19:19:03  \n...                   ...  \n9764  2020-01-24 19:50:40  \n9765  2020-01-24 19:13:14  \n9766  2020-01-24 18:09:33  \n9767  2020-01-24 17:26:07  \n9768  2020-01-24 16:29:41  \n\n[9769 rows x 10 columns]",
      "text/html": "<div>\n<style scoped>\n    .dataframe tbody tr th:only-of-type {\n        vertical-align: middle;\n    }\n\n    .dataframe tbody tr th {\n        vertical-align: top;\n    }\n\n    .dataframe thead th {\n        text-align: right;\n    }\n</style>\n<table border=\"1\" class=\"dataframe\">\n  <thead>\n    <tr style=\"text-align: right;\">\n      <th></th>\n      <th>currentConfirmedCount</th>\n      <th>confirmedCount</th>\n      <th>suspectedCount</th>\n      <th>curedCount</th>\n      <th>deadCount</th>\n      <th>seriousCount</th>\n      <th>remark1</th>\n      <th>remark2</th>\n      <th>remark3</th>\n      <th>updateTime</th>\n    </tr>\n  </thead>\n  <tbody>\n    <tr>\n      <th>0</th>\n      <td>2582.0</td>\n      <td>99667</td>\n      <td>4572</td>\n      <td>92275</td>\n      <td>4810</td>\n      <td>929.0</td>\n      <td>易感人群：人群普遍易感。老年人及有基础疾病者感染后病情较重，儿童及婴幼儿也有发病</td>\n      <td>潜伏期：一般为 3～7 天，最长不超过 14 天，潜伏期内可能存在传染性，其中无症状病例传染...</td>\n      <td>宿主：野生动物，可能为中华菊头蝠</td>\n      <td>2021-01-23 02:03:00</td>\n    </tr>\n    <tr>\n      <th>1</th>\n      <td>2582.0</td>\n      <td>99667</td>\n      <td>4572</td>\n      <td>92275</td>\n      <td>4810</td>\n      <td>929.0</td>\n      <td>易感人群：人群普遍易感。老年人及有基础疾病者感染后病情较重，儿童及婴幼儿也有发病</td>\n      <td>潜伏期：一般为 3～7 天，最长不超过 14 天，潜伏期内可能存在传染性，其中无症状病例传染...</td>\n      <td>宿主：野生动物，可能为中华菊头蝠</td>\n      <td>2021-01-23 00:02:56</td>\n    </tr>\n    <tr>\n      <th>2</th>\n      <td>2582.0</td>\n      <td>99667</td>\n      <td>4572</td>\n      <td>92275</td>\n      <td>4810</td>\n      <td>929.0</td>\n      <td>易感人群：人群普遍易感。老年人及有基础疾病者感染后病情较重，儿童及婴幼儿也有发病</td>\n      <td>潜伏期：一般为 3～7 天，最长不超过 14 天，潜伏期内可能存在传染性，其中无症状病例传染...</td>\n      <td>宿主：野生动物，可能为中华菊头蝠</td>\n      <td>2021-01-22 23:40:08</td>\n    </tr>\n    <tr>\n      <th>3</th>\n      <td>2581.0</td>\n      <td>99666</td>\n      <td>4572</td>\n      <td>92275</td>\n      <td>4810</td>\n      <td>929.0</td>\n      <td>易感人群：人群普遍易感。老年人及有基础疾病者感染后病情较重，儿童及婴幼儿也有发病</td>\n      <td>潜伏期：一般为 3～7 天，最长不超过 14 天，潜伏期内可能存在传染性，其中无症状病例传染...</td>\n      <td>宿主：野生动物，可能为中华菊头蝠</td>\n      <td>2021-01-22 19:27:02</td>\n    </tr>\n    <tr>\n      <th>4</th>\n      <td>2577.0</td>\n      <td>99662</td>\n      <td>4572</td>\n      <td>92275</td>\n      <td>4810</td>\n      <td>929.0</td>\n      <td>易感人群：人群普遍易感。老年人及有基础疾病者感染后病情较重，儿童及婴幼儿也有发病</td>\n      <td>潜伏期：一般为 3～7 天，最长不超过 14 天，潜伏期内可能存在传染性，其中无症状病例传染...</td>\n      <td>宿主：野生动物，可能为中华菊头蝠</td>\n      <td>2021-01-22 19:19:03</td>\n    </tr>\n    <tr>\n      <th>...</th>\n      <td>...</td>\n      <td>...</td>\n      <td>...</td>\n      <td>...</td>\n      <td>...</td>\n      <td>...</td>\n      <td>...</td>\n      <td>...</td>\n      <td>...</td>\n      <td>...</td>\n    </tr>\n    <tr>\n      <th>9764</th>\n      <td>38583.0</td>\n      <td>894</td>\n      <td>1076</td>\n      <td>35</td>\n      <td>26</td>\n      <td>0.0</td>\n      <td>病毒是否变异：存在可能</td>\n      <td>疫情是否扩散：是</td>\n      <td>是否有治愈人数：否</td>\n      <td>2020-01-24 19:50:40</td>\n    </tr>\n    <tr>\n      <th>9765</th>\n      <td>38583.0</td>\n      <td>887</td>\n      <td>1076</td>\n      <td>35</td>\n      <td>26</td>\n      <td>0.0</td>\n      <td>病毒是否变异：存在可能</td>\n      <td>疫情是否扩散：是</td>\n      <td>是否有治愈人数：否</td>\n      <td>2020-01-24 19:13:14</td>\n    </tr>\n    <tr>\n      <th>9766</th>\n      <td>38583.0</td>\n      <td>887</td>\n      <td>1076</td>\n      <td>35</td>\n      <td>26</td>\n      <td>0.0</td>\n      <td>病毒是否变异：存在可能</td>\n      <td>疫情是否扩散：是</td>\n      <td>是否有治愈人数：否</td>\n      <td>2020-01-24 18:09:33</td>\n    </tr>\n    <tr>\n      <th>9767</th>\n      <td>38583.0</td>\n      <td>887</td>\n      <td>1075</td>\n      <td>35</td>\n      <td>26</td>\n      <td>0.0</td>\n      <td>病毒是否变异：存在可能</td>\n      <td>疫情是否扩散：是</td>\n      <td>是否有治愈人数：否</td>\n      <td>2020-01-24 17:26:07</td>\n    </tr>\n    <tr>\n      <th>9768</th>\n      <td>38583.0</td>\n      <td>887</td>\n      <td>1075</td>\n      <td>35</td>\n      <td>26</td>\n      <td>0.0</td>\n      <td>病毒是否变异：存在可能</td>\n      <td>疫情是否扩散：是</td>\n      <td>是否有治愈人数：否</td>\n      <td>2020-01-24 16:29:41</td>\n    </tr>\n  </tbody>\n</table>\n<p>9769 rows × 10 columns</p>\n</div>"
     },
     "execution_count": 84,
     "metadata": {},
     "output_type": "execute_result"
    }
   ],
   "source": [
    "# 查看丁香园处理后的数据\n",
    "DXY_non_raw_df"
   ]
  },
  {
   "cell_type": "markdown",
   "metadata": {},
   "source": [
    "#  重复值处理\n",
    "\n",
    "pandas中，除去重复值的常用方法为drop_duplicate，其基本格式如下：\n",
    "\n",
    "**DataFrame.drop_duplicates(subset=None, keep='first', inplace=False)：**\n",
    "\n",
    "关键参数详解：\n",
    "\n",
    "    subset:用来指定特定的列，默认所有列；\n",
    "    keep: {'first', 'last', False}。默认值为'first'，用于删除重复项并保留第一次出现的项；\n",
    "    inplace:是直接在原来数据上修改还是保留一个副本，默认是False\n",
    "\n",
    "测试代码如下："
   ]
  },
  {
   "cell_type": "code",
   "execution_count": 85,
   "metadata": {
    "pycharm": {
     "name": "#%%\n"
    }
   },
   "outputs": [
    {
     "data": {
      "text/plain": "    ID  confirmedCount  curedCount  deadCount    updateTime  rating\n1    2         81054.0          -1     3204.0  1.580000e+12       3\n4    5         81054.0       67024     3204.0  1.580000e+12       3\n6    7         81048.0       67024     3204.0  1.580000e+12       3\n7    8         81048.0       67023     3204.0  1.580000e+12       3\n8    9         81048.0     6702200     3204.0  1.580000e+12       3\n11  13         81048.0       67022     3204.0  1.580000e+12       3\n13  15         81047.0       67011     3204.0  1.580000e+12       3\n14  16         81043.0       67011     3204.0  1.580000e+12       3\n15  17         81038.0       67007     3204.0  1.580000e+12       3\n16  18         81037.0       67004     3204.0  1.580000e+12       3\n17  19         81033.0       65686     3204.0  1.580000e+12       3\n18  20         81033.0       65680     3194.0  1.580000e+12       3\n19  21         81030.0       65680     3194.0  1.580000e+12       3\n21  23          1076.0          36       26.0  1.580000e+12       1\n24  26          1076.0          35       26.0  1.580000e+12       1\n26  28          1075.0          35       26.0  1.580000e+12       1",
      "text/html": "<div>\n<style scoped>\n    .dataframe tbody tr th:only-of-type {\n        vertical-align: middle;\n    }\n\n    .dataframe tbody tr th {\n        vertical-align: top;\n    }\n\n    .dataframe thead th {\n        text-align: right;\n    }\n</style>\n<table border=\"1\" class=\"dataframe\">\n  <thead>\n    <tr style=\"text-align: right;\">\n      <th></th>\n      <th>ID</th>\n      <th>confirmedCount</th>\n      <th>curedCount</th>\n      <th>deadCount</th>\n      <th>updateTime</th>\n      <th>rating</th>\n    </tr>\n  </thead>\n  <tbody>\n    <tr>\n      <th>1</th>\n      <td>2</td>\n      <td>81054.0</td>\n      <td>-1</td>\n      <td>3204.0</td>\n      <td>1.580000e+12</td>\n      <td>3</td>\n    </tr>\n    <tr>\n      <th>4</th>\n      <td>5</td>\n      <td>81054.0</td>\n      <td>67024</td>\n      <td>3204.0</td>\n      <td>1.580000e+12</td>\n      <td>3</td>\n    </tr>\n    <tr>\n      <th>6</th>\n      <td>7</td>\n      <td>81048.0</td>\n      <td>67024</td>\n      <td>3204.0</td>\n      <td>1.580000e+12</td>\n      <td>3</td>\n    </tr>\n    <tr>\n      <th>7</th>\n      <td>8</td>\n      <td>81048.0</td>\n      <td>67023</td>\n      <td>3204.0</td>\n      <td>1.580000e+12</td>\n      <td>3</td>\n    </tr>\n    <tr>\n      <th>8</th>\n      <td>9</td>\n      <td>81048.0</td>\n      <td>6702200</td>\n      <td>3204.0</td>\n      <td>1.580000e+12</td>\n      <td>3</td>\n    </tr>\n    <tr>\n      <th>11</th>\n      <td>13</td>\n      <td>81048.0</td>\n      <td>67022</td>\n      <td>3204.0</td>\n      <td>1.580000e+12</td>\n      <td>3</td>\n    </tr>\n    <tr>\n      <th>13</th>\n      <td>15</td>\n      <td>81047.0</td>\n      <td>67011</td>\n      <td>3204.0</td>\n      <td>1.580000e+12</td>\n      <td>3</td>\n    </tr>\n    <tr>\n      <th>14</th>\n      <td>16</td>\n      <td>81043.0</td>\n      <td>67011</td>\n      <td>3204.0</td>\n      <td>1.580000e+12</td>\n      <td>3</td>\n    </tr>\n    <tr>\n      <th>15</th>\n      <td>17</td>\n      <td>81038.0</td>\n      <td>67007</td>\n      <td>3204.0</td>\n      <td>1.580000e+12</td>\n      <td>3</td>\n    </tr>\n    <tr>\n      <th>16</th>\n      <td>18</td>\n      <td>81037.0</td>\n      <td>67004</td>\n      <td>3204.0</td>\n      <td>1.580000e+12</td>\n      <td>3</td>\n    </tr>\n    <tr>\n      <th>17</th>\n      <td>19</td>\n      <td>81033.0</td>\n      <td>65686</td>\n      <td>3204.0</td>\n      <td>1.580000e+12</td>\n      <td>3</td>\n    </tr>\n    <tr>\n      <th>18</th>\n      <td>20</td>\n      <td>81033.0</td>\n      <td>65680</td>\n      <td>3194.0</td>\n      <td>1.580000e+12</td>\n      <td>3</td>\n    </tr>\n    <tr>\n      <th>19</th>\n      <td>21</td>\n      <td>81030.0</td>\n      <td>65680</td>\n      <td>3194.0</td>\n      <td>1.580000e+12</td>\n      <td>3</td>\n    </tr>\n    <tr>\n      <th>21</th>\n      <td>23</td>\n      <td>1076.0</td>\n      <td>36</td>\n      <td>26.0</td>\n      <td>1.580000e+12</td>\n      <td>1</td>\n    </tr>\n    <tr>\n      <th>24</th>\n      <td>26</td>\n      <td>1076.0</td>\n      <td>35</td>\n      <td>26.0</td>\n      <td>1.580000e+12</td>\n      <td>1</td>\n    </tr>\n    <tr>\n      <th>26</th>\n      <td>28</td>\n      <td>1075.0</td>\n      <td>35</td>\n      <td>26.0</td>\n      <td>1.580000e+12</td>\n      <td>1</td>\n    </tr>\n  </tbody>\n</table>\n</div>"
     },
     "execution_count": 85,
     "metadata": {},
     "output_type": "execute_result"
    }
   ],
   "source": [
    "# 测试样例文档\n",
    "non_na_df_cp = non_na_df.drop_duplicates(['confirmedCount', 'curedCount'],keep='last')\n",
    "non_na_df_cp"
   ]
  },
  {
   "cell_type": "markdown",
   "metadata": {
    "pycharm": {
     "name": "#%% md\n"
    }
   },
   "source": [
    "注意：对于丁香园的数据，如果不对相关维度去重，由于存在updateTime维度，不同时间必然导致无法去重的问题"
   ]
  },
  {
   "cell_type": "code",
   "execution_count": 86,
   "metadata": {
    "pycharm": {
     "name": "#%%\n"
    }
   },
   "outputs": [
    {
     "data": {
      "text/plain": "      currentConfirmedCount  confirmedCount  suspectedCount  curedCount  \\\n2                    2582.0           99667            4572       92275   \n3                    2581.0           99666            4572       92275   \n5                    2577.0           99662            4572       92275   \n6                    2575.0           99654            4572       92269   \n7                    2559.0           99593            4572       92225   \n...                     ...             ...             ...         ...   \n9762                38583.0             896            1076          36   \n9763                38583.0             894            1076          36   \n9764                38583.0             894            1076          35   \n9766                38583.0             887            1076          35   \n9768                38583.0             887            1075          35   \n\n      deadCount  seriousCount                                   remark1  \\\n2          4810         929.0  易感人群：人群普遍易感。老年人及有基础疾病者感染后病情较重，儿童及婴幼儿也有发病   \n3          4810         929.0  易感人群：人群普遍易感。老年人及有基础疾病者感染后病情较重，儿童及婴幼儿也有发病   \n5          4810         929.0  易感人群：人群普遍易感。老年人及有基础疾病者感染后病情较重，儿童及婴幼儿也有发病   \n6          4810         929.0  易感人群：人群普遍易感。老年人及有基础疾病者感染后病情较重，儿童及婴幼儿也有发病   \n7          4809         929.0  易感人群：人群普遍易感。老年人及有基础疾病者感染后病情较重，儿童及婴幼儿也有发病   \n...         ...           ...                                       ...   \n9762         26           0.0                               病毒是否变异：存在可能   \n9763         26           0.0                               病毒是否变异：存在可能   \n9764         26           0.0                               病毒是否变异：存在可能   \n9766         26           0.0                               病毒是否变异：存在可能   \n9768         26           0.0                               病毒是否变异：存在可能   \n\n                                                remark2           remark3  \\\n2     潜伏期：一般为 3～7 天，最长不超过 14 天，潜伏期内可能存在传染性，其中无症状病例传染...  宿主：野生动物，可能为中华菊头蝠   \n3     潜伏期：一般为 3～7 天，最长不超过 14 天，潜伏期内可能存在传染性，其中无症状病例传染...  宿主：野生动物，可能为中华菊头蝠   \n5     潜伏期：一般为 3～7 天，最长不超过 14 天，潜伏期内可能存在传染性，其中无症状病例传染...  宿主：野生动物，可能为中华菊头蝠   \n6     潜伏期：一般为 3～7 天，最长不超过 14 天，潜伏期内可能存在传染性，其中无症状病例传染...  宿主：野生动物，可能为中华菊头蝠   \n7     潜伏期：一般为 3～7 天，最长不超过 14 天，潜伏期内可能存在传染性，其中无症状病例传染...  宿主：野生动物，可能为中华菊头蝠   \n...                                                 ...               ...   \n9762                                           疫情是否扩散：是         是否有治愈人数：否   \n9763                                           疫情是否扩散：是         是否有治愈人数：否   \n9764                                           疫情是否扩散：是         是否有治愈人数：否   \n9766                                           疫情是否扩散：是         是否有治愈人数：否   \n9768                                           疫情是否扩散：是         是否有治愈人数：否   \n\n               updateTime  \n2     2021-01-22 23:40:08  \n3     2021-01-22 19:27:02  \n5     2021-01-22 19:16:40  \n6     2021-01-22 19:14:19  \n7     2021-01-22 19:07:22  \n...                   ...  \n9762  2020-01-24 21:38:54  \n9763  2020-01-24 20:45:17  \n9764  2020-01-24 19:50:40  \n9766  2020-01-24 18:09:33  \n9768  2020-01-24 16:29:41  \n\n[3417 rows x 10 columns]",
      "text/html": "<div>\n<style scoped>\n    .dataframe tbody tr th:only-of-type {\n        vertical-align: middle;\n    }\n\n    .dataframe tbody tr th {\n        vertical-align: top;\n    }\n\n    .dataframe thead th {\n        text-align: right;\n    }\n</style>\n<table border=\"1\" class=\"dataframe\">\n  <thead>\n    <tr style=\"text-align: right;\">\n      <th></th>\n      <th>currentConfirmedCount</th>\n      <th>confirmedCount</th>\n      <th>suspectedCount</th>\n      <th>curedCount</th>\n      <th>deadCount</th>\n      <th>seriousCount</th>\n      <th>remark1</th>\n      <th>remark2</th>\n      <th>remark3</th>\n      <th>updateTime</th>\n    </tr>\n  </thead>\n  <tbody>\n    <tr>\n      <th>2</th>\n      <td>2582.0</td>\n      <td>99667</td>\n      <td>4572</td>\n      <td>92275</td>\n      <td>4810</td>\n      <td>929.0</td>\n      <td>易感人群：人群普遍易感。老年人及有基础疾病者感染后病情较重，儿童及婴幼儿也有发病</td>\n      <td>潜伏期：一般为 3～7 天，最长不超过 14 天，潜伏期内可能存在传染性，其中无症状病例传染...</td>\n      <td>宿主：野生动物，可能为中华菊头蝠</td>\n      <td>2021-01-22 23:40:08</td>\n    </tr>\n    <tr>\n      <th>3</th>\n      <td>2581.0</td>\n      <td>99666</td>\n      <td>4572</td>\n      <td>92275</td>\n      <td>4810</td>\n      <td>929.0</td>\n      <td>易感人群：人群普遍易感。老年人及有基础疾病者感染后病情较重，儿童及婴幼儿也有发病</td>\n      <td>潜伏期：一般为 3～7 天，最长不超过 14 天，潜伏期内可能存在传染性，其中无症状病例传染...</td>\n      <td>宿主：野生动物，可能为中华菊头蝠</td>\n      <td>2021-01-22 19:27:02</td>\n    </tr>\n    <tr>\n      <th>5</th>\n      <td>2577.0</td>\n      <td>99662</td>\n      <td>4572</td>\n      <td>92275</td>\n      <td>4810</td>\n      <td>929.0</td>\n      <td>易感人群：人群普遍易感。老年人及有基础疾病者感染后病情较重，儿童及婴幼儿也有发病</td>\n      <td>潜伏期：一般为 3～7 天，最长不超过 14 天，潜伏期内可能存在传染性，其中无症状病例传染...</td>\n      <td>宿主：野生动物，可能为中华菊头蝠</td>\n      <td>2021-01-22 19:16:40</td>\n    </tr>\n    <tr>\n      <th>6</th>\n      <td>2575.0</td>\n      <td>99654</td>\n      <td>4572</td>\n      <td>92269</td>\n      <td>4810</td>\n      <td>929.0</td>\n      <td>易感人群：人群普遍易感。老年人及有基础疾病者感染后病情较重，儿童及婴幼儿也有发病</td>\n      <td>潜伏期：一般为 3～7 天，最长不超过 14 天，潜伏期内可能存在传染性，其中无症状病例传染...</td>\n      <td>宿主：野生动物，可能为中华菊头蝠</td>\n      <td>2021-01-22 19:14:19</td>\n    </tr>\n    <tr>\n      <th>7</th>\n      <td>2559.0</td>\n      <td>99593</td>\n      <td>4572</td>\n      <td>92225</td>\n      <td>4809</td>\n      <td>929.0</td>\n      <td>易感人群：人群普遍易感。老年人及有基础疾病者感染后病情较重，儿童及婴幼儿也有发病</td>\n      <td>潜伏期：一般为 3～7 天，最长不超过 14 天，潜伏期内可能存在传染性，其中无症状病例传染...</td>\n      <td>宿主：野生动物，可能为中华菊头蝠</td>\n      <td>2021-01-22 19:07:22</td>\n    </tr>\n    <tr>\n      <th>...</th>\n      <td>...</td>\n      <td>...</td>\n      <td>...</td>\n      <td>...</td>\n      <td>...</td>\n      <td>...</td>\n      <td>...</td>\n      <td>...</td>\n      <td>...</td>\n      <td>...</td>\n    </tr>\n    <tr>\n      <th>9762</th>\n      <td>38583.0</td>\n      <td>896</td>\n      <td>1076</td>\n      <td>36</td>\n      <td>26</td>\n      <td>0.0</td>\n      <td>病毒是否变异：存在可能</td>\n      <td>疫情是否扩散：是</td>\n      <td>是否有治愈人数：否</td>\n      <td>2020-01-24 21:38:54</td>\n    </tr>\n    <tr>\n      <th>9763</th>\n      <td>38583.0</td>\n      <td>894</td>\n      <td>1076</td>\n      <td>36</td>\n      <td>26</td>\n      <td>0.0</td>\n      <td>病毒是否变异：存在可能</td>\n      <td>疫情是否扩散：是</td>\n      <td>是否有治愈人数：否</td>\n      <td>2020-01-24 20:45:17</td>\n    </tr>\n    <tr>\n      <th>9764</th>\n      <td>38583.0</td>\n      <td>894</td>\n      <td>1076</td>\n      <td>35</td>\n      <td>26</td>\n      <td>0.0</td>\n      <td>病毒是否变异：存在可能</td>\n      <td>疫情是否扩散：是</td>\n      <td>是否有治愈人数：否</td>\n      <td>2020-01-24 19:50:40</td>\n    </tr>\n    <tr>\n      <th>9766</th>\n      <td>38583.0</td>\n      <td>887</td>\n      <td>1076</td>\n      <td>35</td>\n      <td>26</td>\n      <td>0.0</td>\n      <td>病毒是否变异：存在可能</td>\n      <td>疫情是否扩散：是</td>\n      <td>是否有治愈人数：否</td>\n      <td>2020-01-24 18:09:33</td>\n    </tr>\n    <tr>\n      <th>9768</th>\n      <td>38583.0</td>\n      <td>887</td>\n      <td>1075</td>\n      <td>35</td>\n      <td>26</td>\n      <td>0.0</td>\n      <td>病毒是否变异：存在可能</td>\n      <td>疫情是否扩散：是</td>\n      <td>是否有治愈人数：否</td>\n      <td>2020-01-24 16:29:41</td>\n    </tr>\n  </tbody>\n</table>\n<p>3417 rows × 10 columns</p>\n</div>"
     },
     "execution_count": 86,
     "metadata": {},
     "output_type": "execute_result"
    }
   ],
   "source": [
    "DXY_non_raw_df = DXY_non_raw_df.drop_duplicates(['currentConfirmedCount','confirmedCount','suspectedCount','curedCount','deadCount','seriousCount'],keep='last')\n",
    "DXY_non_raw_df"
   ]
  },
  {
   "cell_type": "markdown",
   "metadata": {},
   "source": [
    "可以看到行索引又发生了变化，实现了去重\n",
    "\n",
    "# 异常值处理\n",
    "\n",
    "异常值检测和处理异常值。 异常值检测的方法主要有：\n",
    "\n",
    "    1）简单统计分析；\n",
    "    2）散点图；\n",
    "    3）箱型图；\n",
    "    4）3-sigma；\n",
    "    5）基于模型的异常值检测等。\n",
    "\n",
    "本实验只试验1）和2），其他方法请线下进行调研和试验。\n",
    "\n",
    "异常值处理的方法主要包括：\n",
    "    1）删除；\n",
    "    2）视为缺失值，进行处理；\n",
    "    3）不处理：可以直接在具有异常值的数据集上进行数据建模。\n",
    "\n",
    "下面我们将根据一个含有异常值的特征数据，来处理特征的异常值。\n",
    "\n",
    "data-test.csv 测试代码："
   ]
  },
  {
   "cell_type": "code",
   "execution_count": 87,
   "metadata": {
    "pycharm": {
     "name": "#%%\n"
    }
   },
   "outputs": [
    {
     "data": {
      "text/plain": "0       67024\n1          -1\n2       67024\n3       67024\n4       67024\n5       67024\n6       67024\n7       67023\n8     6702200\n9       67022\n10      67022\n11      67022\n12      67011\n13      67011\n14      67011\n15      67007\n16      67004\n17      65686\n18      65680\n19      65680\n20         36\n21         36\n22         35\n23         35\n24         35\n25         35\n26         35\nName: curedCount, dtype: int64"
     },
     "execution_count": 87,
     "metadata": {},
     "output_type": "execute_result"
    }
   ],
   "source": [
    "curedcount_copy = non_na_df.copy()\n",
    "#查看特征信息\n",
    "curedcount_copy[\"curedCount\"]"
   ]
  },
  {
   "cell_type": "markdown",
   "metadata": {},
   "source": [
    "curedCount数据是int64的，经过观察，发现数据1最小数值和数据8最大数值似乎存在异常，需要进行处理。\n",
    "对于丁香园的数据进行查看："
   ]
  },
  {
   "cell_type": "code",
   "execution_count": 88,
   "metadata": {
    "pycharm": {
     "name": "#%%\n"
    }
   },
   "outputs": [
    {
     "data": {
      "text/plain": "2       4810\n3       4810\n5       4810\n6       4810\n7       4809\n        ... \n9762      26\n9763      26\n9764      26\n9766      26\n9768      26\nName: deadCount, Length: 3417, dtype: int64"
     },
     "execution_count": 88,
     "metadata": {},
     "output_type": "execute_result"
    }
   ],
   "source": [
    "DXY_curedcount_copy = DXY_non_raw_df.copy()\n",
    "#查看特征信息\n",
    "DXY_curedcount_copy[\"deadCount\"]\n"
   ]
  },
  {
   "cell_type": "code",
   "execution_count": 89,
   "metadata": {
    "pycharm": {
     "name": "#%%\n"
    }
   },
   "outputs": [
    {
     "name": "stdout",
     "output_type": "stream",
     "text": [
      "         deadCount\n",
      "count  3417.000000\n",
      "mean   2954.299093\n",
      "std    1623.730451\n",
      "min       0.000000\n",
      "25%    1524.000000\n",
      "50%    3173.000000\n",
      "75%    4648.000000\n",
      "max    4810.000000\n",
      "\n",
      "\n",
      "       currentConfirmedCount\n",
      "count            3417.000000\n",
      "mean            22223.170910\n",
      "std             21640.770137\n",
      "min               104.000000\n",
      "25%              1329.000000\n",
      "50%             14875.000000\n",
      "75%             38583.000000\n",
      "max             58127.000000\n"
     ]
    }
   ],
   "source": [
    "# 查看数值的动态范围\n",
    "print(DXY_curedcount_copy[\"deadCount\"].to_frame().describe())\n",
    "print('\\n')\n",
    "print(DXY_curedcount_copy[\"currentConfirmedCount\"].to_frame().describe())"
   ]
  },
  {
   "cell_type": "markdown",
   "metadata": {},
   "source": [
    "面对比较多的数据时，往往看不清楚数据背后的异常情况，这时候我们尝试对数据进行可视化，\n",
    "观察是否有一些数据存在异常的现象。下面直接对样例测试数据和丁香园的数据进行测试：\n"
   ]
  },
  {
   "cell_type": "code",
   "execution_count": 90,
   "metadata": {
    "pycharm": {
     "name": "#%%\n"
    }
   },
   "outputs": [
    {
     "data": {
      "text/plain": "<Figure size 720x720 with 1 Axes>",
      "image/png": "[encoded data removed]"
     },
     "metadata": {},
     "output_type": "display_data"
    }
   ],
   "source": [
    "# test-data样例数据\n",
    "plt.figure(figsize = (10,10))\n",
    "sns.regplot(x=\"updateTime\", y=\"curedCount\", color='darkorange',data=curedcount_copy)\n",
    "curedcount_copy.to_csv('data-test-1.1.csv') #保存文件"
   ]
  },
  {
   "cell_type": "code",
   "execution_count": 91,
   "metadata": {
    "pycharm": {
     "name": "#%%\n"
    }
   },
   "outputs": [
    {
     "data": {
      "text/plain": "Text(0.5, 0, 'index')"
     },
     "execution_count": 91,
     "metadata": {},
     "output_type": "execute_result"
    },
    {
     "data": {
      "text/plain": "<Figure size 720x720 with 1 Axes>",
      "image/png": "[encoded data removed]"
     },
     "metadata": {},
     "output_type": "display_data"
    }
   ],
   "source": [
    "plt.figure(figsize = (10,10))\n",
    "sns.regplot(x= DXY_curedcount_copy.index,y=\"deadCount\", color='darkorange',data=DXY_curedcount_copy)\n",
    "DXY_curedcount_copy.to_csv('DXY-1.1.csv') #保存文件\n",
    "plt.xlabel(\"index\")"
   ]
  },
  {
   "cell_type": "markdown",
   "metadata": {},
   "source": [
    "上图尝试以横轴为索引，纵轴为deadCount实现对表格数据进行观测，发现一些问题看不清楚，如9754条的deadCount值为0是不符合情况的\n",
    "对于currentConfirmedCount 维度尝试观察，发现下图，确实存在一些异常值。"
   ]
  },
  {
   "cell_type": "code",
   "execution_count": 92,
   "metadata": {
    "pycharm": {
     "name": "#%%\n"
    }
   },
   "outputs": [
    {
     "data": {
      "text/plain": "Text(0.5, 0, 'index')"
     },
     "execution_count": 92,
     "metadata": {},
     "output_type": "execute_result"
    },
    {
     "data": {
      "text/plain": "<Figure size 720x720 with 1 Axes>",
      "image/png": "[encoded data removed]"
     },
     "metadata": {},
     "output_type": "display_data"
    }
   ],
   "source": [
    "plt.figure(figsize = (10,10))\n",
    "sns.regplot(x= DXY_curedcount_copy.index,y=\"currentConfirmedCount\", color='darkorange',data=DXY_curedcount_copy)\n",
    "plt.xlabel(\"index\")"
   ]
  },
  {
   "cell_type": "markdown",
   "metadata": {},
   "source": [
    "查表观察，发现currentConfirmedCount在5502和5503条出现了872和907，和附近的1872不符，出现异常\n",
    "deadCount在9754条有一个数据为0，但是在散点图中看不出来，尝试用其他的维度观察"
   ]
  },
  {
   "cell_type": "markdown",
   "metadata": {},
   "source": [
    "### 在检测到异常值后，对于本次任务来说，哪种处理方法更加合适呢？"
   ]
  },
  {
   "cell_type": "raw",
   "metadata": {
    "pycharm": {
     "name": "#%% raw\n"
    }
   },
   "source": [
    "处理方法可以根据异常值检测的方法选择\n",
    "首先我们可以选择使用人工观察，从上述的散点图出发，观察不符合数据的位置和点进行分析。\n",
    "找到异常值所在的大致位置，观察相关数据判断是否合理进行手动处理。\n",
    "在丁香园的数据中，对于新增患者、死亡患者等数据有一部分在表格的D栏中已经体现，明显有不符合的数据，\n",
    "这时候可以看一下上下的数据，可以直接当做缺失值进行处理，上下文补充，也可以按行删除数据，但是也要看情况，最好分析一下异常的原因\n",
    "可以直接在具有异常值的数据集上进行数据建模的情况比较复杂，如果数据的其他维度有参考价值，同时这里上下之间数据联系性很小，可以考虑保留"
   ]
  },
  {
   "cell_type": "code",
   "execution_count": 93,
   "metadata": {
    "pycharm": {
     "name": "#%%\n"
    }
   },
   "outputs": [
    {
     "data": {
      "text/plain": "<Figure size 720x576 with 1 Axes>",
      "image/png": "[encoded data removed]"
     },
     "metadata": {},
     "output_type": "display_data"
    }
   ],
   "source": [
    "df = DXY_curedcount_copy\n",
    "f,ax=plt.subplots(figsize=(10,8))\n",
    "sns.boxplot(y='deadCount',data=df,ax=ax)\n",
    "plt.show()"
   ]
  },
  {
   "cell_type": "code",
   "execution_count": 94,
   "metadata": {
    "pycharm": {
     "name": "#%%\n"
    }
   },
   "outputs": [
    {
     "data": {
      "text/plain": "Text(0.5, 0, 'index')"
     },
     "execution_count": 94,
     "metadata": {},
     "output_type": "execute_result"
    },
    {
     "data": {
      "text/plain": "<Figure size 720x720 with 1 Axes>",
      "image/png": "[encoded data removed]"
     },
     "metadata": {},
     "output_type": "display_data"
    }
   ],
   "source": [
    "# 异常值处理\n",
    "DXY_curedcount_copy['deadCount'].replace(0,np.nan,inplace=True)\n",
    "# 变成缺失值再处理\n",
    "DXY_curedcount_copy['deadCount'] = DXY_curedcount_copy['deadCount'].ffill()\n",
    "\n",
    "DXY_curedcount_copy['currentConfirmedCount'].replace(872,np.nan,inplace=True, limit=1)\n",
    "# 变成缺失值再处理\n",
    "DXY_curedcount_copy['currentConfirmedCount'].replace(907,np.nan,inplace=True, limit=1)\n",
    "DXY_curedcount_copy['currentConfirmedCount'] = DXY_curedcount_copy['currentConfirmedCount'].ffill()\n",
    "\n",
    "plt.figure(figsize = (10,10))\n",
    "sns.regplot(x= DXY_curedcount_copy.index,y=\"currentConfirmedCount\", color='darkorange',data=DXY_curedcount_copy)\n",
    "plt.xlabel(\"index\")"
   ]
  },
  {
   "cell_type": "markdown",
   "metadata": {},
   "source": [
    "重新拟合可以看到不符合的点消失了，表示清理成功。\n",
    "\n",
    "#  特征工程\n",
    "\n",
    "本次实验我们将介绍特征选择和降维技术，作为数据挖掘工程中的重要环节，两种技术都可以提升模型的性能、模型运行效率和数据的可用性。\n",
    "\n",
    "特征选择和降维都是在数据建模之前，对原始数据特征进行选择或是压缩的重要环节，也是数据挖掘过程中非常需要处理技巧和消耗时间较多的环节。本章选择最常用的特征选择和降维方法进行练习，希望进一步加强读者对特征选择和降维方法的理解，帮助学生掌握常规的特征选择和降维方法。\n",
    "\n",
    "本次实验将介绍Filter特征选择方法的使用。最后为介绍PCA的降维方法。\n",
    "\n",
    "本部分包括两个实验：\n",
    "\n",
    "    1、Filter特征选择方法；\n",
    "    2、PCA降维。\n",
    "\n",
    "## 特征选择\n",
    "\n",
    "特征选择是从特征集中找出与目标变量有影响且具有较高区分性特征去训练模型，获得预测性能更好的模型。特征选择的主要作用：减少特征数量、降维，使模型泛化能力更强，减少过拟合；增强对特征和特征值之间的理解。\n",
    "\n",
    "选择特征首先是考虑特征的发散性和相关性两方面：\n",
    "\n",
    "    特征是否发散：如果一个特征不发散，例如方差接近于0，也就是说样本在这个特征上基本上没有差异，这个特征对于样本的区分并没有什么用。\n",
    "    特征与目标的相关性：优先选择与目标相关性高的特征。从特征的方差和相关性考虑。\n",
    "\n",
    "特征选择方法有很多，主要包含特征减少和特征扩增。\n",
    "\n",
    "这里我们主要介绍特征减少的操作。主要包括：Filter（过滤法）。\n",
    "\n",
    "### Filter（过滤法）\n",
    "\n",
    "Filter用来衡量每个特征对目标属性的重要性程度，以此来对所有特征/属性进行排序，或者进行优选操作，特征选择的过程和后续的学习器无关（区别于另外两个方法)。过滤法是一种单变量统计方法，没有考虑到特征之间的关系，因此很可能选择出重要但是冗余的特征。\n",
    "\n",
    "**常用的具体技术有下述四种：方差选择法、卡方检验、互信息法和相关系数法。**\n",
    "\n",
    "本实验只试验前两种方法，通过sklearn中的子模块中feature_selection的数据调用：\n",
    "\n",
    "    方差选择法（调用VarianceThreshold方法）\n",
    "    卡方检验法（调用SelectKBest函数）\n",
    "\n",
    "过滤法的选择：\n",
    "\n",
    "方差选择法：可以作为特征选择的预处理，先去掉那些取值变化小的特征，然后再从其他特征选择方法中选择合适的进行进一步的特征选择。\n",
    "\n",
    "![](Pic/filt.JPG)\n",
    "\n",
    "**步骤 1\t数据读取**\n",
    "\n",
    "注意读取预处理过的数据集，\n",
    "否则空值和异常值将影响特征选择的效果或者导致特征选择失败。\n",
    "代码："
   ]
  },
  {
   "cell_type": "code",
   "execution_count": 95,
   "metadata": {
    "pycharm": {
     "name": "#%%\n"
    }
   },
   "outputs": [
    {
     "data": {
      "text/plain": "   ID  confirmedCount  curedCount  deadCount    updateTime  rating\n0   1         81054.0       67024     3204.0  1.580000e+12       3\n1   2         81054.0          -1     3204.0  1.580000e+12       3\n2   3         81054.0       67024     3204.0  1.580000e+12       3\n3   4         81054.0       67024     3204.0  1.580000e+12       3\n4   5         81054.0       67024     3204.0  1.580000e+12       3",
      "text/html": "<div>\n<style scoped>\n    .dataframe tbody tr th:only-of-type {\n        vertical-align: middle;\n    }\n\n    .dataframe tbody tr th {\n        vertical-align: top;\n    }\n\n    .dataframe thead th {\n        text-align: right;\n    }\n</style>\n<table border=\"1\" class=\"dataframe\">\n  <thead>\n    <tr style=\"text-align: right;\">\n      <th></th>\n      <th>ID</th>\n      <th>confirmedCount</th>\n      <th>curedCount</th>\n      <th>deadCount</th>\n      <th>updateTime</th>\n      <th>rating</th>\n    </tr>\n  </thead>\n  <tbody>\n    <tr>\n      <th>0</th>\n      <td>1</td>\n      <td>81054.0</td>\n      <td>67024</td>\n      <td>3204.0</td>\n      <td>1.580000e+12</td>\n      <td>3</td>\n    </tr>\n    <tr>\n      <th>1</th>\n      <td>2</td>\n      <td>81054.0</td>\n      <td>-1</td>\n      <td>3204.0</td>\n      <td>1.580000e+12</td>\n      <td>3</td>\n    </tr>\n    <tr>\n      <th>2</th>\n      <td>3</td>\n      <td>81054.0</td>\n      <td>67024</td>\n      <td>3204.0</td>\n      <td>1.580000e+12</td>\n      <td>3</td>\n    </tr>\n    <tr>\n      <th>3</th>\n      <td>4</td>\n      <td>81054.0</td>\n      <td>67024</td>\n      <td>3204.0</td>\n      <td>1.580000e+12</td>\n      <td>3</td>\n    </tr>\n    <tr>\n      <th>4</th>\n      <td>5</td>\n      <td>81054.0</td>\n      <td>67024</td>\n      <td>3204.0</td>\n      <td>1.580000e+12</td>\n      <td>3</td>\n    </tr>\n  </tbody>\n</table>\n</div>"
     },
     "execution_count": 95,
     "metadata": {},
     "output_type": "execute_result"
    }
   ],
   "source": [
    "# 测试的\n",
    "raw_df = pd.read_csv(\"data-test-1.1.csv\",index_col=0)#读取数据。index_col=0：读取时不自动添加行号。\n",
    "raw_df.head()"
   ]
  },
  {
   "cell_type": "code",
   "execution_count": 96,
   "metadata": {
    "pycharm": {
     "name": "#%%\n"
    }
   },
   "outputs": [],
   "source": [
    "# 去重\n",
    "raw_data = raw_df.drop([\"rating\"], axis=1) #删除指定标签列\n",
    "labels= raw_df[\"rating\"]  #标签"
   ]
  },
  {
   "cell_type": "markdown",
   "metadata": {},
   "source": [
    "下面对丁香园的数据进行处理："
   ]
  },
  {
   "cell_type": "code",
   "execution_count": 97,
   "metadata": {
    "pycharm": {
     "name": "#%%\n"
    }
   },
   "outputs": [
    {
     "name": "stdout",
     "output_type": "stream",
     "text": [
      "   currentConfirmedCount  confirmedCount  suspectedCount  curedCount  \\\n",
      "2                 2582.0           99667            4572       92275   \n",
      "3                 2581.0           99666            4572       92275   \n",
      "5                 2577.0           99662            4572       92275   \n",
      "6                 2575.0           99654            4572       92269   \n",
      "7                 2559.0           99593            4572       92225   \n",
      "\n",
      "   deadCount  seriousCount                                   remark1  \\\n",
      "2       4810         929.0  易感人群：人群普遍易感。老年人及有基础疾病者感染后病情较重，儿童及婴幼儿也有发病   \n",
      "3       4810         929.0  易感人群：人群普遍易感。老年人及有基础疾病者感染后病情较重，儿童及婴幼儿也有发病   \n",
      "5       4810         929.0  易感人群：人群普遍易感。老年人及有基础疾病者感染后病情较重，儿童及婴幼儿也有发病   \n",
      "6       4810         929.0  易感人群：人群普遍易感。老年人及有基础疾病者感染后病情较重，儿童及婴幼儿也有发病   \n",
      "7       4809         929.0  易感人群：人群普遍易感。老年人及有基础疾病者感染后病情较重，儿童及婴幼儿也有发病   \n",
      "\n",
      "                                             remark2           remark3  \\\n",
      "2  潜伏期：一般为 3～7 天，最长不超过 14 天，潜伏期内可能存在传染性，其中无症状病例传染...  宿主：野生动物，可能为中华菊头蝠   \n",
      "3  潜伏期：一般为 3～7 天，最长不超过 14 天，潜伏期内可能存在传染性，其中无症状病例传染...  宿主：野生动物，可能为中华菊头蝠   \n",
      "5  潜伏期：一般为 3～7 天，最长不超过 14 天，潜伏期内可能存在传染性，其中无症状病例传染...  宿主：野生动物，可能为中华菊头蝠   \n",
      "6  潜伏期：一般为 3～7 天，最长不超过 14 天，潜伏期内可能存在传染性，其中无症状病例传染...  宿主：野生动物，可能为中华菊头蝠   \n",
      "7  潜伏期：一般为 3～7 天，最长不超过 14 天，潜伏期内可能存在传染性，其中无症状病例传染...  宿主：野生动物，可能为中华菊头蝠   \n",
      "\n",
      "            updateTime  \n",
      "2  2021-01-22 23:40:08  \n",
      "3  2021-01-22 19:27:02  \n",
      "5  2021-01-22 19:16:40  \n",
      "6  2021-01-22 19:14:19  \n",
      "7  2021-01-22 19:07:22  \n"
     ]
    },
    {
     "data": {
      "text/plain": "      currentConfirmedCount  confirmedCount  suspectedCount  curedCount  \\\n0                    2582.0           99667            4572       92275   \n1                    2581.0           99666            4572       92275   \n2                    2577.0           99662            4572       92275   \n3                    2575.0           99654            4572       92269   \n4                    2559.0           99593            4572       92225   \n...                     ...             ...             ...         ...   \n3412                38583.0             896            1076          36   \n3413                38583.0             894            1076          36   \n3414                38583.0             894            1076          35   \n3415                38583.0             887            1076          35   \n3416                38583.0             887            1075          35   \n\n      deadCount  seriousCount  \n0          4810         929.0  \n1          4810         929.0  \n2          4810         929.0  \n3          4810         929.0  \n4          4809         929.0  \n...         ...           ...  \n3412         26           0.0  \n3413         26           0.0  \n3414         26           0.0  \n3415         26           0.0  \n3416         26           0.0  \n\n[3417 rows x 6 columns]",
      "text/html": "<div>\n<style scoped>\n    .dataframe tbody tr th:only-of-type {\n        vertical-align: middle;\n    }\n\n    .dataframe tbody tr th {\n        vertical-align: top;\n    }\n\n    .dataframe thead th {\n        text-align: right;\n    }\n</style>\n<table border=\"1\" class=\"dataframe\">\n  <thead>\n    <tr style=\"text-align: right;\">\n      <th></th>\n      <th>currentConfirmedCount</th>\n      <th>confirmedCount</th>\n      <th>suspectedCount</th>\n      <th>curedCount</th>\n      <th>deadCount</th>\n      <th>seriousCount</th>\n    </tr>\n  </thead>\n  <tbody>\n    <tr>\n      <th>0</th>\n      <td>2582.0</td>\n      <td>99667</td>\n      <td>4572</td>\n      <td>92275</td>\n      <td>4810</td>\n      <td>929.0</td>\n    </tr>\n    <tr>\n      <th>1</th>\n      <td>2581.0</td>\n      <td>99666</td>\n      <td>4572</td>\n      <td>92275</td>\n      <td>4810</td>\n      <td>929.0</td>\n    </tr>\n    <tr>\n      <th>2</th>\n      <td>2577.0</td>\n      <td>99662</td>\n      <td>4572</td>\n      <td>92275</td>\n      <td>4810</td>\n      <td>929.0</td>\n    </tr>\n    <tr>\n      <th>3</th>\n      <td>2575.0</td>\n      <td>99654</td>\n      <td>4572</td>\n      <td>92269</td>\n      <td>4810</td>\n      <td>929.0</td>\n    </tr>\n    <tr>\n      <th>4</th>\n      <td>2559.0</td>\n      <td>99593</td>\n      <td>4572</td>\n      <td>92225</td>\n      <td>4809</td>\n      <td>929.0</td>\n    </tr>\n    <tr>\n      <th>...</th>\n      <td>...</td>\n      <td>...</td>\n      <td>...</td>\n      <td>...</td>\n      <td>...</td>\n      <td>...</td>\n    </tr>\n    <tr>\n      <th>3412</th>\n      <td>38583.0</td>\n      <td>896</td>\n      <td>1076</td>\n      <td>36</td>\n      <td>26</td>\n      <td>0.0</td>\n    </tr>\n    <tr>\n      <th>3413</th>\n      <td>38583.0</td>\n      <td>894</td>\n      <td>1076</td>\n      <td>36</td>\n      <td>26</td>\n      <td>0.0</td>\n    </tr>\n    <tr>\n      <th>3414</th>\n      <td>38583.0</td>\n      <td>894</td>\n      <td>1076</td>\n      <td>35</td>\n      <td>26</td>\n      <td>0.0</td>\n    </tr>\n    <tr>\n      <th>3415</th>\n      <td>38583.0</td>\n      <td>887</td>\n      <td>1076</td>\n      <td>35</td>\n      <td>26</td>\n      <td>0.0</td>\n    </tr>\n    <tr>\n      <th>3416</th>\n      <td>38583.0</td>\n      <td>887</td>\n      <td>1075</td>\n      <td>35</td>\n      <td>26</td>\n      <td>0.0</td>\n    </tr>\n  </tbody>\n</table>\n<p>3417 rows × 6 columns</p>\n</div>"
     },
     "execution_count": 97,
     "metadata": {},
     "output_type": "execute_result"
    }
   ],
   "source": [
    "DXY_raw_df = pd.read_csv(\"DXY-1.1.csv\",index_col=0)#读取数据。index_col=0：读取时不自动添加行号。\n",
    "print(DXY_raw_df.head())\n",
    "\n",
    "DXY_raw_data = DXY_raw_df.drop([\"remark1\"], axis=1).drop([\"remark2\"], axis=1).drop([\"remark3\"], axis=1).drop([\"updateTime\"], axis=1) #删除指定标签列\n",
    "DXY_raw_data.reset_index(drop=True,inplace=True)\n",
    "DXY_raw_data"
   ]
  },
  {
   "cell_type": "markdown",
   "metadata": {},
   "source": [
    "步骤 2\t无量纲化\n",
    "\n",
    "无量纲化的常用方法：\n",
    "\n",
    "    标准化：标准化的前提是特征值服从正态分布，标准化后，其转换成标准正态分布。\n",
    "    最大最小归一化：最小值-最大值归一化是将训练集中原始数据中特征的取值缩放到0到1之间。这种特征缩放方法实现对原始数据的等比例缩放，比较适用于数值比较集中的情况。"
   ]
  },
  {
   "cell_type": "code",
   "execution_count": 98,
   "metadata": {
    "pycharm": {
     "name": "#%%\n"
    }
   },
   "outputs": [
    {
     "data": {
      "text/plain": "             0         1         2         3         4         5\n0    -0.907733  1.121838 -0.252044  1.235711  1.143030 -0.688813\n1    -0.907779  1.121800 -0.252044  1.235711  1.143030 -0.688813\n2    -0.907964  1.121647 -0.252044  1.235711  1.143030 -0.688813\n3    -0.908057  1.121342 -0.252044  1.235541  1.143030 -0.688813\n4    -0.908796  1.119014 -0.252044  1.234293  1.142414 -0.688813\n...        ...       ...       ...       ...       ...       ...\n3412  0.756083 -2.647541 -0.684599 -1.380381 -1.803703 -0.917106\n3413  0.756083 -2.647617 -0.684599 -1.380381 -1.803703 -0.917106\n3414  0.756083 -2.647617 -0.684599 -1.380409 -1.803703 -0.917106\n3415  0.756083 -2.647884 -0.684599 -1.380409 -1.803703 -0.917106\n3416  0.756083 -2.647884 -0.684723 -1.380409 -1.803703 -0.917106\n\n[3417 rows x 6 columns]",
      "text/html": "<div>\n<style scoped>\n    .dataframe tbody tr th:only-of-type {\n        vertical-align: middle;\n    }\n\n    .dataframe tbody tr th {\n        vertical-align: top;\n    }\n\n    .dataframe thead th {\n        text-align: right;\n    }\n</style>\n<table border=\"1\" class=\"dataframe\">\n  <thead>\n    <tr style=\"text-align: right;\">\n      <th></th>\n      <th>0</th>\n      <th>1</th>\n      <th>2</th>\n      <th>3</th>\n      <th>4</th>\n      <th>5</th>\n    </tr>\n  </thead>\n  <tbody>\n    <tr>\n      <th>0</th>\n      <td>-0.907733</td>\n      <td>1.121838</td>\n      <td>-0.252044</td>\n      <td>1.235711</td>\n      <td>1.143030</td>\n      <td>-0.688813</td>\n    </tr>\n    <tr>\n      <th>1</th>\n      <td>-0.907779</td>\n      <td>1.121800</td>\n      <td>-0.252044</td>\n      <td>1.235711</td>\n      <td>1.143030</td>\n      <td>-0.688813</td>\n    </tr>\n    <tr>\n      <th>2</th>\n      <td>-0.907964</td>\n      <td>1.121647</td>\n      <td>-0.252044</td>\n      <td>1.235711</td>\n      <td>1.143030</td>\n      <td>-0.688813</td>\n    </tr>\n    <tr>\n      <th>3</th>\n      <td>-0.908057</td>\n      <td>1.121342</td>\n      <td>-0.252044</td>\n      <td>1.235541</td>\n      <td>1.143030</td>\n      <td>-0.688813</td>\n    </tr>\n    <tr>\n      <th>4</th>\n      <td>-0.908796</td>\n      <td>1.119014</td>\n      <td>-0.252044</td>\n      <td>1.234293</td>\n      <td>1.142414</td>\n      <td>-0.688813</td>\n    </tr>\n    <tr>\n      <th>...</th>\n      <td>...</td>\n      <td>...</td>\n      <td>...</td>\n      <td>...</td>\n      <td>...</td>\n      <td>...</td>\n    </tr>\n    <tr>\n      <th>3412</th>\n      <td>0.756083</td>\n      <td>-2.647541</td>\n      <td>-0.684599</td>\n      <td>-1.380381</td>\n      <td>-1.803703</td>\n      <td>-0.917106</td>\n    </tr>\n    <tr>\n      <th>3413</th>\n      <td>0.756083</td>\n      <td>-2.647617</td>\n      <td>-0.684599</td>\n      <td>-1.380381</td>\n      <td>-1.803703</td>\n      <td>-0.917106</td>\n    </tr>\n    <tr>\n      <th>3414</th>\n      <td>0.756083</td>\n      <td>-2.647617</td>\n      <td>-0.684599</td>\n      <td>-1.380409</td>\n      <td>-1.803703</td>\n      <td>-0.917106</td>\n    </tr>\n    <tr>\n      <th>3415</th>\n      <td>0.756083</td>\n      <td>-2.647884</td>\n      <td>-0.684599</td>\n      <td>-1.380409</td>\n      <td>-1.803703</td>\n      <td>-0.917106</td>\n    </tr>\n    <tr>\n      <th>3416</th>\n      <td>0.756083</td>\n      <td>-2.647884</td>\n      <td>-0.684723</td>\n      <td>-1.380409</td>\n      <td>-1.803703</td>\n      <td>-0.917106</td>\n    </tr>\n  </tbody>\n</table>\n<p>3417 rows × 6 columns</p>\n</div>"
     },
     "execution_count": 98,
     "metadata": {},
     "output_type": "execute_result"
    }
   ],
   "source": [
    "from sklearn.preprocessing import StandardScaler\n",
    "sc_X=StandardScaler(copy=True)\n",
    "data = pd.DataFrame(sc_X.fit_transform(DXY_raw_data))\n",
    "data"
   ]
  },
  {
   "cell_type": "markdown",
   "metadata": {},
   "source": [
    "###  步骤 3\t方差选择法\n",
    "\n",
    "首先我们用方差选择方作为特征选择的预处理。"
   ]
  },
  {
   "cell_type": "code",
   "execution_count": 99,
   "metadata": {
    "pycharm": {
     "name": "#%%\n"
    }
   },
   "outputs": [
    {
     "data": {
      "text/plain": "(3417, 6)"
     },
     "execution_count": 99,
     "metadata": {},
     "output_type": "execute_result"
    }
   ],
   "source": [
    "from sklearn.feature_selection import SelectKBest\n",
    "from sklearn.feature_selection import chi2\n",
    "from sklearn.feature_selection import VarianceThreshold\n",
    "#这里我们使用原始数据\n",
    "labels = DXY_raw_data[\"currentConfirmedCount\"]\n",
    "data_after_var = VarianceThreshold(threshold=0.01).fit_transform(DXY_raw_data) #使用阈值0.01进行选择\n",
    "data_after_var.shape"
   ]
  },
  {
   "cell_type": "code",
   "execution_count": 100,
   "metadata": {
    "pycharm": {
     "name": "#%%\n"
    }
   },
   "outputs": [],
   "source": [
    "data_after_var = pd.concat([pd.DataFrame(data_after_var),labels],axis=1)\n",
    "data_after_var.to_csv(\"data_after_var.csv\")"
   ]
  },
  {
   "cell_type": "markdown",
   "metadata": {},
   "source": [
    "### 步骤 4\t皮尔森关系系数\n",
    "\n",
    "对于数值数据我们，首先用皮尔森关系系数做特征选择。\n",
    "皮尔森相关系数是一种最简单的、能帮助理解特征和标签变量之间关系的方法。\n",
    "它衡量的是变量之间的线性相关性，其值在-1,1之间；其中1代表变量完全正相关，-1代表完全负相关。\n",
    "\n",
    "**pearsonr(X,Y):**\n",
    "\n",
    "    X：样本数据；\n",
    "    Y：样本标签\n",
    "    返回值：第一项是皮尔森相关系数，第二项是p_value值。一般来说皮尔森相关系数越大，p_value越小，线性相关性就越大"
   ]
  },
  {
   "cell_type": "code",
   "execution_count": 101,
   "metadata": {
    "pycharm": {
     "name": "#%%\n"
    }
   },
   "outputs": [
    {
     "data": {
      "text/plain": "      confirmedCount  suspectedCount  curedCount  deadCount  seriousCount\n0              99667            4572       92275       4810         929.0\n1              99666            4572       92275       4810         929.0\n2              99662            4572       92275       4810         929.0\n3              99654            4572       92269       4810         929.0\n4              99593            4572       92225       4809         929.0\n...              ...             ...         ...        ...           ...\n3412             896            1076          36         26           0.0\n3413             894            1076          36         26           0.0\n3414             894            1076          35         26           0.0\n3415             887            1076          35         26           0.0\n3416             887            1075          35         26           0.0\n\n[3417 rows x 5 columns]",
      "text/html": "<div>\n<style scoped>\n    .dataframe tbody tr th:only-of-type {\n        vertical-align: middle;\n    }\n\n    .dataframe tbody tr th {\n        vertical-align: top;\n    }\n\n    .dataframe thead th {\n        text-align: right;\n    }\n</style>\n<table border=\"1\" class=\"dataframe\">\n  <thead>\n    <tr style=\"text-align: right;\">\n      <th></th>\n      <th>confirmedCount</th>\n      <th>suspectedCount</th>\n      <th>curedCount</th>\n      <th>deadCount</th>\n      <th>seriousCount</th>\n    </tr>\n  </thead>\n  <tbody>\n    <tr>\n      <th>0</th>\n      <td>99667</td>\n      <td>4572</td>\n      <td>92275</td>\n      <td>4810</td>\n      <td>929.0</td>\n    </tr>\n    <tr>\n      <th>1</th>\n      <td>99666</td>\n      <td>4572</td>\n      <td>92275</td>\n      <td>4810</td>\n      <td>929.0</td>\n    </tr>\n    <tr>\n      <th>2</th>\n      <td>99662</td>\n      <td>4572</td>\n      <td>92275</td>\n      <td>4810</td>\n      <td>929.0</td>\n    </tr>\n    <tr>\n      <th>3</th>\n      <td>99654</td>\n      <td>4572</td>\n      <td>92269</td>\n      <td>4810</td>\n      <td>929.0</td>\n    </tr>\n    <tr>\n      <th>4</th>\n      <td>99593</td>\n      <td>4572</td>\n      <td>92225</td>\n      <td>4809</td>\n      <td>929.0</td>\n    </tr>\n    <tr>\n      <th>...</th>\n      <td>...</td>\n      <td>...</td>\n      <td>...</td>\n      <td>...</td>\n      <td>...</td>\n    </tr>\n    <tr>\n      <th>3412</th>\n      <td>896</td>\n      <td>1076</td>\n      <td>36</td>\n      <td>26</td>\n      <td>0.0</td>\n    </tr>\n    <tr>\n      <th>3413</th>\n      <td>894</td>\n      <td>1076</td>\n      <td>36</td>\n      <td>26</td>\n      <td>0.0</td>\n    </tr>\n    <tr>\n      <th>3414</th>\n      <td>894</td>\n      <td>1076</td>\n      <td>35</td>\n      <td>26</td>\n      <td>0.0</td>\n    </tr>\n    <tr>\n      <th>3415</th>\n      <td>887</td>\n      <td>1076</td>\n      <td>35</td>\n      <td>26</td>\n      <td>0.0</td>\n    </tr>\n    <tr>\n      <th>3416</th>\n      <td>887</td>\n      <td>1075</td>\n      <td>35</td>\n      <td>26</td>\n      <td>0.0</td>\n    </tr>\n  </tbody>\n</table>\n<p>3417 rows × 5 columns</p>\n</div>"
     },
     "execution_count": 101,
     "metadata": {},
     "output_type": "execute_result"
    }
   ],
   "source": [
    "data_numerical =DXY_raw_data[[\"confirmedCount\",\"suspectedCount\",\"curedCount\",\"deadCount\",\"seriousCount\"]]\n",
    "data_numerical"
   ]
  },
  {
   "cell_type": "code",
   "execution_count": 102,
   "metadata": {
    "pycharm": {
     "name": "#%%\n"
    }
   },
   "outputs": [
    {
     "name": "stdout",
     "output_type": "stream",
     "text": [
      "(-0.5723262588120936, 1.2550285038726336e-296)\n",
      "(0.5018266500136823, 1.948905146344039e-217)\n",
      "(-0.9238383179630001, 0.0)\n",
      "(-0.8193752038101727, 0.0)\n",
      "(0.8404818693379088, 0.0)\n"
     ]
    }
   ],
   "source": [
    "from sklearn.feature_selection import SelectKBest\n",
    "from scipy.stats import pearsonr\n",
    "\n",
    "print(pearsonr(data_numerical[\"confirmedCount\"],labels))\n",
    "print(pearsonr(data_numerical[\"suspectedCount\"], labels))\n",
    "print(pearsonr(data_numerical[\"curedCount\"], labels))\n",
    "print(pearsonr(data_numerical[\"deadCount\"],labels))\n",
    "print(pearsonr(data_numerical[\"seriousCount\"],labels))"
   ]
  },
  {
   "cell_type": "markdown",
   "metadata": {},
   "source": [
    "根据皮尔森关系系数，你能判断特征的重要性吗？\n"
   ]
  },
  {
   "cell_type": "raw",
   "metadata": {},
   "source": [
    "皮尔森关系系数衡量的是变量之间的线性相关性，其值在-1,1之间；其中1代表变量完全正相关，-1代表完全负相关。\n",
    "分析：p-value越小，表示相关程度越显著。按照文档的说法\n",
    "“The p-values are not entirely reliable but are probably reasonable for datasets larger than 500 or so.”，\n",
    "p-value在500个样本值以上有较高的可靠性，这里currentConfirmedCount作为维度，得到的结果来看,\n",
    "currentConfirmedCount和deadCount、suspectedCount比较相关。\n"
   ]
  },
  {
   "cell_type": "markdown",
   "metadata": {},
   "source": [
    "如果特征比较多的话，用SelectKBest保留前k个特征（取top k)，方法具体为：\n",
    "\n",
    "**sklearn.feature_selection.SelectKBest(score_func=<function f_classif>, k=10)**，\n",
    "\n",
    "主要参数如下：\n",
    "\n",
    "    score_func：选择卡方检验方法，其函数名称为chi2，并返回一对数组（得分，pvalues）或带有分数的单个数组。默认值为f_classif（适用于分类任务）。\n",
    "    k：默认= 10，表示所选特征数。\n",
    "\n",
    "主要属性为：\n",
    "\n",
    "    scores_：array-like，shape =（n_features，），即该特征在该特征选择方法下的得分；\n",
    "    pvalues_：array-like，shape =（n_features，），特征分数的p值，如果score_func仅返回分数，则为无。\n",
    "\n",
    "**对于课上介绍的过滤法，本次实验的数据集和任务，哪种方法更合适呢？请描述清楚选择的依据。**\n",
    "\n",
    "这里推荐使用的是皮尔逊关系系数法，\n",
    "皮尔逊关系系数法得到的参数表格相对比较少，可以比较直观地看到某一个维度和另外几个维度彼此的关系，\n",
    "用更少的参数展现出来。\n",
    "得到两个参数r和p，其中 r值越大，p值越小，表示相关系数越显著。\n",
    "其他的方式来看，得到的数据会以表的形式展现，数据相对比较多，\n",
    "虽然可能会挖掘到更多的结果，但是不够直观。\n",
    "\n"
   ]
  },
  {
   "cell_type": "code",
   "execution_count": 103,
   "metadata": {
    "pycharm": {
     "name": "#%%\n"
    }
   },
   "outputs": [
    {
     "data": {
      "text/plain": "   curedCount  confirmedCount\n0      4572.0           929.0\n1      4572.0           929.0\n2      4572.0           929.0\n3      4572.0           929.0\n4      4572.0           929.0",
      "text/html": "<div>\n<style scoped>\n    .dataframe tbody tr th:only-of-type {\n        vertical-align: middle;\n    }\n\n    .dataframe tbody tr th {\n        vertical-align: top;\n    }\n\n    .dataframe thead th {\n        text-align: right;\n    }\n</style>\n<table border=\"1\" class=\"dataframe\">\n  <thead>\n    <tr style=\"text-align: right;\">\n      <th></th>\n      <th>curedCount</th>\n      <th>confirmedCount</th>\n    </tr>\n  </thead>\n  <tbody>\n    <tr>\n      <th>0</th>\n      <td>4572.0</td>\n      <td>929.0</td>\n    </tr>\n    <tr>\n      <th>1</th>\n      <td>4572.0</td>\n      <td>929.0</td>\n    </tr>\n    <tr>\n      <th>2</th>\n      <td>4572.0</td>\n      <td>929.0</td>\n    </tr>\n    <tr>\n      <th>3</th>\n      <td>4572.0</td>\n      <td>929.0</td>\n    </tr>\n    <tr>\n      <th>4</th>\n      <td>4572.0</td>\n      <td>929.0</td>\n    </tr>\n  </tbody>\n</table>\n</div>"
     },
     "execution_count": 103,
     "metadata": {},
     "output_type": "execute_result"
    }
   ],
   "source": [
    "data_numerical = SelectKBest(lambda X,Y:np.array(list(map(lambda x:pearsonr(x,Y),X.T))).T[0],k=2).fit_transform(data_numerical,labels)\n",
    "data_numerical = pd.DataFrame(data_numerical,columns={\"confirmedCount\",\"curedCount\"})\n",
    "data_numerical.head()"
   ]
  },
  {
   "cell_type": "markdown",
   "metadata": {},
   "source": [
    "## 降维\n",
    "\n",
    "PCA的思想是将n维特征映射到k维上(k<n)，\n",
    "这k维是全新的正交特征。\n",
    "这k维特征称为主成分，是重新构造出来的k维特征，\n",
    "而不是简单地从n维特征中去除其余n-k维特征（这也是与特征选择特征子集的方法的区别）。\n",
    "在sklearn中，实现PCA降维的方法为：\n",
    "\n",
    "**sklearn.decomposition.PCA(n_components=None, copy=True, svd_solver='auto')**\n",
    "\n",
    "    n_components：PCA降维后的特征维度数目，或者是主成分的方差和所占的最小比例阈值。\n",
    "    copy：表示是否将原始数据复制一份。默认为True，则运行PCA算法后，原始数据的值不会有任何改变。\n",
    "    svd_solver：指定奇异值分解SVD的方法。有4个可以选择的值：{‘auto’, ‘full’, ‘arpack’, ‘randomized’}。\n",
    "        'randomized' 一般适用于数据量大，数据维度多同时主成分数目比例又较低的PCA降维，它使用了一些加快SVD的随机算法。\n",
    "        'full' 则是传统意义上的SVD，使用了scipy库对应的实现。\n",
    "        'arpack' 和randomized的适用场景类似，区别是randomized使用的是scikit-learn自己的SVD实现，而arpack直接使用了scipy库的sparse SVD实现。当svd_solve设置为'arpack'时，保留的成分必须少于特征数，即不能保留所有成分。\n",
    "        默认是'auto'，即PCA类会自己去在前面讲到的三种算法里面去权衡，选择一个合适的SVD算法来降维。一般来说，使用默认值就够了。"
   ]
  },
  {
   "cell_type": "code",
   "execution_count": 104,
   "metadata": {
    "pycharm": {
     "name": "#%%\n"
    }
   },
   "outputs": [
    {
     "data": {
      "text/plain": "             0         1\n0    -2.243030 -0.101300\n1    -2.243035 -0.101335\n2    -2.243054 -0.101471\n3    -2.242892 -0.101640\n4    -2.241409 -0.103015\n...        ...       ...\n3412  2.351507 -1.534630\n3413  2.351537 -1.534665\n3414  2.351551 -1.534664\n3415  2.351657 -1.534787\n3416  2.351612 -1.534741\n\n[3417 rows x 2 columns]",
      "text/html": "<div>\n<style scoped>\n    .dataframe tbody tr th:only-of-type {\n        vertical-align: middle;\n    }\n\n    .dataframe tbody tr th {\n        vertical-align: top;\n    }\n\n    .dataframe thead th {\n        text-align: right;\n    }\n</style>\n<table border=\"1\" class=\"dataframe\">\n  <thead>\n    <tr style=\"text-align: right;\">\n      <th></th>\n      <th>0</th>\n      <th>1</th>\n    </tr>\n  </thead>\n  <tbody>\n    <tr>\n      <th>0</th>\n      <td>-2.243030</td>\n      <td>-0.101300</td>\n    </tr>\n    <tr>\n      <th>1</th>\n      <td>-2.243035</td>\n      <td>-0.101335</td>\n    </tr>\n    <tr>\n      <th>2</th>\n      <td>-2.243054</td>\n      <td>-0.101471</td>\n    </tr>\n    <tr>\n      <th>3</th>\n      <td>-2.242892</td>\n      <td>-0.101640</td>\n    </tr>\n    <tr>\n      <th>4</th>\n      <td>-2.241409</td>\n      <td>-0.103015</td>\n    </tr>\n    <tr>\n      <th>...</th>\n      <td>...</td>\n      <td>...</td>\n    </tr>\n    <tr>\n      <th>3412</th>\n      <td>2.351507</td>\n      <td>-1.534630</td>\n    </tr>\n    <tr>\n      <th>3413</th>\n      <td>2.351537</td>\n      <td>-1.534665</td>\n    </tr>\n    <tr>\n      <th>3414</th>\n      <td>2.351551</td>\n      <td>-1.534664</td>\n    </tr>\n    <tr>\n      <th>3415</th>\n      <td>2.351657</td>\n      <td>-1.534787</td>\n    </tr>\n    <tr>\n      <th>3416</th>\n      <td>2.351612</td>\n      <td>-1.534741</td>\n    </tr>\n  </tbody>\n</table>\n<p>3417 rows × 2 columns</p>\n</div>"
     },
     "execution_count": 104,
     "metadata": {},
     "output_type": "execute_result"
    }
   ],
   "source": [
    "from sklearn.decomposition import PCA\n",
    "pca = PCA(n_components=0.85)\n",
    "data_after_pca=pd.DataFrame(pca.fit_transform(data))\n",
    "data_after_pca"
   ]
  },
  {
   "cell_type": "markdown",
   "metadata": {},
   "source": [
    "经过PCA降维后，我们将多维的特征转换为2维的特征，同时保存了85%较高的的信息量。\n",
    "\n",
    "### 步骤 2\t可视化"
   ]
  },
  {
   "cell_type": "code",
   "execution_count": 105,
   "metadata": {
    "pycharm": {
     "name": "#%%\n"
    }
   },
   "outputs": [
    {
     "data": {
      "text/plain": "          0         1  currentConfirmedCount\n0 -2.243030 -0.101300                 2582.0\n1 -2.243035 -0.101335                 2581.0\n2 -2.243054 -0.101471                 2577.0\n3 -2.242892 -0.101640                 2575.0\n4 -2.241409 -0.103015                 2559.0",
      "text/html": "<div>\n<style scoped>\n    .dataframe tbody tr th:only-of-type {\n        vertical-align: middle;\n    }\n\n    .dataframe tbody tr th {\n        vertical-align: top;\n    }\n\n    .dataframe thead th {\n        text-align: right;\n    }\n</style>\n<table border=\"1\" class=\"dataframe\">\n  <thead>\n    <tr style=\"text-align: right;\">\n      <th></th>\n      <th>0</th>\n      <th>1</th>\n      <th>currentConfirmedCount</th>\n    </tr>\n  </thead>\n  <tbody>\n    <tr>\n      <th>0</th>\n      <td>-2.243030</td>\n      <td>-0.101300</td>\n      <td>2582.0</td>\n    </tr>\n    <tr>\n      <th>1</th>\n      <td>-2.243035</td>\n      <td>-0.101335</td>\n      <td>2581.0</td>\n    </tr>\n    <tr>\n      <th>2</th>\n      <td>-2.243054</td>\n      <td>-0.101471</td>\n      <td>2577.0</td>\n    </tr>\n    <tr>\n      <th>3</th>\n      <td>-2.242892</td>\n      <td>-0.101640</td>\n      <td>2575.0</td>\n    </tr>\n    <tr>\n      <th>4</th>\n      <td>-2.241409</td>\n      <td>-0.103015</td>\n      <td>2559.0</td>\n    </tr>\n  </tbody>\n</table>\n</div>"
     },
     "execution_count": 105,
     "metadata": {},
     "output_type": "execute_result"
    }
   ],
   "source": [
    "scaled_labels = pd.DataFrame(labels.astype(\"int\"),columns={\"currentConfirmedCount\"})\n",
    "data_after_pca_withlabels = pd.concat([data_after_pca,labels],axis=1)\n",
    "data_after_pca_withlabels.to_csv(\"after_pca.csv\")\n",
    "data_after_pca_withlabels.head()"
   ]
  },
  {
   "cell_type": "code",
   "execution_count": 106,
   "metadata": {
    "pycharm": {
     "name": "#%%\n"
    }
   },
   "outputs": [
    {
     "data": {
      "text/plain": "<Figure size 432x288 with 1 Axes>",
      "image/png": "[encoded data removed]"
     },
     "metadata": {},
     "output_type": "display_data"
    }
   ],
   "source": [
    "import matplotlib.pyplot as plt\n",
    "def draw_graph(X):\n",
    "    for i in range(100,150):\n",
    "        plt.scatter(data_after_pca_withlabels.loc[data_after_pca_withlabels.currentConfirmedCount==i,0],\n",
    "                    data_after_pca_withlabels.loc[data_after_pca_withlabels.currentConfirmedCount==i,1], alpha=0.9, label='%s' % i)\n",
    "    plt.legend()\n",
    "    plt.show()\n",
    "draw_graph(data)"
   ]
  },
  {
   "cell_type": "markdown",
   "metadata": {},
   "source": [
    "注意参数i和currentConfirmedCount有关,由于本维度选取是对currentConfirmedCount执行，而该维度数据比较多且不同，\n",
    "因此不适用作图展示。观察到参数50条，不同颜色，但是currentConfirmedCount总体和对应的度量依然是相关的，\n",
    "随着currentConfirmedCount增加对应的度量值也出现增加的线性相关，而且到x=-2.015越来越密，表现出数据聚集的或者对应相同的度量值较多。\n",
    "\n",
    "也可以选择修整参数观测。"
   ]
  }
 ],
 "metadata": {
  "kernelspec": {
   "display_name": "PyCharm (pythonProject)",
   "language": "python",
   "name": "pycharm-5941a300"
  },
  "language_info": {
   "codemirror_mode": {
    "name": "ipython",
    "version": 3
   },
   "file_extension": ".py",
   "mimetype": "text/x-python",
   "name": "python",
   "nbconvert_exporter": "python",
   "pygments_lexer": "ipython3",
   "version": "3.8.5"
  }
 },
 "nbformat": 4,
 "nbformat_minor": 1
}